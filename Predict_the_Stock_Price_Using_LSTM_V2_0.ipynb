{
  "cells": [
    {
      "cell_type": "markdown",
      "metadata": {
        "id": "view-in-github",
        "colab_type": "text"
      },
      "source": [
        "<a href=\"https://colab.research.google.com/github/cgpan/predict_stock_lstm/blob/main/Predict_the_Stock_Price_Using_LSTM_V2_0.ipynb\" target=\"_parent\"><img src=\"https://colab.research.google.com/assets/colab-badge.svg\" alt=\"Open In Colab\"/></a>"
      ]
    },
    {
      "cell_type": "markdown",
      "source": [
        "# Prep 0. Some Necessary Modules and Their Documentations\n",
        "- yfinance:to gain the stock data https://analyzingalpha.com/yfinance-python\n",
        "- pandas: to manage the data https://pandas.pydata.org/docs/\n",
        "- numpy: for scientific computation and change the data type before sending to the machine leanring model. https://numpy.org/doc/stable/\n",
        "- keras: a highly-integrated machine learning model frame. https://keras.io/api/\n",
        "- matplotlib: a data visualization tool to draw any graphs. https://matplotlib.org/stable/tutorials/index"
      ],
      "metadata": {
        "id": "BTc-C3zTbutQ"
      },
      "id": "BTc-C3zTbutQ"
    },
    {
      "cell_type": "markdown",
      "source": [
        "# Stage 0. Understand the general process of any data mining.\n",
        "- Data Collection: try to find the data no matter using api or crawler;\n",
        "- Data Management: to add/delete/select/re-order/adjust the data and its format\n",
        "- Feature Engineering: to extract the necessary feature of data\n",
        "- Train-, Valid-, and Test- Dataset: Split the original dataset into three pieces.\n",
        "- Model Building\n",
        "- Predict"
      ],
      "metadata": {
        "id": "pqOvFMgGqcnY"
      },
      "id": "pqOvFMgGqcnY"
    },
    {
      "cell_type": "markdown",
      "id": "6ab629a3",
      "metadata": {
        "id": "6ab629a3"
      },
      "source": [
        "# Stage 1. Stock Data Management Using Yfinance"
      ]
    },
    {
      "cell_type": "code",
      "source": [
        "# Since the google's remote server does not have a module called yfinance\n",
        "!pip install yfinance"
      ],
      "metadata": {
        "colab": {
          "base_uri": "https://localhost:8080/"
        },
        "collapsed": true,
        "id": "vzOS_qupBRYQ",
        "outputId": "224ce533-9143-42b6-f696-fc5b5bf5c32b"
      },
      "id": "vzOS_qupBRYQ",
      "execution_count": null,
      "outputs": [
        {
          "output_type": "stream",
          "name": "stdout",
          "text": [
            "Looking in indexes: https://pypi.org/simple, https://us-python.pkg.dev/colab-wheels/public/simple/\n",
            "Collecting yfinance\n",
            "  Downloading yfinance-0.1.74-py2.py3-none-any.whl (27 kB)\n",
            "Requirement already satisfied: numpy>=1.15 in /usr/local/lib/python3.7/dist-packages (from yfinance) (1.21.6)\n",
            "Collecting lxml>=4.5.1\n",
            "  Downloading lxml-4.9.1-cp37-cp37m-manylinux_2_17_x86_64.manylinux2014_x86_64.manylinux_2_24_x86_64.whl (6.4 MB)\n",
            "\u001b[K     |████████████████████████████████| 6.4 MB 45.3 MB/s \n",
            "\u001b[?25hRequirement already satisfied: multitasking>=0.0.7 in /usr/local/lib/python3.7/dist-packages (from yfinance) (0.0.11)\n",
            "Requirement already satisfied: pandas>=0.24.0 in /usr/local/lib/python3.7/dist-packages (from yfinance) (1.3.5)\n",
            "Collecting requests>=2.26\n",
            "  Downloading requests-2.28.1-py3-none-any.whl (62 kB)\n",
            "\u001b[K     |████████████████████████████████| 62 kB 1.5 MB/s \n",
            "\u001b[?25hRequirement already satisfied: pytz>=2017.3 in /usr/local/lib/python3.7/dist-packages (from pandas>=0.24.0->yfinance) (2022.1)\n",
            "Requirement already satisfied: python-dateutil>=2.7.3 in /usr/local/lib/python3.7/dist-packages (from pandas>=0.24.0->yfinance) (2.8.2)\n",
            "Requirement already satisfied: six>=1.5 in /usr/local/lib/python3.7/dist-packages (from python-dateutil>=2.7.3->pandas>=0.24.0->yfinance) (1.15.0)\n",
            "Requirement already satisfied: urllib3<1.27,>=1.21.1 in /usr/local/lib/python3.7/dist-packages (from requests>=2.26->yfinance) (1.24.3)\n",
            "Requirement already satisfied: charset-normalizer<3,>=2 in /usr/local/lib/python3.7/dist-packages (from requests>=2.26->yfinance) (2.1.0)\n",
            "Requirement already satisfied: certifi>=2017.4.17 in /usr/local/lib/python3.7/dist-packages (from requests>=2.26->yfinance) (2022.6.15)\n",
            "Requirement already satisfied: idna<4,>=2.5 in /usr/local/lib/python3.7/dist-packages (from requests>=2.26->yfinance) (2.10)\n",
            "Installing collected packages: requests, lxml, yfinance\n",
            "  Attempting uninstall: requests\n",
            "    Found existing installation: requests 2.23.0\n",
            "    Uninstalling requests-2.23.0:\n",
            "      Successfully uninstalled requests-2.23.0\n",
            "  Attempting uninstall: lxml\n",
            "    Found existing installation: lxml 4.2.6\n",
            "    Uninstalling lxml-4.2.6:\n",
            "      Successfully uninstalled lxml-4.2.6\n",
            "\u001b[31mERROR: pip's dependency resolver does not currently take into account all the packages that are installed. This behaviour is the source of the following dependency conflicts.\n",
            "google-colab 1.0.0 requires requests~=2.23.0, but you have requests 2.28.1 which is incompatible.\n",
            "datascience 0.10.6 requires folium==0.2.1, but you have folium 0.8.3 which is incompatible.\u001b[0m\n",
            "Successfully installed lxml-4.9.1 requests-2.28.1 yfinance-0.1.74\n"
          ]
        }
      ]
    },
    {
      "cell_type": "markdown",
      "id": "ece1554f",
      "metadata": {
        "id": "ece1554f"
      },
      "source": [
        "## 1.0 install and import the module yfinance"
      ]
    },
    {
      "cell_type": "markdown",
      "id": "f129a8d6",
      "metadata": {
        "id": "f129a8d6"
      },
      "source": [
        "see this page for more tutorials https://analyzingalpha.com/yfinance-python"
      ]
    },
    {
      "cell_type": "code",
      "execution_count": null,
      "id": "f7d8f440",
      "metadata": {
        "id": "f7d8f440"
      },
      "outputs": [],
      "source": [
        "import yfinance as yf\n",
        "from matplotlib import pyplot as plt\n",
        "import pandas as pd\n",
        "import numpy as np"
      ]
    },
    {
      "cell_type": "markdown",
      "id": "28430b08",
      "metadata": {
        "id": "28430b08"
      },
      "source": [
        "## 2.0 get the stock price data using .history()"
      ]
    },
    {
      "cell_type": "markdown",
      "id": "5d33b6cd",
      "metadata": {
        "id": "5d33b6cd"
      },
      "source": [
        "关于.history()的source code 可以提供各种参数的介绍，可以点击上述网址"
      ]
    },
    {
      "cell_type": "code",
      "execution_count": null,
      "id": "6e0044bb",
      "metadata": {
        "id": "6e0044bb"
      },
      "outputs": [],
      "source": [
        "# make sure the ticker's code, like \"AAPL\" for aplle inc.\n",
        "apple_ticker = yf.Ticker(\"AAPL\")\n",
        "# by default the .history() will give one month daily price of a ticker\n",
        "apple_1mon = apple_ticker.history()"
      ]
    },
    {
      "cell_type": "code",
      "execution_count": null,
      "id": "474d4cc1",
      "metadata": {
        "colab": {
          "base_uri": "https://localhost:8080/",
          "height": 238
        },
        "id": "474d4cc1",
        "outputId": "71effbaf-3926-47f0-ae11-a78f6f2c8020"
      },
      "outputs": [
        {
          "output_type": "execute_result",
          "data": {
            "text/plain": [
              "                  Open        High         Low       Close     Volume  \\\n",
              "Date                                                                    \n",
              "2022-06-09  147.080002  147.949997  142.529999  142.639999   69473000   \n",
              "2022-06-10  140.279999  140.759995  137.059998  137.130005   91437900   \n",
              "2022-06-13  132.869995  135.199997  131.440002  131.880005  122207100   \n",
              "2022-06-14  133.130005  133.889999  131.479996  132.759995   84784300   \n",
              "2022-06-15  134.289993  137.339996  132.160004  135.429993   91533000   \n",
              "\n",
              "            Dividends  Stock Splits  \n",
              "Date                                 \n",
              "2022-06-09          0             0  \n",
              "2022-06-10          0             0  \n",
              "2022-06-13          0             0  \n",
              "2022-06-14          0             0  \n",
              "2022-06-15          0             0  "
            ],
            "text/html": [
              "\n",
              "  <div id=\"df-f6636793-4324-489d-822b-b7e077170472\">\n",
              "    <div class=\"colab-df-container\">\n",
              "      <div>\n",
              "<style scoped>\n",
              "    .dataframe tbody tr th:only-of-type {\n",
              "        vertical-align: middle;\n",
              "    }\n",
              "\n",
              "    .dataframe tbody tr th {\n",
              "        vertical-align: top;\n",
              "    }\n",
              "\n",
              "    .dataframe thead th {\n",
              "        text-align: right;\n",
              "    }\n",
              "</style>\n",
              "<table border=\"1\" class=\"dataframe\">\n",
              "  <thead>\n",
              "    <tr style=\"text-align: right;\">\n",
              "      <th></th>\n",
              "      <th>Open</th>\n",
              "      <th>High</th>\n",
              "      <th>Low</th>\n",
              "      <th>Close</th>\n",
              "      <th>Volume</th>\n",
              "      <th>Dividends</th>\n",
              "      <th>Stock Splits</th>\n",
              "    </tr>\n",
              "    <tr>\n",
              "      <th>Date</th>\n",
              "      <th></th>\n",
              "      <th></th>\n",
              "      <th></th>\n",
              "      <th></th>\n",
              "      <th></th>\n",
              "      <th></th>\n",
              "      <th></th>\n",
              "    </tr>\n",
              "  </thead>\n",
              "  <tbody>\n",
              "    <tr>\n",
              "      <th>2022-06-09</th>\n",
              "      <td>147.080002</td>\n",
              "      <td>147.949997</td>\n",
              "      <td>142.529999</td>\n",
              "      <td>142.639999</td>\n",
              "      <td>69473000</td>\n",
              "      <td>0</td>\n",
              "      <td>0</td>\n",
              "    </tr>\n",
              "    <tr>\n",
              "      <th>2022-06-10</th>\n",
              "      <td>140.279999</td>\n",
              "      <td>140.759995</td>\n",
              "      <td>137.059998</td>\n",
              "      <td>137.130005</td>\n",
              "      <td>91437900</td>\n",
              "      <td>0</td>\n",
              "      <td>0</td>\n",
              "    </tr>\n",
              "    <tr>\n",
              "      <th>2022-06-13</th>\n",
              "      <td>132.869995</td>\n",
              "      <td>135.199997</td>\n",
              "      <td>131.440002</td>\n",
              "      <td>131.880005</td>\n",
              "      <td>122207100</td>\n",
              "      <td>0</td>\n",
              "      <td>0</td>\n",
              "    </tr>\n",
              "    <tr>\n",
              "      <th>2022-06-14</th>\n",
              "      <td>133.130005</td>\n",
              "      <td>133.889999</td>\n",
              "      <td>131.479996</td>\n",
              "      <td>132.759995</td>\n",
              "      <td>84784300</td>\n",
              "      <td>0</td>\n",
              "      <td>0</td>\n",
              "    </tr>\n",
              "    <tr>\n",
              "      <th>2022-06-15</th>\n",
              "      <td>134.289993</td>\n",
              "      <td>137.339996</td>\n",
              "      <td>132.160004</td>\n",
              "      <td>135.429993</td>\n",
              "      <td>91533000</td>\n",
              "      <td>0</td>\n",
              "      <td>0</td>\n",
              "    </tr>\n",
              "  </tbody>\n",
              "</table>\n",
              "</div>\n",
              "      <button class=\"colab-df-convert\" onclick=\"convertToInteractive('df-f6636793-4324-489d-822b-b7e077170472')\"\n",
              "              title=\"Convert this dataframe to an interactive table.\"\n",
              "              style=\"display:none;\">\n",
              "        \n",
              "  <svg xmlns=\"http://www.w3.org/2000/svg\" height=\"24px\"viewBox=\"0 0 24 24\"\n",
              "       width=\"24px\">\n",
              "    <path d=\"M0 0h24v24H0V0z\" fill=\"none\"/>\n",
              "    <path d=\"M18.56 5.44l.94 2.06.94-2.06 2.06-.94-2.06-.94-.94-2.06-.94 2.06-2.06.94zm-11 1L8.5 8.5l.94-2.06 2.06-.94-2.06-.94L8.5 2.5l-.94 2.06-2.06.94zm10 10l.94 2.06.94-2.06 2.06-.94-2.06-.94-.94-2.06-.94 2.06-2.06.94z\"/><path d=\"M17.41 7.96l-1.37-1.37c-.4-.4-.92-.59-1.43-.59-.52 0-1.04.2-1.43.59L10.3 9.45l-7.72 7.72c-.78.78-.78 2.05 0 2.83L4 21.41c.39.39.9.59 1.41.59.51 0 1.02-.2 1.41-.59l7.78-7.78 2.81-2.81c.8-.78.8-2.07 0-2.86zM5.41 20L4 18.59l7.72-7.72 1.47 1.35L5.41 20z\"/>\n",
              "  </svg>\n",
              "      </button>\n",
              "      \n",
              "  <style>\n",
              "    .colab-df-container {\n",
              "      display:flex;\n",
              "      flex-wrap:wrap;\n",
              "      gap: 12px;\n",
              "    }\n",
              "\n",
              "    .colab-df-convert {\n",
              "      background-color: #E8F0FE;\n",
              "      border: none;\n",
              "      border-radius: 50%;\n",
              "      cursor: pointer;\n",
              "      display: none;\n",
              "      fill: #1967D2;\n",
              "      height: 32px;\n",
              "      padding: 0 0 0 0;\n",
              "      width: 32px;\n",
              "    }\n",
              "\n",
              "    .colab-df-convert:hover {\n",
              "      background-color: #E2EBFA;\n",
              "      box-shadow: 0px 1px 2px rgba(60, 64, 67, 0.3), 0px 1px 3px 1px rgba(60, 64, 67, 0.15);\n",
              "      fill: #174EA6;\n",
              "    }\n",
              "\n",
              "    [theme=dark] .colab-df-convert {\n",
              "      background-color: #3B4455;\n",
              "      fill: #D2E3FC;\n",
              "    }\n",
              "\n",
              "    [theme=dark] .colab-df-convert:hover {\n",
              "      background-color: #434B5C;\n",
              "      box-shadow: 0px 1px 3px 1px rgba(0, 0, 0, 0.15);\n",
              "      filter: drop-shadow(0px 1px 2px rgba(0, 0, 0, 0.3));\n",
              "      fill: #FFFFFF;\n",
              "    }\n",
              "  </style>\n",
              "\n",
              "      <script>\n",
              "        const buttonEl =\n",
              "          document.querySelector('#df-f6636793-4324-489d-822b-b7e077170472 button.colab-df-convert');\n",
              "        buttonEl.style.display =\n",
              "          google.colab.kernel.accessAllowed ? 'block' : 'none';\n",
              "\n",
              "        async function convertToInteractive(key) {\n",
              "          const element = document.querySelector('#df-f6636793-4324-489d-822b-b7e077170472');\n",
              "          const dataTable =\n",
              "            await google.colab.kernel.invokeFunction('convertToInteractive',\n",
              "                                                     [key], {});\n",
              "          if (!dataTable) return;\n",
              "\n",
              "          const docLinkHtml = 'Like what you see? Visit the ' +\n",
              "            '<a target=\"_blank\" href=https://colab.research.google.com/notebooks/data_table.ipynb>data table notebook</a>'\n",
              "            + ' to learn more about interactive tables.';\n",
              "          element.innerHTML = '';\n",
              "          dataTable['output_type'] = 'display_data';\n",
              "          await google.colab.output.renderOutput(dataTable, element);\n",
              "          const docLink = document.createElement('div');\n",
              "          docLink.innerHTML = docLinkHtml;\n",
              "          element.appendChild(docLink);\n",
              "        }\n",
              "      </script>\n",
              "    </div>\n",
              "  </div>\n",
              "  "
            ]
          },
          "metadata": {},
          "execution_count": 102
        }
      ],
      "source": [
        "apple_1mon.head()"
      ]
    },
    {
      "cell_type": "code",
      "execution_count": null,
      "id": "ba0ac5e2",
      "metadata": {
        "colab": {
          "base_uri": "https://localhost:8080/",
          "height": 238
        },
        "id": "ba0ac5e2",
        "outputId": "689ffee0-b0f4-4be2-ddff-98cea94ec25d"
      },
      "outputs": [
        {
          "output_type": "execute_result",
          "data": {
            "text/plain": [
              "                  Open        High         Low       Close    Volume  \\\n",
              "Date                                                                   \n",
              "2022-07-01  136.039993  139.039993  135.660004  138.929993  71007500   \n",
              "2022-07-05  137.770004  141.610001  136.929993  141.559998  73353800   \n",
              "2022-07-06  141.350006  144.119995  141.080002  142.919998  74064300   \n",
              "2022-07-07  143.289993  146.550003  143.279999  146.350006  66253700   \n",
              "2022-07-08  145.259995  147.550003  145.000000  147.039993  64493200   \n",
              "\n",
              "            Dividends  Stock Splits  \n",
              "Date                                 \n",
              "2022-07-01          0             0  \n",
              "2022-07-05          0             0  \n",
              "2022-07-06          0             0  \n",
              "2022-07-07          0             0  \n",
              "2022-07-08          0             0  "
            ],
            "text/html": [
              "\n",
              "  <div id=\"df-dd70da95-5c5d-4d35-961e-720e394f49e2\">\n",
              "    <div class=\"colab-df-container\">\n",
              "      <div>\n",
              "<style scoped>\n",
              "    .dataframe tbody tr th:only-of-type {\n",
              "        vertical-align: middle;\n",
              "    }\n",
              "\n",
              "    .dataframe tbody tr th {\n",
              "        vertical-align: top;\n",
              "    }\n",
              "\n",
              "    .dataframe thead th {\n",
              "        text-align: right;\n",
              "    }\n",
              "</style>\n",
              "<table border=\"1\" class=\"dataframe\">\n",
              "  <thead>\n",
              "    <tr style=\"text-align: right;\">\n",
              "      <th></th>\n",
              "      <th>Open</th>\n",
              "      <th>High</th>\n",
              "      <th>Low</th>\n",
              "      <th>Close</th>\n",
              "      <th>Volume</th>\n",
              "      <th>Dividends</th>\n",
              "      <th>Stock Splits</th>\n",
              "    </tr>\n",
              "    <tr>\n",
              "      <th>Date</th>\n",
              "      <th></th>\n",
              "      <th></th>\n",
              "      <th></th>\n",
              "      <th></th>\n",
              "      <th></th>\n",
              "      <th></th>\n",
              "      <th></th>\n",
              "    </tr>\n",
              "  </thead>\n",
              "  <tbody>\n",
              "    <tr>\n",
              "      <th>2022-07-01</th>\n",
              "      <td>136.039993</td>\n",
              "      <td>139.039993</td>\n",
              "      <td>135.660004</td>\n",
              "      <td>138.929993</td>\n",
              "      <td>71007500</td>\n",
              "      <td>0</td>\n",
              "      <td>0</td>\n",
              "    </tr>\n",
              "    <tr>\n",
              "      <th>2022-07-05</th>\n",
              "      <td>137.770004</td>\n",
              "      <td>141.610001</td>\n",
              "      <td>136.929993</td>\n",
              "      <td>141.559998</td>\n",
              "      <td>73353800</td>\n",
              "      <td>0</td>\n",
              "      <td>0</td>\n",
              "    </tr>\n",
              "    <tr>\n",
              "      <th>2022-07-06</th>\n",
              "      <td>141.350006</td>\n",
              "      <td>144.119995</td>\n",
              "      <td>141.080002</td>\n",
              "      <td>142.919998</td>\n",
              "      <td>74064300</td>\n",
              "      <td>0</td>\n",
              "      <td>0</td>\n",
              "    </tr>\n",
              "    <tr>\n",
              "      <th>2022-07-07</th>\n",
              "      <td>143.289993</td>\n",
              "      <td>146.550003</td>\n",
              "      <td>143.279999</td>\n",
              "      <td>146.350006</td>\n",
              "      <td>66253700</td>\n",
              "      <td>0</td>\n",
              "      <td>0</td>\n",
              "    </tr>\n",
              "    <tr>\n",
              "      <th>2022-07-08</th>\n",
              "      <td>145.259995</td>\n",
              "      <td>147.550003</td>\n",
              "      <td>145.000000</td>\n",
              "      <td>147.039993</td>\n",
              "      <td>64493200</td>\n",
              "      <td>0</td>\n",
              "      <td>0</td>\n",
              "    </tr>\n",
              "  </tbody>\n",
              "</table>\n",
              "</div>\n",
              "      <button class=\"colab-df-convert\" onclick=\"convertToInteractive('df-dd70da95-5c5d-4d35-961e-720e394f49e2')\"\n",
              "              title=\"Convert this dataframe to an interactive table.\"\n",
              "              style=\"display:none;\">\n",
              "        \n",
              "  <svg xmlns=\"http://www.w3.org/2000/svg\" height=\"24px\"viewBox=\"0 0 24 24\"\n",
              "       width=\"24px\">\n",
              "    <path d=\"M0 0h24v24H0V0z\" fill=\"none\"/>\n",
              "    <path d=\"M18.56 5.44l.94 2.06.94-2.06 2.06-.94-2.06-.94-.94-2.06-.94 2.06-2.06.94zm-11 1L8.5 8.5l.94-2.06 2.06-.94-2.06-.94L8.5 2.5l-.94 2.06-2.06.94zm10 10l.94 2.06.94-2.06 2.06-.94-2.06-.94-.94-2.06-.94 2.06-2.06.94z\"/><path d=\"M17.41 7.96l-1.37-1.37c-.4-.4-.92-.59-1.43-.59-.52 0-1.04.2-1.43.59L10.3 9.45l-7.72 7.72c-.78.78-.78 2.05 0 2.83L4 21.41c.39.39.9.59 1.41.59.51 0 1.02-.2 1.41-.59l7.78-7.78 2.81-2.81c.8-.78.8-2.07 0-2.86zM5.41 20L4 18.59l7.72-7.72 1.47 1.35L5.41 20z\"/>\n",
              "  </svg>\n",
              "      </button>\n",
              "      \n",
              "  <style>\n",
              "    .colab-df-container {\n",
              "      display:flex;\n",
              "      flex-wrap:wrap;\n",
              "      gap: 12px;\n",
              "    }\n",
              "\n",
              "    .colab-df-convert {\n",
              "      background-color: #E8F0FE;\n",
              "      border: none;\n",
              "      border-radius: 50%;\n",
              "      cursor: pointer;\n",
              "      display: none;\n",
              "      fill: #1967D2;\n",
              "      height: 32px;\n",
              "      padding: 0 0 0 0;\n",
              "      width: 32px;\n",
              "    }\n",
              "\n",
              "    .colab-df-convert:hover {\n",
              "      background-color: #E2EBFA;\n",
              "      box-shadow: 0px 1px 2px rgba(60, 64, 67, 0.3), 0px 1px 3px 1px rgba(60, 64, 67, 0.15);\n",
              "      fill: #174EA6;\n",
              "    }\n",
              "\n",
              "    [theme=dark] .colab-df-convert {\n",
              "      background-color: #3B4455;\n",
              "      fill: #D2E3FC;\n",
              "    }\n",
              "\n",
              "    [theme=dark] .colab-df-convert:hover {\n",
              "      background-color: #434B5C;\n",
              "      box-shadow: 0px 1px 3px 1px rgba(0, 0, 0, 0.15);\n",
              "      filter: drop-shadow(0px 1px 2px rgba(0, 0, 0, 0.3));\n",
              "      fill: #FFFFFF;\n",
              "    }\n",
              "  </style>\n",
              "\n",
              "      <script>\n",
              "        const buttonEl =\n",
              "          document.querySelector('#df-dd70da95-5c5d-4d35-961e-720e394f49e2 button.colab-df-convert');\n",
              "        buttonEl.style.display =\n",
              "          google.colab.kernel.accessAllowed ? 'block' : 'none';\n",
              "\n",
              "        async function convertToInteractive(key) {\n",
              "          const element = document.querySelector('#df-dd70da95-5c5d-4d35-961e-720e394f49e2');\n",
              "          const dataTable =\n",
              "            await google.colab.kernel.invokeFunction('convertToInteractive',\n",
              "                                                     [key], {});\n",
              "          if (!dataTable) return;\n",
              "\n",
              "          const docLinkHtml = 'Like what you see? Visit the ' +\n",
              "            '<a target=\"_blank\" href=https://colab.research.google.com/notebooks/data_table.ipynb>data table notebook</a>'\n",
              "            + ' to learn more about interactive tables.';\n",
              "          element.innerHTML = '';\n",
              "          dataTable['output_type'] = 'display_data';\n",
              "          await google.colab.output.renderOutput(dataTable, element);\n",
              "          const docLink = document.createElement('div');\n",
              "          docLink.innerHTML = docLinkHtml;\n",
              "          element.appendChild(docLink);\n",
              "        }\n",
              "      </script>\n",
              "    </div>\n",
              "  </div>\n",
              "  "
            ]
          },
          "metadata": {},
          "execution_count": 103
        }
      ],
      "source": [
        "apple_1mon.tail()"
      ]
    },
    {
      "cell_type": "code",
      "execution_count": null,
      "id": "bf3f1d30",
      "metadata": {
        "id": "bf3f1d30",
        "colab": {
          "base_uri": "https://localhost:8080/",
          "height": 316
        },
        "outputId": "5538327a-3800-462e-b6a5-d34ca67d85b9"
      },
      "outputs": [
        {
          "output_type": "error",
          "ename": "TypeError",
          "evalue": "ignored",
          "traceback": [
            "\u001b[0;31m---------------------------------------------------------------------------\u001b[0m",
            "\u001b[0;31mTypeError\u001b[0m                                 Traceback (most recent call last)",
            "\u001b[0;32m<ipython-input-5-dee611274562>\u001b[0m in \u001b[0;36m<module>\u001b[0;34m()\u001b[0m\n\u001b[0;32m----> 1\u001b[0;31m \u001b[0mapple\u001b[0m \u001b[0;34m=\u001b[0m \u001b[0mapple_ticker\u001b[0m\u001b[0;34m.\u001b[0m\u001b[0mhistory\u001b[0m\u001b[0;34m(\u001b[0m\u001b[0mperiod\u001b[0m\u001b[0;34m=\u001b[0m\u001b[0;34m\"2y\"\u001b[0m\u001b[0;34m,\u001b[0m \u001b[0minterval\u001b[0m\u001b[0;34m=\u001b[0m\u001b[0;34m\"1d\"\u001b[0m\u001b[0;34m,\u001b[0m \u001b[0mend\u001b[0m\u001b[0;34m=\u001b[0m\u001b[0;34m\"2022-07-08\"\u001b[0m\u001b[0;34m)\u001b[0m\u001b[0;34m\u001b[0m\u001b[0;34m\u001b[0m\u001b[0m\n\u001b[0m",
            "\u001b[0;32m/usr/local/lib/python3.7/dist-packages/yfinance/base.py\u001b[0m in \u001b[0;36mhistory\u001b[0;34m(self, period, interval, start, end, prepost, actions, auto_adjust, back_adjust, proxy, rounding, tz, timeout, **kwargs)\u001b[0m\n\u001b[1;32m    294\u001b[0m         \u001b[0;31m# Yahoo bug fix - it often appends latest price even if after end date\u001b[0m\u001b[0;34m\u001b[0m\u001b[0;34m\u001b[0m\u001b[0;34m\u001b[0m\u001b[0m\n\u001b[1;32m    295\u001b[0m         \u001b[0;32mif\u001b[0m \u001b[0mend\u001b[0m \u001b[0;32mand\u001b[0m \u001b[0;32mnot\u001b[0m \u001b[0mquotes\u001b[0m\u001b[0;34m.\u001b[0m\u001b[0mempty\u001b[0m\u001b[0;34m:\u001b[0m\u001b[0;34m\u001b[0m\u001b[0;34m\u001b[0m\u001b[0m\n\u001b[0;32m--> 296\u001b[0;31m             \u001b[0mendDt\u001b[0m \u001b[0;34m=\u001b[0m \u001b[0m_pd\u001b[0m\u001b[0;34m.\u001b[0m\u001b[0mto_datetime\u001b[0m\u001b[0;34m(\u001b[0m\u001b[0m_datetime\u001b[0m\u001b[0;34m.\u001b[0m\u001b[0mdatetime\u001b[0m\u001b[0;34m.\u001b[0m\u001b[0mfromtimestamp\u001b[0m\u001b[0;34m(\u001b[0m\u001b[0mend\u001b[0m\u001b[0;34m)\u001b[0m\u001b[0;34m)\u001b[0m\u001b[0;34m\u001b[0m\u001b[0;34m\u001b[0m\u001b[0m\n\u001b[0m\u001b[1;32m    297\u001b[0m             \u001b[0;32mif\u001b[0m \u001b[0mquotes\u001b[0m\u001b[0;34m.\u001b[0m\u001b[0mindex\u001b[0m\u001b[0;34m[\u001b[0m\u001b[0mquotes\u001b[0m\u001b[0;34m.\u001b[0m\u001b[0mshape\u001b[0m\u001b[0;34m[\u001b[0m\u001b[0;36m0\u001b[0m\u001b[0;34m]\u001b[0m\u001b[0;34m-\u001b[0m\u001b[0;36m1\u001b[0m\u001b[0;34m]\u001b[0m \u001b[0;34m>\u001b[0m \u001b[0mendDt\u001b[0m\u001b[0;34m:\u001b[0m\u001b[0;34m\u001b[0m\u001b[0;34m\u001b[0m\u001b[0m\n\u001b[1;32m    298\u001b[0m                 \u001b[0mquotes\u001b[0m \u001b[0;34m=\u001b[0m \u001b[0mquotes\u001b[0m\u001b[0;34m.\u001b[0m\u001b[0miloc\u001b[0m\u001b[0;34m[\u001b[0m\u001b[0;36m0\u001b[0m\u001b[0;34m:\u001b[0m\u001b[0mquotes\u001b[0m\u001b[0;34m.\u001b[0m\u001b[0mshape\u001b[0m\u001b[0;34m[\u001b[0m\u001b[0;36m0\u001b[0m\u001b[0;34m]\u001b[0m\u001b[0;34m-\u001b[0m\u001b[0;36m1\u001b[0m\u001b[0;34m]\u001b[0m\u001b[0;34m\u001b[0m\u001b[0;34m\u001b[0m\u001b[0m\n",
            "\u001b[0;31mTypeError\u001b[0m: an integer is required (got type str)"
          ]
        }
      ],
      "source": [
        "apple = apple_ticker.history(period=\"2y\", interval=\"1d\", end=\"2022-07-08\")"
      ]
    },
    {
      "cell_type": "code",
      "source": [
        "apple = apple_ticker.history(period=\"2y\")"
      ],
      "metadata": {
        "id": "Wn0gHP17BCzk"
      },
      "id": "Wn0gHP17BCzk",
      "execution_count": null,
      "outputs": []
    },
    {
      "cell_type": "code",
      "execution_count": null,
      "id": "b344fb55",
      "metadata": {
        "colab": {
          "base_uri": "https://localhost:8080/",
          "height": 238
        },
        "id": "b344fb55",
        "outputId": "97a67f22-fc5a-4ae4-d9e2-508b8485ca8f"
      },
      "outputs": [
        {
          "output_type": "execute_result",
          "data": {
            "text/plain": [
              "                 Open       High        Low      Close     Volume  Dividends  \\\n",
              "Date                                                                           \n",
              "2020-07-14  93.670078  96.055288  92.719457  95.860229  170989200        0.0   \n",
              "2020-07-15  97.768880  98.023203  95.299720  96.519485  153198000        0.0   \n",
              "2020-07-16  95.371325  96.203431  94.721935  95.331818  110577600        0.0   \n",
              "2020-07-17  95.791099  95.949121  94.657747  95.139236   92186800        0.0   \n",
              "2020-07-20  95.228132  97.284940  94.877508  97.144196   90318000        0.0   \n",
              "\n",
              "            Stock Splits  \n",
              "Date                      \n",
              "2020-07-14           0.0  \n",
              "2020-07-15           0.0  \n",
              "2020-07-16           0.0  \n",
              "2020-07-17           0.0  \n",
              "2020-07-20           0.0  "
            ],
            "text/html": [
              "\n",
              "  <div id=\"df-96e16f32-d401-4c61-8cff-af4c3019bac5\">\n",
              "    <div class=\"colab-df-container\">\n",
              "      <div>\n",
              "<style scoped>\n",
              "    .dataframe tbody tr th:only-of-type {\n",
              "        vertical-align: middle;\n",
              "    }\n",
              "\n",
              "    .dataframe tbody tr th {\n",
              "        vertical-align: top;\n",
              "    }\n",
              "\n",
              "    .dataframe thead th {\n",
              "        text-align: right;\n",
              "    }\n",
              "</style>\n",
              "<table border=\"1\" class=\"dataframe\">\n",
              "  <thead>\n",
              "    <tr style=\"text-align: right;\">\n",
              "      <th></th>\n",
              "      <th>Open</th>\n",
              "      <th>High</th>\n",
              "      <th>Low</th>\n",
              "      <th>Close</th>\n",
              "      <th>Volume</th>\n",
              "      <th>Dividends</th>\n",
              "      <th>Stock Splits</th>\n",
              "    </tr>\n",
              "    <tr>\n",
              "      <th>Date</th>\n",
              "      <th></th>\n",
              "      <th></th>\n",
              "      <th></th>\n",
              "      <th></th>\n",
              "      <th></th>\n",
              "      <th></th>\n",
              "      <th></th>\n",
              "    </tr>\n",
              "  </thead>\n",
              "  <tbody>\n",
              "    <tr>\n",
              "      <th>2020-07-14</th>\n",
              "      <td>93.670078</td>\n",
              "      <td>96.055288</td>\n",
              "      <td>92.719457</td>\n",
              "      <td>95.860229</td>\n",
              "      <td>170989200</td>\n",
              "      <td>0.0</td>\n",
              "      <td>0.0</td>\n",
              "    </tr>\n",
              "    <tr>\n",
              "      <th>2020-07-15</th>\n",
              "      <td>97.768880</td>\n",
              "      <td>98.023203</td>\n",
              "      <td>95.299720</td>\n",
              "      <td>96.519485</td>\n",
              "      <td>153198000</td>\n",
              "      <td>0.0</td>\n",
              "      <td>0.0</td>\n",
              "    </tr>\n",
              "    <tr>\n",
              "      <th>2020-07-16</th>\n",
              "      <td>95.371325</td>\n",
              "      <td>96.203431</td>\n",
              "      <td>94.721935</td>\n",
              "      <td>95.331818</td>\n",
              "      <td>110577600</td>\n",
              "      <td>0.0</td>\n",
              "      <td>0.0</td>\n",
              "    </tr>\n",
              "    <tr>\n",
              "      <th>2020-07-17</th>\n",
              "      <td>95.791099</td>\n",
              "      <td>95.949121</td>\n",
              "      <td>94.657747</td>\n",
              "      <td>95.139236</td>\n",
              "      <td>92186800</td>\n",
              "      <td>0.0</td>\n",
              "      <td>0.0</td>\n",
              "    </tr>\n",
              "    <tr>\n",
              "      <th>2020-07-20</th>\n",
              "      <td>95.228132</td>\n",
              "      <td>97.284940</td>\n",
              "      <td>94.877508</td>\n",
              "      <td>97.144196</td>\n",
              "      <td>90318000</td>\n",
              "      <td>0.0</td>\n",
              "      <td>0.0</td>\n",
              "    </tr>\n",
              "  </tbody>\n",
              "</table>\n",
              "</div>\n",
              "      <button class=\"colab-df-convert\" onclick=\"convertToInteractive('df-96e16f32-d401-4c61-8cff-af4c3019bac5')\"\n",
              "              title=\"Convert this dataframe to an interactive table.\"\n",
              "              style=\"display:none;\">\n",
              "        \n",
              "  <svg xmlns=\"http://www.w3.org/2000/svg\" height=\"24px\"viewBox=\"0 0 24 24\"\n",
              "       width=\"24px\">\n",
              "    <path d=\"M0 0h24v24H0V0z\" fill=\"none\"/>\n",
              "    <path d=\"M18.56 5.44l.94 2.06.94-2.06 2.06-.94-2.06-.94-.94-2.06-.94 2.06-2.06.94zm-11 1L8.5 8.5l.94-2.06 2.06-.94-2.06-.94L8.5 2.5l-.94 2.06-2.06.94zm10 10l.94 2.06.94-2.06 2.06-.94-2.06-.94-.94-2.06-.94 2.06-2.06.94z\"/><path d=\"M17.41 7.96l-1.37-1.37c-.4-.4-.92-.59-1.43-.59-.52 0-1.04.2-1.43.59L10.3 9.45l-7.72 7.72c-.78.78-.78 2.05 0 2.83L4 21.41c.39.39.9.59 1.41.59.51 0 1.02-.2 1.41-.59l7.78-7.78 2.81-2.81c.8-.78.8-2.07 0-2.86zM5.41 20L4 18.59l7.72-7.72 1.47 1.35L5.41 20z\"/>\n",
              "  </svg>\n",
              "      </button>\n",
              "      \n",
              "  <style>\n",
              "    .colab-df-container {\n",
              "      display:flex;\n",
              "      flex-wrap:wrap;\n",
              "      gap: 12px;\n",
              "    }\n",
              "\n",
              "    .colab-df-convert {\n",
              "      background-color: #E8F0FE;\n",
              "      border: none;\n",
              "      border-radius: 50%;\n",
              "      cursor: pointer;\n",
              "      display: none;\n",
              "      fill: #1967D2;\n",
              "      height: 32px;\n",
              "      padding: 0 0 0 0;\n",
              "      width: 32px;\n",
              "    }\n",
              "\n",
              "    .colab-df-convert:hover {\n",
              "      background-color: #E2EBFA;\n",
              "      box-shadow: 0px 1px 2px rgba(60, 64, 67, 0.3), 0px 1px 3px 1px rgba(60, 64, 67, 0.15);\n",
              "      fill: #174EA6;\n",
              "    }\n",
              "\n",
              "    [theme=dark] .colab-df-convert {\n",
              "      background-color: #3B4455;\n",
              "      fill: #D2E3FC;\n",
              "    }\n",
              "\n",
              "    [theme=dark] .colab-df-convert:hover {\n",
              "      background-color: #434B5C;\n",
              "      box-shadow: 0px 1px 3px 1px rgba(0, 0, 0, 0.15);\n",
              "      filter: drop-shadow(0px 1px 2px rgba(0, 0, 0, 0.3));\n",
              "      fill: #FFFFFF;\n",
              "    }\n",
              "  </style>\n",
              "\n",
              "      <script>\n",
              "        const buttonEl =\n",
              "          document.querySelector('#df-96e16f32-d401-4c61-8cff-af4c3019bac5 button.colab-df-convert');\n",
              "        buttonEl.style.display =\n",
              "          google.colab.kernel.accessAllowed ? 'block' : 'none';\n",
              "\n",
              "        async function convertToInteractive(key) {\n",
              "          const element = document.querySelector('#df-96e16f32-d401-4c61-8cff-af4c3019bac5');\n",
              "          const dataTable =\n",
              "            await google.colab.kernel.invokeFunction('convertToInteractive',\n",
              "                                                     [key], {});\n",
              "          if (!dataTable) return;\n",
              "\n",
              "          const docLinkHtml = 'Like what you see? Visit the ' +\n",
              "            '<a target=\"_blank\" href=https://colab.research.google.com/notebooks/data_table.ipynb>data table notebook</a>'\n",
              "            + ' to learn more about interactive tables.';\n",
              "          element.innerHTML = '';\n",
              "          dataTable['output_type'] = 'display_data';\n",
              "          await google.colab.output.renderOutput(dataTable, element);\n",
              "          const docLink = document.createElement('div');\n",
              "          docLink.innerHTML = docLinkHtml;\n",
              "          element.appendChild(docLink);\n",
              "        }\n",
              "      </script>\n",
              "    </div>\n",
              "  </div>\n",
              "  "
            ]
          },
          "metadata": {},
          "execution_count": 7
        }
      ],
      "source": [
        "apple.head()"
      ]
    },
    {
      "cell_type": "code",
      "execution_count": null,
      "id": "1054c8ac",
      "metadata": {
        "scrolled": true,
        "colab": {
          "base_uri": "https://localhost:8080/",
          "height": 238
        },
        "id": "1054c8ac",
        "outputId": "12d5ec0c-d4be-460b-8e5b-7b42e4d88ed1"
      },
      "outputs": [
        {
          "output_type": "execute_result",
          "data": {
            "text/plain": [
              "                  Open        High         Low       Close    Volume  \\\n",
              "Date                                                                   \n",
              "2022-07-07  143.289993  146.550003  143.279999  146.350006  66253700   \n",
              "2022-07-08  145.259995  147.550003  145.000000  147.039993  64493200   \n",
              "2022-07-11  145.669998  146.639999  143.779999  144.869995  63141600   \n",
              "2022-07-12  145.759995  148.449997  145.050003  145.860001  77588800   \n",
              "2022-07-13  142.990005  146.449997  142.119995  145.490005  71077000   \n",
              "\n",
              "            Dividends  Stock Splits  \n",
              "Date                                 \n",
              "2022-07-07        0.0           0.0  \n",
              "2022-07-08        0.0           0.0  \n",
              "2022-07-11        0.0           0.0  \n",
              "2022-07-12        0.0           0.0  \n",
              "2022-07-13        0.0           0.0  "
            ],
            "text/html": [
              "\n",
              "  <div id=\"df-394f87bf-e7a1-4665-a243-2bfa45214b85\">\n",
              "    <div class=\"colab-df-container\">\n",
              "      <div>\n",
              "<style scoped>\n",
              "    .dataframe tbody tr th:only-of-type {\n",
              "        vertical-align: middle;\n",
              "    }\n",
              "\n",
              "    .dataframe tbody tr th {\n",
              "        vertical-align: top;\n",
              "    }\n",
              "\n",
              "    .dataframe thead th {\n",
              "        text-align: right;\n",
              "    }\n",
              "</style>\n",
              "<table border=\"1\" class=\"dataframe\">\n",
              "  <thead>\n",
              "    <tr style=\"text-align: right;\">\n",
              "      <th></th>\n",
              "      <th>Open</th>\n",
              "      <th>High</th>\n",
              "      <th>Low</th>\n",
              "      <th>Close</th>\n",
              "      <th>Volume</th>\n",
              "      <th>Dividends</th>\n",
              "      <th>Stock Splits</th>\n",
              "    </tr>\n",
              "    <tr>\n",
              "      <th>Date</th>\n",
              "      <th></th>\n",
              "      <th></th>\n",
              "      <th></th>\n",
              "      <th></th>\n",
              "      <th></th>\n",
              "      <th></th>\n",
              "      <th></th>\n",
              "    </tr>\n",
              "  </thead>\n",
              "  <tbody>\n",
              "    <tr>\n",
              "      <th>2022-07-07</th>\n",
              "      <td>143.289993</td>\n",
              "      <td>146.550003</td>\n",
              "      <td>143.279999</td>\n",
              "      <td>146.350006</td>\n",
              "      <td>66253700</td>\n",
              "      <td>0.0</td>\n",
              "      <td>0.0</td>\n",
              "    </tr>\n",
              "    <tr>\n",
              "      <th>2022-07-08</th>\n",
              "      <td>145.259995</td>\n",
              "      <td>147.550003</td>\n",
              "      <td>145.000000</td>\n",
              "      <td>147.039993</td>\n",
              "      <td>64493200</td>\n",
              "      <td>0.0</td>\n",
              "      <td>0.0</td>\n",
              "    </tr>\n",
              "    <tr>\n",
              "      <th>2022-07-11</th>\n",
              "      <td>145.669998</td>\n",
              "      <td>146.639999</td>\n",
              "      <td>143.779999</td>\n",
              "      <td>144.869995</td>\n",
              "      <td>63141600</td>\n",
              "      <td>0.0</td>\n",
              "      <td>0.0</td>\n",
              "    </tr>\n",
              "    <tr>\n",
              "      <th>2022-07-12</th>\n",
              "      <td>145.759995</td>\n",
              "      <td>148.449997</td>\n",
              "      <td>145.050003</td>\n",
              "      <td>145.860001</td>\n",
              "      <td>77588800</td>\n",
              "      <td>0.0</td>\n",
              "      <td>0.0</td>\n",
              "    </tr>\n",
              "    <tr>\n",
              "      <th>2022-07-13</th>\n",
              "      <td>142.990005</td>\n",
              "      <td>146.449997</td>\n",
              "      <td>142.119995</td>\n",
              "      <td>145.490005</td>\n",
              "      <td>71077000</td>\n",
              "      <td>0.0</td>\n",
              "      <td>0.0</td>\n",
              "    </tr>\n",
              "  </tbody>\n",
              "</table>\n",
              "</div>\n",
              "      <button class=\"colab-df-convert\" onclick=\"convertToInteractive('df-394f87bf-e7a1-4665-a243-2bfa45214b85')\"\n",
              "              title=\"Convert this dataframe to an interactive table.\"\n",
              "              style=\"display:none;\">\n",
              "        \n",
              "  <svg xmlns=\"http://www.w3.org/2000/svg\" height=\"24px\"viewBox=\"0 0 24 24\"\n",
              "       width=\"24px\">\n",
              "    <path d=\"M0 0h24v24H0V0z\" fill=\"none\"/>\n",
              "    <path d=\"M18.56 5.44l.94 2.06.94-2.06 2.06-.94-2.06-.94-.94-2.06-.94 2.06-2.06.94zm-11 1L8.5 8.5l.94-2.06 2.06-.94-2.06-.94L8.5 2.5l-.94 2.06-2.06.94zm10 10l.94 2.06.94-2.06 2.06-.94-2.06-.94-.94-2.06-.94 2.06-2.06.94z\"/><path d=\"M17.41 7.96l-1.37-1.37c-.4-.4-.92-.59-1.43-.59-.52 0-1.04.2-1.43.59L10.3 9.45l-7.72 7.72c-.78.78-.78 2.05 0 2.83L4 21.41c.39.39.9.59 1.41.59.51 0 1.02-.2 1.41-.59l7.78-7.78 2.81-2.81c.8-.78.8-2.07 0-2.86zM5.41 20L4 18.59l7.72-7.72 1.47 1.35L5.41 20z\"/>\n",
              "  </svg>\n",
              "      </button>\n",
              "      \n",
              "  <style>\n",
              "    .colab-df-container {\n",
              "      display:flex;\n",
              "      flex-wrap:wrap;\n",
              "      gap: 12px;\n",
              "    }\n",
              "\n",
              "    .colab-df-convert {\n",
              "      background-color: #E8F0FE;\n",
              "      border: none;\n",
              "      border-radius: 50%;\n",
              "      cursor: pointer;\n",
              "      display: none;\n",
              "      fill: #1967D2;\n",
              "      height: 32px;\n",
              "      padding: 0 0 0 0;\n",
              "      width: 32px;\n",
              "    }\n",
              "\n",
              "    .colab-df-convert:hover {\n",
              "      background-color: #E2EBFA;\n",
              "      box-shadow: 0px 1px 2px rgba(60, 64, 67, 0.3), 0px 1px 3px 1px rgba(60, 64, 67, 0.15);\n",
              "      fill: #174EA6;\n",
              "    }\n",
              "\n",
              "    [theme=dark] .colab-df-convert {\n",
              "      background-color: #3B4455;\n",
              "      fill: #D2E3FC;\n",
              "    }\n",
              "\n",
              "    [theme=dark] .colab-df-convert:hover {\n",
              "      background-color: #434B5C;\n",
              "      box-shadow: 0px 1px 3px 1px rgba(0, 0, 0, 0.15);\n",
              "      filter: drop-shadow(0px 1px 2px rgba(0, 0, 0, 0.3));\n",
              "      fill: #FFFFFF;\n",
              "    }\n",
              "  </style>\n",
              "\n",
              "      <script>\n",
              "        const buttonEl =\n",
              "          document.querySelector('#df-394f87bf-e7a1-4665-a243-2bfa45214b85 button.colab-df-convert');\n",
              "        buttonEl.style.display =\n",
              "          google.colab.kernel.accessAllowed ? 'block' : 'none';\n",
              "\n",
              "        async function convertToInteractive(key) {\n",
              "          const element = document.querySelector('#df-394f87bf-e7a1-4665-a243-2bfa45214b85');\n",
              "          const dataTable =\n",
              "            await google.colab.kernel.invokeFunction('convertToInteractive',\n",
              "                                                     [key], {});\n",
              "          if (!dataTable) return;\n",
              "\n",
              "          const docLinkHtml = 'Like what you see? Visit the ' +\n",
              "            '<a target=\"_blank\" href=https://colab.research.google.com/notebooks/data_table.ipynb>data table notebook</a>'\n",
              "            + ' to learn more about interactive tables.';\n",
              "          element.innerHTML = '';\n",
              "          dataTable['output_type'] = 'display_data';\n",
              "          await google.colab.output.renderOutput(dataTable, element);\n",
              "          const docLink = document.createElement('div');\n",
              "          docLink.innerHTML = docLinkHtml;\n",
              "          element.appendChild(docLink);\n",
              "        }\n",
              "      </script>\n",
              "    </div>\n",
              "  </div>\n",
              "  "
            ]
          },
          "metadata": {},
          "execution_count": 8
        }
      ],
      "source": [
        "apple.tail()"
      ]
    },
    {
      "cell_type": "code",
      "execution_count": null,
      "id": "82bdd96a",
      "metadata": {
        "colab": {
          "base_uri": "https://localhost:8080/"
        },
        "id": "82bdd96a",
        "outputId": "024da058-f104-468b-949f-3a1ff39b32d1"
      },
      "outputs": [
        {
          "output_type": "execute_result",
          "data": {
            "text/plain": [
              "pandas.core.frame.DataFrame"
            ]
          },
          "metadata": {},
          "execution_count": 107
        }
      ],
      "source": [
        "type(apple)"
      ]
    },
    {
      "cell_type": "code",
      "execution_count": null,
      "id": "6706177e",
      "metadata": {
        "id": "6706177e"
      },
      "outputs": [],
      "source": [
        "# note. yfinance 返回的值是将date作为默认索引列\n",
        "apple = apple.reset_index(level=\"Date\")"
      ]
    },
    {
      "cell_type": "code",
      "execution_count": null,
      "id": "4b4c9f71",
      "metadata": {
        "colab": {
          "base_uri": "https://localhost:8080/"
        },
        "id": "4b4c9f71",
        "outputId": "e6f16508-a9f2-4247-b337-8bef8e40795a"
      },
      "outputs": [
        {
          "output_type": "execute_result",
          "data": {
            "text/plain": [
              "Index(['Date', 'Open', 'High', 'Low', 'Close', 'Volume', 'Dividends',\n",
              "       'Stock Splits'],\n",
              "      dtype='object')"
            ]
          },
          "metadata": {},
          "execution_count": 109
        }
      ],
      "source": [
        "apple.columns"
      ]
    },
    {
      "cell_type": "code",
      "execution_count": null,
      "id": "cc8ba142",
      "metadata": {
        "scrolled": false,
        "colab": {
          "base_uri": "https://localhost:8080/"
        },
        "id": "cc8ba142",
        "outputId": "d0c19125-2a39-4e9a-e5a1-bb742ae3fad9"
      },
      "outputs": [
        {
          "output_type": "execute_result",
          "data": {
            "text/plain": [
              "Date            datetime64[ns]\n",
              "Open                   float64\n",
              "High                   float64\n",
              "Low                    float64\n",
              "Close                  float64\n",
              "Volume                   int64\n",
              "Dividends              float64\n",
              "Stock Splits           float64\n",
              "dtype: object"
            ]
          },
          "metadata": {},
          "execution_count": 110
        }
      ],
      "source": [
        "apple.dtypes"
      ]
    },
    {
      "cell_type": "markdown",
      "id": "5baba2e1",
      "metadata": {
        "id": "5baba2e1"
      },
      "source": [
        "## 3.0 Plot the ticker's price using matplotlib"
      ]
    },
    {
      "cell_type": "markdown",
      "id": "4346671a",
      "metadata": {
        "id": "4346671a"
      },
      "source": [
        "find matplotlib documentation on https://matplotlib.org/stable/index.html"
      ]
    },
    {
      "cell_type": "code",
      "execution_count": null,
      "id": "a0657edf",
      "metadata": {
        "colab": {
          "base_uri": "https://localhost:8080/",
          "height": 279
        },
        "id": "a0657edf",
        "outputId": "cfcb3421-c062-4017-f29c-ac6414fd9323"
      },
      "outputs": [
        {
          "output_type": "display_data",
          "data": {
            "text/plain": [
              "<Figure size 432x288 with 1 Axes>"
            ],
            "image/png": "[encoded data removed]"
          },
          "metadata": {
            "needs_background": "light"
          }
        }
      ],
      "source": [
        "plt.plot(apple[\"Date\"], apple[\"Close\"])\n",
        "plt.xlabel(\"Date\")\n",
        "plt.ylabel(\"Price\")\n",
        "plt.show()"
      ]
    },
    {
      "cell_type": "markdown",
      "id": "e133bb57",
      "metadata": {
        "id": "e133bb57"
      },
      "source": [
        "## 4.0 Data Management"
      ]
    },
    {
      "cell_type": "markdown",
      "id": "280ae5ea",
      "metadata": {
        "id": "280ae5ea"
      },
      "source": [
        "### 4.1 Change data frame to use prices n days before to predict the target day's"
      ]
    },
    {
      "cell_type": "markdown",
      "id": "fd30ad95",
      "metadata": {
        "id": "fd30ad95"
      },
      "source": [
        "Since we only care about the close price and the date, so we will remove all other variables.\n",
        "In lstm we use the previous 3 days to predict the 4th day's price, thus the final sheet will be like  \n",
        "[index, target-date, target-3, target-2,target-1, target]"
      ]
    },
    {
      "cell_type": "code",
      "execution_count": null,
      "id": "c49b0fb1",
      "metadata": {
        "id": "c49b0fb1"
      },
      "outputs": [],
      "source": [
        "apple = apple[[\"Date\", \"Close\"]]"
      ]
    },
    {
      "cell_type": "code",
      "execution_count": null,
      "id": "6610f8c7",
      "metadata": {
        "colab": {
          "base_uri": "https://localhost:8080/",
          "height": 206
        },
        "id": "6610f8c7",
        "outputId": "0e0f6327-9f36-440b-e15a-553df31cc6eb"
      },
      "outputs": [
        {
          "output_type": "execute_result",
          "data": {
            "text/plain": [
              "          Date       Close\n",
              "499 2022-07-01  138.929993\n",
              "500 2022-07-05  141.559998\n",
              "501 2022-07-06  142.919998\n",
              "502 2022-07-07  146.350006\n",
              "503 2022-07-08  147.039993"
            ],
            "text/html": [
              "\n",
              "  <div id=\"df-795f7146-1d75-47fc-8af2-9d3fca7018d2\">\n",
              "    <div class=\"colab-df-container\">\n",
              "      <div>\n",
              "<style scoped>\n",
              "    .dataframe tbody tr th:only-of-type {\n",
              "        vertical-align: middle;\n",
              "    }\n",
              "\n",
              "    .dataframe tbody tr th {\n",
              "        vertical-align: top;\n",
              "    }\n",
              "\n",
              "    .dataframe thead th {\n",
              "        text-align: right;\n",
              "    }\n",
              "</style>\n",
              "<table border=\"1\" class=\"dataframe\">\n",
              "  <thead>\n",
              "    <tr style=\"text-align: right;\">\n",
              "      <th></th>\n",
              "      <th>Date</th>\n",
              "      <th>Close</th>\n",
              "    </tr>\n",
              "  </thead>\n",
              "  <tbody>\n",
              "    <tr>\n",
              "      <th>499</th>\n",
              "      <td>2022-07-01</td>\n",
              "      <td>138.929993</td>\n",
              "    </tr>\n",
              "    <tr>\n",
              "      <th>500</th>\n",
              "      <td>2022-07-05</td>\n",
              "      <td>141.559998</td>\n",
              "    </tr>\n",
              "    <tr>\n",
              "      <th>501</th>\n",
              "      <td>2022-07-06</td>\n",
              "      <td>142.919998</td>\n",
              "    </tr>\n",
              "    <tr>\n",
              "      <th>502</th>\n",
              "      <td>2022-07-07</td>\n",
              "      <td>146.350006</td>\n",
              "    </tr>\n",
              "    <tr>\n",
              "      <th>503</th>\n",
              "      <td>2022-07-08</td>\n",
              "      <td>147.039993</td>\n",
              "    </tr>\n",
              "  </tbody>\n",
              "</table>\n",
              "</div>\n",
              "      <button class=\"colab-df-convert\" onclick=\"convertToInteractive('df-795f7146-1d75-47fc-8af2-9d3fca7018d2')\"\n",
              "              title=\"Convert this dataframe to an interactive table.\"\n",
              "              style=\"display:none;\">\n",
              "        \n",
              "  <svg xmlns=\"http://www.w3.org/2000/svg\" height=\"24px\"viewBox=\"0 0 24 24\"\n",
              "       width=\"24px\">\n",
              "    <path d=\"M0 0h24v24H0V0z\" fill=\"none\"/>\n",
              "    <path d=\"M18.56 5.44l.94 2.06.94-2.06 2.06-.94-2.06-.94-.94-2.06-.94 2.06-2.06.94zm-11 1L8.5 8.5l.94-2.06 2.06-.94-2.06-.94L8.5 2.5l-.94 2.06-2.06.94zm10 10l.94 2.06.94-2.06 2.06-.94-2.06-.94-.94-2.06-.94 2.06-2.06.94z\"/><path d=\"M17.41 7.96l-1.37-1.37c-.4-.4-.92-.59-1.43-.59-.52 0-1.04.2-1.43.59L10.3 9.45l-7.72 7.72c-.78.78-.78 2.05 0 2.83L4 21.41c.39.39.9.59 1.41.59.51 0 1.02-.2 1.41-.59l7.78-7.78 2.81-2.81c.8-.78.8-2.07 0-2.86zM5.41 20L4 18.59l7.72-7.72 1.47 1.35L5.41 20z\"/>\n",
              "  </svg>\n",
              "      </button>\n",
              "      \n",
              "  <style>\n",
              "    .colab-df-container {\n",
              "      display:flex;\n",
              "      flex-wrap:wrap;\n",
              "      gap: 12px;\n",
              "    }\n",
              "\n",
              "    .colab-df-convert {\n",
              "      background-color: #E8F0FE;\n",
              "      border: none;\n",
              "      border-radius: 50%;\n",
              "      cursor: pointer;\n",
              "      display: none;\n",
              "      fill: #1967D2;\n",
              "      height: 32px;\n",
              "      padding: 0 0 0 0;\n",
              "      width: 32px;\n",
              "    }\n",
              "\n",
              "    .colab-df-convert:hover {\n",
              "      background-color: #E2EBFA;\n",
              "      box-shadow: 0px 1px 2px rgba(60, 64, 67, 0.3), 0px 1px 3px 1px rgba(60, 64, 67, 0.15);\n",
              "      fill: #174EA6;\n",
              "    }\n",
              "\n",
              "    [theme=dark] .colab-df-convert {\n",
              "      background-color: #3B4455;\n",
              "      fill: #D2E3FC;\n",
              "    }\n",
              "\n",
              "    [theme=dark] .colab-df-convert:hover {\n",
              "      background-color: #434B5C;\n",
              "      box-shadow: 0px 1px 3px 1px rgba(0, 0, 0, 0.15);\n",
              "      filter: drop-shadow(0px 1px 2px rgba(0, 0, 0, 0.3));\n",
              "      fill: #FFFFFF;\n",
              "    }\n",
              "  </style>\n",
              "\n",
              "      <script>\n",
              "        const buttonEl =\n",
              "          document.querySelector('#df-795f7146-1d75-47fc-8af2-9d3fca7018d2 button.colab-df-convert');\n",
              "        buttonEl.style.display =\n",
              "          google.colab.kernel.accessAllowed ? 'block' : 'none';\n",
              "\n",
              "        async function convertToInteractive(key) {\n",
              "          const element = document.querySelector('#df-795f7146-1d75-47fc-8af2-9d3fca7018d2');\n",
              "          const dataTable =\n",
              "            await google.colab.kernel.invokeFunction('convertToInteractive',\n",
              "                                                     [key], {});\n",
              "          if (!dataTable) return;\n",
              "\n",
              "          const docLinkHtml = 'Like what you see? Visit the ' +\n",
              "            '<a target=\"_blank\" href=https://colab.research.google.com/notebooks/data_table.ipynb>data table notebook</a>'\n",
              "            + ' to learn more about interactive tables.';\n",
              "          element.innerHTML = '';\n",
              "          dataTable['output_type'] = 'display_data';\n",
              "          await google.colab.output.renderOutput(dataTable, element);\n",
              "          const docLink = document.createElement('div');\n",
              "          docLink.innerHTML = docLinkHtml;\n",
              "          element.appendChild(docLink);\n",
              "        }\n",
              "      </script>\n",
              "    </div>\n",
              "  </div>\n",
              "  "
            ]
          },
          "metadata": {},
          "execution_count": 113
        }
      ],
      "source": [
        "apple.tail()"
      ]
    },
    {
      "cell_type": "code",
      "execution_count": null,
      "id": "dab4d1aa",
      "metadata": {
        "id": "dab4d1aa"
      },
      "outputs": [],
      "source": [
        "def target_df(df, days):\n",
        "    \"\"\"\n",
        "    这个函数的作用是对于任意传入的dataframe, 按照自定义的天数re-scale成我们需要的表格，类似\n",
        "    [index, target-date, target-3, target-2,target-1, target]\n",
        "    对于任意天数days，前n天的范围就是 range(1, days)即1 to days-1\n",
        "    \"\"\"\n",
        "    target = []\n",
        "    # 生成column name 对应Target-3, Target-2， Target-1\n",
        "    for i in df.index:\n",
        "        if (i+1) >= days:\n",
        "            target_unit = {}\n",
        "            target_unit[\"Date\"] = df.iloc[i,0]\n",
        "            target_unit[\"Target\"] = df.iloc[i,1]\n",
        "            for n in range(1, days):\n",
        "                name = \"Target-\" + str(n)\n",
        "                target_unit[name] = df.iloc[i-n, 1]\n",
        "            target.append(target_unit)\n",
        "    data_set = pd.DataFrame(target)\n",
        "    return data_set"
      ]
    },
    {
      "cell_type": "code",
      "execution_count": null,
      "id": "632a318b",
      "metadata": {
        "id": "632a318b"
      },
      "outputs": [],
      "source": [
        "dataset = target_df(apple, 4)"
      ]
    },
    {
      "cell_type": "code",
      "execution_count": null,
      "id": "89c62c37",
      "metadata": {
        "colab": {
          "base_uri": "https://localhost:8080/",
          "height": 206
        },
        "id": "89c62c37",
        "outputId": "37f0fc0f-ce6a-42f0-c513-975ae575cbec"
      },
      "outputs": [
        {
          "output_type": "execute_result",
          "data": {
            "text/plain": [
              "          Date      Target    Target-1    Target-2    Target-3\n",
              "496 2022-07-01  138.929993  136.720001  139.229996  137.440002\n",
              "497 2022-07-05  141.559998  138.929993  136.720001  139.229996\n",
              "498 2022-07-06  142.919998  141.559998  138.929993  136.720001\n",
              "499 2022-07-07  146.350006  142.919998  141.559998  138.929993\n",
              "500 2022-07-08  147.039993  146.350006  142.919998  141.559998"
            ],
            "text/html": [
              "\n",
              "  <div id=\"df-f7e64869-80c0-4c78-a9bf-978faa74035d\">\n",
              "    <div class=\"colab-df-container\">\n",
              "      <div>\n",
              "<style scoped>\n",
              "    .dataframe tbody tr th:only-of-type {\n",
              "        vertical-align: middle;\n",
              "    }\n",
              "\n",
              "    .dataframe tbody tr th {\n",
              "        vertical-align: top;\n",
              "    }\n",
              "\n",
              "    .dataframe thead th {\n",
              "        text-align: right;\n",
              "    }\n",
              "</style>\n",
              "<table border=\"1\" class=\"dataframe\">\n",
              "  <thead>\n",
              "    <tr style=\"text-align: right;\">\n",
              "      <th></th>\n",
              "      <th>Date</th>\n",
              "      <th>Target</th>\n",
              "      <th>Target-1</th>\n",
              "      <th>Target-2</th>\n",
              "      <th>Target-3</th>\n",
              "    </tr>\n",
              "  </thead>\n",
              "  <tbody>\n",
              "    <tr>\n",
              "      <th>496</th>\n",
              "      <td>2022-07-01</td>\n",
              "      <td>138.929993</td>\n",
              "      <td>136.720001</td>\n",
              "      <td>139.229996</td>\n",
              "      <td>137.440002</td>\n",
              "    </tr>\n",
              "    <tr>\n",
              "      <th>497</th>\n",
              "      <td>2022-07-05</td>\n",
              "      <td>141.559998</td>\n",
              "      <td>138.929993</td>\n",
              "      <td>136.720001</td>\n",
              "      <td>139.229996</td>\n",
              "    </tr>\n",
              "    <tr>\n",
              "      <th>498</th>\n",
              "      <td>2022-07-06</td>\n",
              "      <td>142.919998</td>\n",
              "      <td>141.559998</td>\n",
              "      <td>138.929993</td>\n",
              "      <td>136.720001</td>\n",
              "    </tr>\n",
              "    <tr>\n",
              "      <th>499</th>\n",
              "      <td>2022-07-07</td>\n",
              "      <td>146.350006</td>\n",
              "      <td>142.919998</td>\n",
              "      <td>141.559998</td>\n",
              "      <td>138.929993</td>\n",
              "    </tr>\n",
              "    <tr>\n",
              "      <th>500</th>\n",
              "      <td>2022-07-08</td>\n",
              "      <td>147.039993</td>\n",
              "      <td>146.350006</td>\n",
              "      <td>142.919998</td>\n",
              "      <td>141.559998</td>\n",
              "    </tr>\n",
              "  </tbody>\n",
              "</table>\n",
              "</div>\n",
              "      <button class=\"colab-df-convert\" onclick=\"convertToInteractive('df-f7e64869-80c0-4c78-a9bf-978faa74035d')\"\n",
              "              title=\"Convert this dataframe to an interactive table.\"\n",
              "              style=\"display:none;\">\n",
              "        \n",
              "  <svg xmlns=\"http://www.w3.org/2000/svg\" height=\"24px\"viewBox=\"0 0 24 24\"\n",
              "       width=\"24px\">\n",
              "    <path d=\"M0 0h24v24H0V0z\" fill=\"none\"/>\n",
              "    <path d=\"M18.56 5.44l.94 2.06.94-2.06 2.06-.94-2.06-.94-.94-2.06-.94 2.06-2.06.94zm-11 1L8.5 8.5l.94-2.06 2.06-.94-2.06-.94L8.5 2.5l-.94 2.06-2.06.94zm10 10l.94 2.06.94-2.06 2.06-.94-2.06-.94-.94-2.06-.94 2.06-2.06.94z\"/><path d=\"M17.41 7.96l-1.37-1.37c-.4-.4-.92-.59-1.43-.59-.52 0-1.04.2-1.43.59L10.3 9.45l-7.72 7.72c-.78.78-.78 2.05 0 2.83L4 21.41c.39.39.9.59 1.41.59.51 0 1.02-.2 1.41-.59l7.78-7.78 2.81-2.81c.8-.78.8-2.07 0-2.86zM5.41 20L4 18.59l7.72-7.72 1.47 1.35L5.41 20z\"/>\n",
              "  </svg>\n",
              "      </button>\n",
              "      \n",
              "  <style>\n",
              "    .colab-df-container {\n",
              "      display:flex;\n",
              "      flex-wrap:wrap;\n",
              "      gap: 12px;\n",
              "    }\n",
              "\n",
              "    .colab-df-convert {\n",
              "      background-color: #E8F0FE;\n",
              "      border: none;\n",
              "      border-radius: 50%;\n",
              "      cursor: pointer;\n",
              "      display: none;\n",
              "      fill: #1967D2;\n",
              "      height: 32px;\n",
              "      padding: 0 0 0 0;\n",
              "      width: 32px;\n",
              "    }\n",
              "\n",
              "    .colab-df-convert:hover {\n",
              "      background-color: #E2EBFA;\n",
              "      box-shadow: 0px 1px 2px rgba(60, 64, 67, 0.3), 0px 1px 3px 1px rgba(60, 64, 67, 0.15);\n",
              "      fill: #174EA6;\n",
              "    }\n",
              "\n",
              "    [theme=dark] .colab-df-convert {\n",
              "      background-color: #3B4455;\n",
              "      fill: #D2E3FC;\n",
              "    }\n",
              "\n",
              "    [theme=dark] .colab-df-convert:hover {\n",
              "      background-color: #434B5C;\n",
              "      box-shadow: 0px 1px 3px 1px rgba(0, 0, 0, 0.15);\n",
              "      filter: drop-shadow(0px 1px 2px rgba(0, 0, 0, 0.3));\n",
              "      fill: #FFFFFF;\n",
              "    }\n",
              "  </style>\n",
              "\n",
              "      <script>\n",
              "        const buttonEl =\n",
              "          document.querySelector('#df-f7e64869-80c0-4c78-a9bf-978faa74035d button.colab-df-convert');\n",
              "        buttonEl.style.display =\n",
              "          google.colab.kernel.accessAllowed ? 'block' : 'none';\n",
              "\n",
              "        async function convertToInteractive(key) {\n",
              "          const element = document.querySelector('#df-f7e64869-80c0-4c78-a9bf-978faa74035d');\n",
              "          const dataTable =\n",
              "            await google.colab.kernel.invokeFunction('convertToInteractive',\n",
              "                                                     [key], {});\n",
              "          if (!dataTable) return;\n",
              "\n",
              "          const docLinkHtml = 'Like what you see? Visit the ' +\n",
              "            '<a target=\"_blank\" href=https://colab.research.google.com/notebooks/data_table.ipynb>data table notebook</a>'\n",
              "            + ' to learn more about interactive tables.';\n",
              "          element.innerHTML = '';\n",
              "          dataTable['output_type'] = 'display_data';\n",
              "          await google.colab.output.renderOutput(dataTable, element);\n",
              "          const docLink = document.createElement('div');\n",
              "          docLink.innerHTML = docLinkHtml;\n",
              "          element.appendChild(docLink);\n",
              "        }\n",
              "      </script>\n",
              "    </div>\n",
              "  </div>\n",
              "  "
            ]
          },
          "metadata": {},
          "execution_count": 116
        }
      ],
      "source": [
        "dataset.tail()"
      ]
    },
    {
      "cell_type": "code",
      "execution_count": null,
      "id": "a5b64ddc",
      "metadata": {
        "scrolled": true,
        "colab": {
          "base_uri": "https://localhost:8080/",
          "height": 206
        },
        "id": "a5b64ddc",
        "outputId": "706f37a5-3c8e-4382-e869-b6b019985bed"
      },
      "outputs": [
        {
          "output_type": "execute_result",
          "data": {
            "text/plain": [
              "        Date   Target-3   Target-2   Target-1     Target\n",
              "0 2020-07-14  94.571320  94.736755  94.299721  95.860222\n",
              "1 2020-07-15  94.736755  94.299721  95.860222  96.519485\n",
              "2 2020-07-16  94.299721  95.860222  96.519485  95.331818\n",
              "3 2020-07-17  95.860222  96.519485  95.331818  95.139229\n",
              "4 2020-07-20  96.519485  95.331818  95.139229  97.144180"
            ],
            "text/html": [
              "\n",
              "  <div id=\"df-d2926131-cb2b-41da-91e7-96a2ea4aefde\">\n",
              "    <div class=\"colab-df-container\">\n",
              "      <div>\n",
              "<style scoped>\n",
              "    .dataframe tbody tr th:only-of-type {\n",
              "        vertical-align: middle;\n",
              "    }\n",
              "\n",
              "    .dataframe tbody tr th {\n",
              "        vertical-align: top;\n",
              "    }\n",
              "\n",
              "    .dataframe thead th {\n",
              "        text-align: right;\n",
              "    }\n",
              "</style>\n",
              "<table border=\"1\" class=\"dataframe\">\n",
              "  <thead>\n",
              "    <tr style=\"text-align: right;\">\n",
              "      <th></th>\n",
              "      <th>Date</th>\n",
              "      <th>Target-3</th>\n",
              "      <th>Target-2</th>\n",
              "      <th>Target-1</th>\n",
              "      <th>Target</th>\n",
              "    </tr>\n",
              "  </thead>\n",
              "  <tbody>\n",
              "    <tr>\n",
              "      <th>0</th>\n",
              "      <td>2020-07-14</td>\n",
              "      <td>94.571320</td>\n",
              "      <td>94.736755</td>\n",
              "      <td>94.299721</td>\n",
              "      <td>95.860222</td>\n",
              "    </tr>\n",
              "    <tr>\n",
              "      <th>1</th>\n",
              "      <td>2020-07-15</td>\n",
              "      <td>94.736755</td>\n",
              "      <td>94.299721</td>\n",
              "      <td>95.860222</td>\n",
              "      <td>96.519485</td>\n",
              "    </tr>\n",
              "    <tr>\n",
              "      <th>2</th>\n",
              "      <td>2020-07-16</td>\n",
              "      <td>94.299721</td>\n",
              "      <td>95.860222</td>\n",
              "      <td>96.519485</td>\n",
              "      <td>95.331818</td>\n",
              "    </tr>\n",
              "    <tr>\n",
              "      <th>3</th>\n",
              "      <td>2020-07-17</td>\n",
              "      <td>95.860222</td>\n",
              "      <td>96.519485</td>\n",
              "      <td>95.331818</td>\n",
              "      <td>95.139229</td>\n",
              "    </tr>\n",
              "    <tr>\n",
              "      <th>4</th>\n",
              "      <td>2020-07-20</td>\n",
              "      <td>96.519485</td>\n",
              "      <td>95.331818</td>\n",
              "      <td>95.139229</td>\n",
              "      <td>97.144180</td>\n",
              "    </tr>\n",
              "  </tbody>\n",
              "</table>\n",
              "</div>\n",
              "      <button class=\"colab-df-convert\" onclick=\"convertToInteractive('df-d2926131-cb2b-41da-91e7-96a2ea4aefde')\"\n",
              "              title=\"Convert this dataframe to an interactive table.\"\n",
              "              style=\"display:none;\">\n",
              "        \n",
              "  <svg xmlns=\"http://www.w3.org/2000/svg\" height=\"24px\"viewBox=\"0 0 24 24\"\n",
              "       width=\"24px\">\n",
              "    <path d=\"M0 0h24v24H0V0z\" fill=\"none\"/>\n",
              "    <path d=\"M18.56 5.44l.94 2.06.94-2.06 2.06-.94-2.06-.94-.94-2.06-.94 2.06-2.06.94zm-11 1L8.5 8.5l.94-2.06 2.06-.94-2.06-.94L8.5 2.5l-.94 2.06-2.06.94zm10 10l.94 2.06.94-2.06 2.06-.94-2.06-.94-.94-2.06-.94 2.06-2.06.94z\"/><path d=\"M17.41 7.96l-1.37-1.37c-.4-.4-.92-.59-1.43-.59-.52 0-1.04.2-1.43.59L10.3 9.45l-7.72 7.72c-.78.78-.78 2.05 0 2.83L4 21.41c.39.39.9.59 1.41.59.51 0 1.02-.2 1.41-.59l7.78-7.78 2.81-2.81c.8-.78.8-2.07 0-2.86zM5.41 20L4 18.59l7.72-7.72 1.47 1.35L5.41 20z\"/>\n",
              "  </svg>\n",
              "      </button>\n",
              "      \n",
              "  <style>\n",
              "    .colab-df-container {\n",
              "      display:flex;\n",
              "      flex-wrap:wrap;\n",
              "      gap: 12px;\n",
              "    }\n",
              "\n",
              "    .colab-df-convert {\n",
              "      background-color: #E8F0FE;\n",
              "      border: none;\n",
              "      border-radius: 50%;\n",
              "      cursor: pointer;\n",
              "      display: none;\n",
              "      fill: #1967D2;\n",
              "      height: 32px;\n",
              "      padding: 0 0 0 0;\n",
              "      width: 32px;\n",
              "    }\n",
              "\n",
              "    .colab-df-convert:hover {\n",
              "      background-color: #E2EBFA;\n",
              "      box-shadow: 0px 1px 2px rgba(60, 64, 67, 0.3), 0px 1px 3px 1px rgba(60, 64, 67, 0.15);\n",
              "      fill: #174EA6;\n",
              "    }\n",
              "\n",
              "    [theme=dark] .colab-df-convert {\n",
              "      background-color: #3B4455;\n",
              "      fill: #D2E3FC;\n",
              "    }\n",
              "\n",
              "    [theme=dark] .colab-df-convert:hover {\n",
              "      background-color: #434B5C;\n",
              "      box-shadow: 0px 1px 3px 1px rgba(0, 0, 0, 0.15);\n",
              "      filter: drop-shadow(0px 1px 2px rgba(0, 0, 0, 0.3));\n",
              "      fill: #FFFFFF;\n",
              "    }\n",
              "  </style>\n",
              "\n",
              "      <script>\n",
              "        const buttonEl =\n",
              "          document.querySelector('#df-d2926131-cb2b-41da-91e7-96a2ea4aefde button.colab-df-convert');\n",
              "        buttonEl.style.display =\n",
              "          google.colab.kernel.accessAllowed ? 'block' : 'none';\n",
              "\n",
              "        async function convertToInteractive(key) {\n",
              "          const element = document.querySelector('#df-d2926131-cb2b-41da-91e7-96a2ea4aefde');\n",
              "          const dataTable =\n",
              "            await google.colab.kernel.invokeFunction('convertToInteractive',\n",
              "                                                     [key], {});\n",
              "          if (!dataTable) return;\n",
              "\n",
              "          const docLinkHtml = 'Like what you see? Visit the ' +\n",
              "            '<a target=\"_blank\" href=https://colab.research.google.com/notebooks/data_table.ipynb>data table notebook</a>'\n",
              "            + ' to learn more about interactive tables.';\n",
              "          element.innerHTML = '';\n",
              "          dataTable['output_type'] = 'display_data';\n",
              "          await google.colab.output.renderOutput(dataTable, element);\n",
              "          const docLink = document.createElement('div');\n",
              "          docLink.innerHTML = docLinkHtml;\n",
              "          element.appendChild(docLink);\n",
              "        }\n",
              "      </script>\n",
              "    </div>\n",
              "  </div>\n",
              "  "
            ]
          },
          "metadata": {},
          "execution_count": 117
        }
      ],
      "source": [
        "dataset_ready = dataset.iloc[:,[0,4,3,2,1]]\n",
        "dataset_ready.head()"
      ]
    },
    {
      "cell_type": "code",
      "execution_count": null,
      "id": "20796eec",
      "metadata": {
        "colab": {
          "base_uri": "https://localhost:8080/"
        },
        "id": "20796eec",
        "outputId": "1160d370-27c2-45b2-ffb7-5b4ea79f93c7"
      },
      "outputs": [
        {
          "output_type": "execute_result",
          "data": {
            "text/plain": [
              "(501, 5)"
            ]
          },
          "metadata": {},
          "execution_count": 118
        }
      ],
      "source": [
        "dataset_ready.shape"
      ]
    },
    {
      "cell_type": "markdown",
      "id": "a9dbcdf5",
      "metadata": {
        "id": "a9dbcdf5"
      },
      "source": [
        "### 4.2 Change the cleaned df to numpy.array"
      ]
    },
    {
      "cell_type": "code",
      "execution_count": null,
      "id": "a1efd849",
      "metadata": {
        "id": "a1efd849"
      },
      "outputs": [],
      "source": [
        "# define a function to change any pandas's dataframe into numpy array\n",
        "def df_to_tensor(df):\n",
        "    df_as_np = df.to_numpy()\n",
        "    \n",
        "    dates = df_as_np[:, 0]\n",
        "    middle_matrix = df_as_np[:, 1:-1]\n",
        "    # need to transpose the target-3 2 1\n",
        "    X = middle_matrix.reshape((len(dates), middle_matrix.shape[1],1))\n",
        "    \n",
        "    Y = df_as_np[:, -1]\n",
        "    \n",
        "    return dates, X.astype(np.float32), Y.astype(np.float32)"
      ]
    },
    {
      "cell_type": "code",
      "execution_count": null,
      "id": "fa72800e",
      "metadata": {
        "id": "fa72800e"
      },
      "outputs": [],
      "source": [
        "dates, X, y = df_to_tensor(dataset_ready)"
      ]
    },
    {
      "cell_type": "code",
      "execution_count": null,
      "id": "56d648c8",
      "metadata": {
        "colab": {
          "base_uri": "https://localhost:8080/"
        },
        "id": "56d648c8",
        "outputId": "d27ce82d-9442-4314-9bf6-ad23adbb74e4"
      },
      "outputs": [
        {
          "output_type": "execute_result",
          "data": {
            "text/plain": [
              "((501,), (501, 3, 1), (501,))"
            ]
          },
          "metadata": {},
          "execution_count": 121
        }
      ],
      "source": [
        "# 其中X.shape中our input matrix is 3*1 means we are looking for 3 steps in the past for only one type of variable!\n",
        "dates.shape, X.shape, y.shape"
      ]
    },
    {
      "cell_type": "markdown",
      "id": "1e100752",
      "metadata": {
        "id": "1e100752"
      },
      "source": [
        "## 5.0 Split the original data into train, validate, and test dataset"
      ]
    },
    {
      "cell_type": "code",
      "execution_count": null,
      "id": "1d74d2f3",
      "metadata": {
        "id": "1d74d2f3"
      },
      "outputs": [],
      "source": [
        "# use the first 80% as training dataset. 80~90% as validating, the last 10% as test\n",
        "q_80 = int(len(dates)* 0.8)\n",
        "q_90 = int(len(dates)* 0.9)\n",
        "\n",
        "dates_train, X_train, y_train = dates[:q_80], X[:q_80], y[:q_80]\n",
        "dates_val, X_val, y_val = dates[q_80:q_90], X[q_80:q_90], y[q_80:q_90]\n",
        "dates_test, X_test, y_test = dates[q_90:], X[q_90:], y[q_90:]"
      ]
    },
    {
      "cell_type": "code",
      "execution_count": null,
      "id": "2184e052",
      "metadata": {
        "colab": {
          "base_uri": "https://localhost:8080/",
          "height": 283
        },
        "id": "2184e052",
        "outputId": "cfa372cf-85b4-4c53-9b7f-40e28dc43317"
      },
      "outputs": [
        {
          "output_type": "execute_result",
          "data": {
            "text/plain": [
              "<matplotlib.legend.Legend at 0x7fe899297d10>"
            ]
          },
          "metadata": {},
          "execution_count": 123
        },
        {
          "output_type": "display_data",
          "data": {
            "text/plain": [
              "<Figure size 432x288 with 1 Axes>"
            ],
            "image/png": "[encoded data removed]"
          },
          "metadata": {
            "needs_background": "light"
          }
        }
      ],
      "source": [
        "# visualize these 3 datasets\n",
        "plt.plot(dates_train, y_train)\n",
        "plt.plot(dates_val, y_val)\n",
        "plt.plot(dates_test, y_test)\n",
        "plt.legend([\"Train\",\"Validation\",\"Test\"])"
      ]
    },
    {
      "cell_type": "markdown",
      "source": [
        "# Stage 2. Build the LSTM Neural Networks!"
      ],
      "metadata": {
        "id": "gldZWBeYBv3a"
      },
      "id": "gldZWBeYBv3a"
    },
    {
      "cell_type": "markdown",
      "source": [
        "## 6.0 Import the modules"
      ],
      "metadata": {
        "id": "eGhlX8d3B3yX"
      },
      "id": "eGhlX8d3B3yX"
    },
    {
      "cell_type": "code",
      "source": [
        "from keras.models import Sequential\n",
        "from tensorflow.keras.optimizers import Adam\n",
        "from keras import layers"
      ],
      "metadata": {
        "id": "jc7Awf4eB7fV"
      },
      "id": "jc7Awf4eB7fV",
      "execution_count": null,
      "outputs": []
    },
    {
      "cell_type": "code",
      "source": [
        "model = Sequential()\n",
        "model.add(layers.Input(shape = (3,1)))\n",
        "model.add(layers.LSTM(64))\n",
        "model.add(layers.Dense(32, activation = 'relu'))\n",
        "model.add(layers.Dense(32, activation = 'relu'))\n",
        "model.add(layers.Dense(1))\n",
        "\n",
        "model.compile(loss=\"mse\", optimizer = Adam(learning_rate = 0.001), metrics = [\"mean_absolute_error\"])\n",
        "model.fit(X_train, y_train, validation_data = (X_val, y_val), epochs=150)"
      ],
      "metadata": {
        "colab": {
          "base_uri": "https://localhost:8080/"
        },
        "id": "0L_-FHOLCMkV",
        "outputId": "fb6fe87d-e772-4a14-9e5c-7b6e18340af8",
        "collapsed": true
      },
      "id": "0L_-FHOLCMkV",
      "execution_count": null,
      "outputs": [
        {
          "output_type": "stream",
          "name": "stdout",
          "text": [
            "Epoch 1/150\n",
            "13/13 [==============================] - 2s 44ms/step - loss: 18237.8750 - mean_absolute_error: 133.5795 - val_loss: 27121.3906 - val_mean_absolute_error: 164.5658\n",
            "Epoch 2/150\n",
            "13/13 [==============================] - 0s 7ms/step - loss: 17781.4395 - mean_absolute_error: 131.8492 - val_loss: 26385.2227 - val_mean_absolute_error: 162.3135\n",
            "Epoch 3/150\n",
            "13/13 [==============================] - 0s 5ms/step - loss: 16998.9668 - mean_absolute_error: 128.8407 - val_loss: 25105.5508 - val_mean_absolute_error: 158.3226\n",
            "Epoch 4/150\n",
            "13/13 [==============================] - 0s 5ms/step - loss: 15788.6152 - mean_absolute_error: 124.0502 - val_loss: 23314.5605 - val_mean_absolute_error: 152.5596\n",
            "Epoch 5/150\n",
            "13/13 [==============================] - 0s 5ms/step - loss: 13695.5762 - mean_absolute_error: 115.1946 - val_loss: 19643.5605 - val_mean_absolute_error: 140.0106\n",
            "Epoch 6/150\n",
            "13/13 [==============================] - 0s 5ms/step - loss: 10223.1602 - mean_absolute_error: 98.7706 - val_loss: 14152.4346 - val_mean_absolute_error: 118.7843\n",
            "Epoch 7/150\n",
            "13/13 [==============================] - 0s 6ms/step - loss: 5747.7832 - mean_absolute_error: 72.4036 - val_loss: 7840.0923 - val_mean_absolute_error: 88.3058\n",
            "Epoch 8/150\n",
            "13/13 [==============================] - 0s 6ms/step - loss: 2220.7915 - mean_absolute_error: 41.8353 - val_loss: 3334.1838 - val_mean_absolute_error: 57.3908\n",
            "Epoch 9/150\n",
            "13/13 [==============================] - 0s 5ms/step - loss: 634.1765 - mean_absolute_error: 19.4648 - val_loss: 1207.0205 - val_mean_absolute_error: 34.1589\n",
            "Epoch 10/150\n",
            "13/13 [==============================] - 0s 6ms/step - loss: 414.4560 - mean_absolute_error: 16.9881 - val_loss: 720.8142 - val_mean_absolute_error: 26.1037\n",
            "Epoch 11/150\n",
            "13/13 [==============================] - 0s 6ms/step - loss: 408.7491 - mean_absolute_error: 16.9330 - val_loss: 921.2484 - val_mean_absolute_error: 29.7044\n",
            "Epoch 12/150\n",
            "13/13 [==============================] - 0s 7ms/step - loss: 384.5992 - mean_absolute_error: 16.0911 - val_loss: 1055.4626 - val_mean_absolute_error: 31.8913\n",
            "Epoch 13/150\n",
            "13/13 [==============================] - 0s 6ms/step - loss: 364.3254 - mean_absolute_error: 15.3446 - val_loss: 1022.1575 - val_mean_absolute_error: 31.3978\n",
            "Epoch 14/150\n",
            "13/13 [==============================] - 0s 6ms/step - loss: 309.9887 - mean_absolute_error: 13.8901 - val_loss: 890.2084 - val_mean_absolute_error: 29.2569\n",
            "Epoch 15/150\n",
            "13/13 [==============================] - 0s 7ms/step - loss: 258.7350 - mean_absolute_error: 12.6186 - val_loss: 720.6164 - val_mean_absolute_error: 26.2310\n",
            "Epoch 16/150\n",
            "13/13 [==============================] - 0s 6ms/step - loss: 209.9075 - mean_absolute_error: 11.2329 - val_loss: 552.0053 - val_mean_absolute_error: 22.8248\n",
            "Epoch 17/150\n",
            "13/13 [==============================] - 0s 6ms/step - loss: 146.5404 - mean_absolute_error: 9.0840 - val_loss: 436.5017 - val_mean_absolute_error: 20.2454\n",
            "Epoch 18/150\n",
            "13/13 [==============================] - 0s 6ms/step - loss: 100.5047 - mean_absolute_error: 7.0969 - val_loss: 315.6649 - val_mean_absolute_error: 17.0882\n",
            "Epoch 19/150\n",
            "13/13 [==============================] - 0s 6ms/step - loss: 67.0555 - mean_absolute_error: 5.5032 - val_loss: 186.6770 - val_mean_absolute_error: 12.7430\n",
            "Epoch 20/150\n",
            "13/13 [==============================] - 0s 5ms/step - loss: 44.4049 - mean_absolute_error: 4.2394 - val_loss: 123.6434 - val_mean_absolute_error: 10.1556\n",
            "Epoch 21/150\n",
            "13/13 [==============================] - 0s 6ms/step - loss: 30.5621 - mean_absolute_error: 3.5836 - val_loss: 68.4579 - val_mean_absolute_error: 7.1760\n",
            "Epoch 22/150\n",
            "13/13 [==============================] - 0s 6ms/step - loss: 20.5875 - mean_absolute_error: 3.0369 - val_loss: 59.4156 - val_mean_absolute_error: 6.7647\n",
            "Epoch 23/150\n",
            "13/13 [==============================] - 0s 6ms/step - loss: 18.4247 - mean_absolute_error: 3.0421 - val_loss: 39.3702 - val_mean_absolute_error: 5.3844\n",
            "Epoch 24/150\n",
            "13/13 [==============================] - 0s 5ms/step - loss: 15.8972 - mean_absolute_error: 2.9007 - val_loss: 23.6315 - val_mean_absolute_error: 4.0040\n",
            "Epoch 25/150\n",
            "13/13 [==============================] - 0s 6ms/step - loss: 12.9402 - mean_absolute_error: 2.6477 - val_loss: 20.1505 - val_mean_absolute_error: 3.7408\n",
            "Epoch 26/150\n",
            "13/13 [==============================] - 0s 6ms/step - loss: 11.4529 - mean_absolute_error: 2.4626 - val_loss: 17.7303 - val_mean_absolute_error: 3.5209\n",
            "Epoch 27/150\n",
            "13/13 [==============================] - 0s 5ms/step - loss: 10.3597 - mean_absolute_error: 2.3947 - val_loss: 14.2333 - val_mean_absolute_error: 3.0050\n",
            "Epoch 28/150\n",
            "13/13 [==============================] - 0s 5ms/step - loss: 10.3872 - mean_absolute_error: 2.4908 - val_loss: 15.3527 - val_mean_absolute_error: 3.3214\n",
            "Epoch 29/150\n",
            "13/13 [==============================] - 0s 7ms/step - loss: 9.5235 - mean_absolute_error: 2.3160 - val_loss: 14.9869 - val_mean_absolute_error: 3.3008\n",
            "Epoch 30/150\n",
            "13/13 [==============================] - 0s 6ms/step - loss: 8.4087 - mean_absolute_error: 2.1774 - val_loss: 13.1759 - val_mean_absolute_error: 2.8759\n",
            "Epoch 31/150\n",
            "13/13 [==============================] - 0s 6ms/step - loss: 9.2417 - mean_absolute_error: 2.3586 - val_loss: 12.3909 - val_mean_absolute_error: 3.0040\n",
            "Epoch 32/150\n",
            "13/13 [==============================] - 0s 7ms/step - loss: 7.6765 - mean_absolute_error: 2.0719 - val_loss: 14.5236 - val_mean_absolute_error: 2.9893\n",
            "Epoch 33/150\n",
            "13/13 [==============================] - 0s 6ms/step - loss: 9.3382 - mean_absolute_error: 2.4225 - val_loss: 10.8035 - val_mean_absolute_error: 2.7765\n",
            "Epoch 34/150\n",
            "13/13 [==============================] - 0s 6ms/step - loss: 7.6403 - mean_absolute_error: 2.0966 - val_loss: 11.2868 - val_mean_absolute_error: 2.7070\n",
            "Epoch 35/150\n",
            "13/13 [==============================] - 0s 6ms/step - loss: 7.3377 - mean_absolute_error: 2.0249 - val_loss: 10.4738 - val_mean_absolute_error: 2.6590\n",
            "Epoch 36/150\n",
            "13/13 [==============================] - 0s 6ms/step - loss: 7.7968 - mean_absolute_error: 2.1129 - val_loss: 10.5043 - val_mean_absolute_error: 2.6555\n",
            "Epoch 37/150\n",
            "13/13 [==============================] - 0s 6ms/step - loss: 7.1703 - mean_absolute_error: 2.0150 - val_loss: 11.1174 - val_mean_absolute_error: 2.6665\n",
            "Epoch 38/150\n",
            "13/13 [==============================] - 0s 5ms/step - loss: 7.2331 - mean_absolute_error: 2.0238 - val_loss: 11.5056 - val_mean_absolute_error: 2.6954\n",
            "Epoch 39/150\n",
            "13/13 [==============================] - 0s 6ms/step - loss: 6.8884 - mean_absolute_error: 1.9810 - val_loss: 11.0967 - val_mean_absolute_error: 2.6582\n",
            "Epoch 40/150\n",
            "13/13 [==============================] - 0s 6ms/step - loss: 6.8202 - mean_absolute_error: 1.9976 - val_loss: 9.5952 - val_mean_absolute_error: 2.5985\n",
            "Epoch 41/150\n",
            "13/13 [==============================] - 0s 7ms/step - loss: 7.2139 - mean_absolute_error: 2.0358 - val_loss: 9.9161 - val_mean_absolute_error: 2.6067\n",
            "Epoch 42/150\n",
            "13/13 [==============================] - 0s 6ms/step - loss: 7.0545 - mean_absolute_error: 1.9881 - val_loss: 10.2098 - val_mean_absolute_error: 2.6134\n",
            "Epoch 43/150\n",
            "13/13 [==============================] - 0s 5ms/step - loss: 8.1099 - mean_absolute_error: 2.2579 - val_loss: 12.0808 - val_mean_absolute_error: 2.7574\n",
            "Epoch 44/150\n",
            "13/13 [==============================] - 0s 8ms/step - loss: 7.2877 - mean_absolute_error: 2.0657 - val_loss: 10.0643 - val_mean_absolute_error: 2.7282\n",
            "Epoch 45/150\n",
            "13/13 [==============================] - 0s 6ms/step - loss: 7.1498 - mean_absolute_error: 2.0416 - val_loss: 11.6461 - val_mean_absolute_error: 2.7251\n",
            "Epoch 46/150\n",
            "13/13 [==============================] - 0s 6ms/step - loss: 7.8367 - mean_absolute_error: 2.1661 - val_loss: 9.7051 - val_mean_absolute_error: 2.6638\n",
            "Epoch 47/150\n",
            "13/13 [==============================] - 0s 6ms/step - loss: 7.2515 - mean_absolute_error: 2.0194 - val_loss: 10.6409 - val_mean_absolute_error: 2.6385\n",
            "Epoch 48/150\n",
            "13/13 [==============================] - 0s 7ms/step - loss: 6.6754 - mean_absolute_error: 1.9549 - val_loss: 10.4292 - val_mean_absolute_error: 2.6142\n",
            "Epoch 49/150\n",
            "13/13 [==============================] - 0s 6ms/step - loss: 6.9335 - mean_absolute_error: 1.9799 - val_loss: 11.7835 - val_mean_absolute_error: 2.7441\n",
            "Epoch 50/150\n",
            "13/13 [==============================] - 0s 7ms/step - loss: 6.8004 - mean_absolute_error: 1.9647 - val_loss: 10.0983 - val_mean_absolute_error: 2.6011\n",
            "Epoch 51/150\n",
            "13/13 [==============================] - 0s 6ms/step - loss: 6.7832 - mean_absolute_error: 1.9686 - val_loss: 9.3986 - val_mean_absolute_error: 2.5781\n",
            "Epoch 52/150\n",
            "13/13 [==============================] - 0s 6ms/step - loss: 7.2432 - mean_absolute_error: 2.0852 - val_loss: 11.9667 - val_mean_absolute_error: 2.7581\n",
            "Epoch 53/150\n",
            "13/13 [==============================] - 0s 6ms/step - loss: 7.2544 - mean_absolute_error: 2.0774 - val_loss: 9.2532 - val_mean_absolute_error: 2.5641\n",
            "Epoch 54/150\n",
            "13/13 [==============================] - 0s 7ms/step - loss: 6.6027 - mean_absolute_error: 1.9519 - val_loss: 13.2994 - val_mean_absolute_error: 2.9223\n",
            "Epoch 55/150\n",
            "13/13 [==============================] - 0s 6ms/step - loss: 6.7371 - mean_absolute_error: 1.9805 - val_loss: 9.8049 - val_mean_absolute_error: 2.6767\n",
            "Epoch 56/150\n",
            "13/13 [==============================] - 0s 6ms/step - loss: 6.5567 - mean_absolute_error: 1.9575 - val_loss: 9.6095 - val_mean_absolute_error: 2.5739\n",
            "Epoch 57/150\n",
            "13/13 [==============================] - 0s 10ms/step - loss: 6.2958 - mean_absolute_error: 1.9000 - val_loss: 9.1457 - val_mean_absolute_error: 2.5527\n",
            "Epoch 58/150\n",
            "13/13 [==============================] - 0s 8ms/step - loss: 6.7591 - mean_absolute_error: 1.9845 - val_loss: 10.8440 - val_mean_absolute_error: 2.6676\n",
            "Epoch 59/150\n",
            "13/13 [==============================] - 0s 8ms/step - loss: 6.7742 - mean_absolute_error: 1.9494 - val_loss: 9.1565 - val_mean_absolute_error: 2.5662\n",
            "Epoch 60/150\n",
            "13/13 [==============================] - 0s 6ms/step - loss: 6.7116 - mean_absolute_error: 1.9523 - val_loss: 10.8129 - val_mean_absolute_error: 2.6743\n",
            "Epoch 61/150\n",
            "13/13 [==============================] - 0s 7ms/step - loss: 6.7715 - mean_absolute_error: 1.9434 - val_loss: 9.3883 - val_mean_absolute_error: 2.5482\n",
            "Epoch 62/150\n",
            "13/13 [==============================] - 0s 6ms/step - loss: 6.8368 - mean_absolute_error: 2.0053 - val_loss: 9.3515 - val_mean_absolute_error: 2.6013\n",
            "Epoch 63/150\n",
            "13/13 [==============================] - 0s 6ms/step - loss: 7.1993 - mean_absolute_error: 2.0796 - val_loss: 10.4729 - val_mean_absolute_error: 2.6370\n",
            "Epoch 64/150\n",
            "13/13 [==============================] - 0s 7ms/step - loss: 6.7683 - mean_absolute_error: 1.9669 - val_loss: 11.9093 - val_mean_absolute_error: 2.7734\n",
            "Epoch 65/150\n",
            "13/13 [==============================] - 0s 6ms/step - loss: 7.5703 - mean_absolute_error: 2.1634 - val_loss: 9.9775 - val_mean_absolute_error: 2.6032\n",
            "Epoch 66/150\n",
            "13/13 [==============================] - 0s 6ms/step - loss: 7.0021 - mean_absolute_error: 1.9917 - val_loss: 10.8127 - val_mean_absolute_error: 2.6730\n",
            "Epoch 67/150\n",
            "13/13 [==============================] - 0s 6ms/step - loss: 6.6074 - mean_absolute_error: 1.9431 - val_loss: 10.9100 - val_mean_absolute_error: 2.6811\n",
            "Epoch 68/150\n",
            "13/13 [==============================] - 0s 6ms/step - loss: 7.3234 - mean_absolute_error: 2.1317 - val_loss: 9.0173 - val_mean_absolute_error: 2.5526\n",
            "Epoch 69/150\n",
            "13/13 [==============================] - 0s 6ms/step - loss: 7.2863 - mean_absolute_error: 2.0457 - val_loss: 9.3977 - val_mean_absolute_error: 2.6066\n",
            "Epoch 70/150\n",
            "13/13 [==============================] - 0s 6ms/step - loss: 6.4280 - mean_absolute_error: 1.9262 - val_loss: 9.9809 - val_mean_absolute_error: 2.6007\n",
            "Epoch 71/150\n",
            "13/13 [==============================] - 0s 6ms/step - loss: 6.8562 - mean_absolute_error: 1.9979 - val_loss: 9.0364 - val_mean_absolute_error: 2.5526\n",
            "Epoch 72/150\n",
            "13/13 [==============================] - 0s 6ms/step - loss: 6.7479 - mean_absolute_error: 2.0060 - val_loss: 11.1546 - val_mean_absolute_error: 2.7067\n",
            "Epoch 73/150\n",
            "13/13 [==============================] - 0s 6ms/step - loss: 6.6605 - mean_absolute_error: 1.9883 - val_loss: 8.9581 - val_mean_absolute_error: 2.5485\n",
            "Epoch 74/150\n",
            "13/13 [==============================] - 0s 5ms/step - loss: 7.7875 - mean_absolute_error: 2.1233 - val_loss: 11.6811 - val_mean_absolute_error: 2.7592\n",
            "Epoch 75/150\n",
            "13/13 [==============================] - 0s 6ms/step - loss: 7.4107 - mean_absolute_error: 2.0949 - val_loss: 12.3753 - val_mean_absolute_error: 2.8392\n",
            "Epoch 76/150\n",
            "13/13 [==============================] - 0s 7ms/step - loss: 6.4847 - mean_absolute_error: 1.9190 - val_loss: 9.4869 - val_mean_absolute_error: 2.5478\n",
            "Epoch 77/150\n",
            "13/13 [==============================] - 0s 6ms/step - loss: 6.5873 - mean_absolute_error: 1.9524 - val_loss: 9.2738 - val_mean_absolute_error: 2.5404\n",
            "Epoch 78/150\n",
            "13/13 [==============================] - 0s 7ms/step - loss: 6.5224 - mean_absolute_error: 1.9383 - val_loss: 13.2757 - val_mean_absolute_error: 2.9297\n",
            "Epoch 79/150\n",
            "13/13 [==============================] - 0s 5ms/step - loss: 6.5580 - mean_absolute_error: 1.9215 - val_loss: 8.9896 - val_mean_absolute_error: 2.5327\n",
            "Epoch 80/150\n",
            "13/13 [==============================] - 0s 6ms/step - loss: 6.6156 - mean_absolute_error: 1.9323 - val_loss: 11.9571 - val_mean_absolute_error: 2.7922\n",
            "Epoch 81/150\n",
            "13/13 [==============================] - 0s 6ms/step - loss: 6.8816 - mean_absolute_error: 1.9888 - val_loss: 9.0482 - val_mean_absolute_error: 2.5197\n",
            "Epoch 82/150\n",
            "13/13 [==============================] - 0s 7ms/step - loss: 7.5850 - mean_absolute_error: 2.1193 - val_loss: 15.0781 - val_mean_absolute_error: 3.1043\n",
            "Epoch 83/150\n",
            "13/13 [==============================] - 0s 6ms/step - loss: 7.1534 - mean_absolute_error: 2.0270 - val_loss: 13.9494 - val_mean_absolute_error: 3.0068\n",
            "Epoch 84/150\n",
            "13/13 [==============================] - 0s 6ms/step - loss: 6.6051 - mean_absolute_error: 1.9908 - val_loss: 8.9223 - val_mean_absolute_error: 2.5218\n",
            "Epoch 85/150\n",
            "13/13 [==============================] - 0s 6ms/step - loss: 6.5887 - mean_absolute_error: 1.9450 - val_loss: 13.6241 - val_mean_absolute_error: 2.9678\n",
            "Epoch 86/150\n",
            "13/13 [==============================] - 0s 6ms/step - loss: 6.8283 - mean_absolute_error: 2.0034 - val_loss: 8.9809 - val_mean_absolute_error: 2.5403\n",
            "Epoch 87/150\n",
            "13/13 [==============================] - 0s 6ms/step - loss: 7.1522 - mean_absolute_error: 2.0693 - val_loss: 10.9656 - val_mean_absolute_error: 2.6972\n",
            "Epoch 88/150\n",
            "13/13 [==============================] - 0s 5ms/step - loss: 7.0580 - mean_absolute_error: 2.0468 - val_loss: 15.8609 - val_mean_absolute_error: 3.2058\n",
            "Epoch 89/150\n",
            "13/13 [==============================] - 0s 7ms/step - loss: 6.9715 - mean_absolute_error: 2.0274 - val_loss: 9.0934 - val_mean_absolute_error: 2.5543\n",
            "Epoch 90/150\n",
            "13/13 [==============================] - 0s 6ms/step - loss: 6.7785 - mean_absolute_error: 1.9979 - val_loss: 11.8042 - val_mean_absolute_error: 2.7854\n",
            "Epoch 91/150\n",
            "13/13 [==============================] - 0s 6ms/step - loss: 6.4752 - mean_absolute_error: 1.9332 - val_loss: 9.4385 - val_mean_absolute_error: 2.5486\n",
            "Epoch 92/150\n",
            "13/13 [==============================] - 0s 8ms/step - loss: 6.6432 - mean_absolute_error: 1.9414 - val_loss: 8.9999 - val_mean_absolute_error: 2.5170\n",
            "Epoch 93/150\n",
            "13/13 [==============================] - 0s 7ms/step - loss: 7.2558 - mean_absolute_error: 2.0600 - val_loss: 14.0508 - val_mean_absolute_error: 3.0191\n",
            "Epoch 94/150\n",
            "13/13 [==============================] - 0s 6ms/step - loss: 6.5387 - mean_absolute_error: 1.9213 - val_loss: 9.3189 - val_mean_absolute_error: 2.5318\n",
            "Epoch 95/150\n",
            "13/13 [==============================] - 0s 6ms/step - loss: 6.6693 - mean_absolute_error: 1.9779 - val_loss: 9.1784 - val_mean_absolute_error: 2.5264\n",
            "Epoch 96/150\n",
            "13/13 [==============================] - 0s 6ms/step - loss: 7.0247 - mean_absolute_error: 1.9876 - val_loss: 9.1956 - val_mean_absolute_error: 2.5365\n",
            "Epoch 97/150\n",
            "13/13 [==============================] - 0s 6ms/step - loss: 6.6650 - mean_absolute_error: 1.9669 - val_loss: 8.8739 - val_mean_absolute_error: 2.5264\n",
            "Epoch 98/150\n",
            "13/13 [==============================] - 0s 5ms/step - loss: 6.6671 - mean_absolute_error: 1.9481 - val_loss: 9.4293 - val_mean_absolute_error: 2.5388\n",
            "Epoch 99/150\n",
            "13/13 [==============================] - 0s 7ms/step - loss: 6.7652 - mean_absolute_error: 1.9778 - val_loss: 11.6003 - val_mean_absolute_error: 2.8393\n",
            "Epoch 100/150\n",
            "13/13 [==============================] - 0s 6ms/step - loss: 6.6045 - mean_absolute_error: 1.9531 - val_loss: 9.8407 - val_mean_absolute_error: 2.5877\n",
            "Epoch 101/150\n",
            "13/13 [==============================] - 0s 6ms/step - loss: 6.3121 - mean_absolute_error: 1.8973 - val_loss: 10.3308 - val_mean_absolute_error: 2.6278\n",
            "Epoch 102/150\n",
            "13/13 [==============================] - 0s 7ms/step - loss: 6.5926 - mean_absolute_error: 1.9492 - val_loss: 8.9275 - val_mean_absolute_error: 2.5187\n",
            "Epoch 103/150\n",
            "13/13 [==============================] - 0s 6ms/step - loss: 6.5643 - mean_absolute_error: 1.9279 - val_loss: 11.5564 - val_mean_absolute_error: 2.7500\n",
            "Epoch 104/150\n",
            "13/13 [==============================] - 0s 6ms/step - loss: 6.5436 - mean_absolute_error: 1.9479 - val_loss: 8.9366 - val_mean_absolute_error: 2.5381\n",
            "Epoch 105/150\n",
            "13/13 [==============================] - 0s 6ms/step - loss: 6.4930 - mean_absolute_error: 1.9432 - val_loss: 13.4200 - val_mean_absolute_error: 2.9507\n",
            "Epoch 106/150\n",
            "13/13 [==============================] - 0s 10ms/step - loss: 6.8620 - mean_absolute_error: 2.0165 - val_loss: 9.1904 - val_mean_absolute_error: 2.5283\n",
            "Epoch 107/150\n",
            "13/13 [==============================] - 0s 12ms/step - loss: 6.5184 - mean_absolute_error: 1.9105 - val_loss: 9.0299 - val_mean_absolute_error: 2.5088\n",
            "Epoch 108/150\n",
            "13/13 [==============================] - 0s 10ms/step - loss: 6.4172 - mean_absolute_error: 1.9322 - val_loss: 8.8612 - val_mean_absolute_error: 2.5141\n",
            "Epoch 109/150\n",
            "13/13 [==============================] - 0s 9ms/step - loss: 6.4558 - mean_absolute_error: 1.9152 - val_loss: 10.7705 - val_mean_absolute_error: 2.6726\n",
            "Epoch 110/150\n",
            "13/13 [==============================] - 0s 10ms/step - loss: 6.4085 - mean_absolute_error: 1.9253 - val_loss: 9.1911 - val_mean_absolute_error: 2.5240\n",
            "Epoch 111/150\n",
            "13/13 [==============================] - 0s 11ms/step - loss: 6.8232 - mean_absolute_error: 1.9974 - val_loss: 9.1890 - val_mean_absolute_error: 2.5446\n",
            "Epoch 112/150\n",
            "13/13 [==============================] - 0s 13ms/step - loss: 7.0456 - mean_absolute_error: 2.0540 - val_loss: 10.2822 - val_mean_absolute_error: 2.6154\n",
            "Epoch 113/150\n",
            "13/13 [==============================] - 0s 14ms/step - loss: 6.7505 - mean_absolute_error: 1.9718 - val_loss: 9.3792 - val_mean_absolute_error: 2.5482\n",
            "Epoch 114/150\n",
            "13/13 [==============================] - 0s 9ms/step - loss: 6.5489 - mean_absolute_error: 1.9274 - val_loss: 10.7110 - val_mean_absolute_error: 2.6732\n",
            "Epoch 115/150\n",
            "13/13 [==============================] - 0s 12ms/step - loss: 6.5908 - mean_absolute_error: 1.9416 - val_loss: 8.7453 - val_mean_absolute_error: 2.4926\n",
            "Epoch 116/150\n",
            "13/13 [==============================] - 0s 10ms/step - loss: 6.5803 - mean_absolute_error: 1.9348 - val_loss: 10.3520 - val_mean_absolute_error: 2.6343\n",
            "Epoch 117/150\n",
            "13/13 [==============================] - 0s 15ms/step - loss: 6.3564 - mean_absolute_error: 1.9135 - val_loss: 8.7850 - val_mean_absolute_error: 2.5243\n",
            "Epoch 118/150\n",
            "13/13 [==============================] - 0s 12ms/step - loss: 6.5614 - mean_absolute_error: 1.9145 - val_loss: 8.8049 - val_mean_absolute_error: 2.5099\n",
            "Epoch 119/150\n",
            "13/13 [==============================] - 0s 13ms/step - loss: 6.6340 - mean_absolute_error: 1.9522 - val_loss: 9.2976 - val_mean_absolute_error: 2.5352\n",
            "Epoch 120/150\n",
            "13/13 [==============================] - 0s 9ms/step - loss: 6.8589 - mean_absolute_error: 1.9937 - val_loss: 10.6110 - val_mean_absolute_error: 2.6521\n",
            "Epoch 121/150\n",
            "13/13 [==============================] - 0s 10ms/step - loss: 6.5695 - mean_absolute_error: 1.9507 - val_loss: 9.4623 - val_mean_absolute_error: 2.5404\n",
            "Epoch 122/150\n",
            "13/13 [==============================] - 0s 10ms/step - loss: 6.3367 - mean_absolute_error: 1.9399 - val_loss: 10.4708 - val_mean_absolute_error: 2.6473\n",
            "Epoch 123/150\n",
            "13/13 [==============================] - 0s 16ms/step - loss: 6.4006 - mean_absolute_error: 1.9189 - val_loss: 10.7391 - val_mean_absolute_error: 2.6759\n",
            "Epoch 124/150\n",
            "13/13 [==============================] - 0s 15ms/step - loss: 6.6408 - mean_absolute_error: 1.9695 - val_loss: 8.9096 - val_mean_absolute_error: 2.5123\n",
            "Epoch 125/150\n",
            "13/13 [==============================] - 0s 15ms/step - loss: 7.3046 - mean_absolute_error: 2.0765 - val_loss: 11.9356 - val_mean_absolute_error: 2.7832\n",
            "Epoch 126/150\n",
            "13/13 [==============================] - 0s 9ms/step - loss: 6.8699 - mean_absolute_error: 2.0174 - val_loss: 10.1006 - val_mean_absolute_error: 2.6982\n",
            "Epoch 127/150\n",
            "13/13 [==============================] - 0s 9ms/step - loss: 7.2423 - mean_absolute_error: 2.0151 - val_loss: 15.2512 - val_mean_absolute_error: 3.1652\n",
            "Epoch 128/150\n",
            "13/13 [==============================] - 0s 9ms/step - loss: 6.5627 - mean_absolute_error: 1.9644 - val_loss: 10.6199 - val_mean_absolute_error: 2.6673\n",
            "Epoch 129/150\n",
            "13/13 [==============================] - 0s 10ms/step - loss: 6.7879 - mean_absolute_error: 1.9802 - val_loss: 8.9777 - val_mean_absolute_error: 2.5650\n",
            "Epoch 130/150\n",
            "13/13 [==============================] - 0s 11ms/step - loss: 6.6999 - mean_absolute_error: 1.9598 - val_loss: 10.2203 - val_mean_absolute_error: 2.6206\n",
            "Epoch 131/150\n",
            "13/13 [==============================] - 0s 15ms/step - loss: 6.4189 - mean_absolute_error: 1.9155 - val_loss: 8.8995 - val_mean_absolute_error: 2.5388\n",
            "Epoch 132/150\n",
            "13/13 [==============================] - 0s 13ms/step - loss: 7.1213 - mean_absolute_error: 2.0463 - val_loss: 14.3729 - val_mean_absolute_error: 3.0564\n",
            "Epoch 133/150\n",
            "13/13 [==============================] - 0s 10ms/step - loss: 6.7270 - mean_absolute_error: 1.9890 - val_loss: 8.9714 - val_mean_absolute_error: 2.5497\n",
            "Epoch 134/150\n",
            "13/13 [==============================] - 0s 11ms/step - loss: 6.9040 - mean_absolute_error: 1.9729 - val_loss: 9.1356 - val_mean_absolute_error: 2.5216\n",
            "Epoch 135/150\n",
            "13/13 [==============================] - 0s 15ms/step - loss: 6.9830 - mean_absolute_error: 2.0074 - val_loss: 17.2068 - val_mean_absolute_error: 3.3778\n",
            "Epoch 136/150\n",
            "13/13 [==============================] - 0s 14ms/step - loss: 6.8812 - mean_absolute_error: 2.0532 - val_loss: 9.3872 - val_mean_absolute_error: 2.6166\n",
            "Epoch 137/150\n",
            "13/13 [==============================] - 0s 14ms/step - loss: 8.0010 - mean_absolute_error: 2.1752 - val_loss: 9.2016 - val_mean_absolute_error: 2.5892\n",
            "Epoch 138/150\n",
            "13/13 [==============================] - 0s 11ms/step - loss: 8.0508 - mean_absolute_error: 2.1997 - val_loss: 17.0827 - val_mean_absolute_error: 3.3585\n",
            "Epoch 139/150\n",
            "13/13 [==============================] - 0s 18ms/step - loss: 7.2987 - mean_absolute_error: 2.0940 - val_loss: 8.8612 - val_mean_absolute_error: 2.4967\n",
            "Epoch 140/150\n",
            "13/13 [==============================] - 0s 15ms/step - loss: 7.1577 - mean_absolute_error: 2.0551 - val_loss: 9.6396 - val_mean_absolute_error: 2.6411\n",
            "Epoch 141/150\n",
            "13/13 [==============================] - 0s 9ms/step - loss: 7.3427 - mean_absolute_error: 2.0903 - val_loss: 17.0633 - val_mean_absolute_error: 3.3607\n",
            "Epoch 142/150\n",
            "13/13 [==============================] - 0s 12ms/step - loss: 7.9242 - mean_absolute_error: 2.1652 - val_loss: 11.2009 - val_mean_absolute_error: 2.7208\n",
            "Epoch 143/150\n",
            "13/13 [==============================] - 0s 11ms/step - loss: 6.7158 - mean_absolute_error: 2.0146 - val_loss: 9.2754 - val_mean_absolute_error: 2.5400\n",
            "Epoch 144/150\n",
            "13/13 [==============================] - 0s 9ms/step - loss: 7.5227 - mean_absolute_error: 2.1160 - val_loss: 8.8924 - val_mean_absolute_error: 2.5130\n",
            "Epoch 145/150\n",
            "13/13 [==============================] - 0s 14ms/step - loss: 7.9991 - mean_absolute_error: 2.2056 - val_loss: 12.1718 - val_mean_absolute_error: 2.8167\n",
            "Epoch 146/150\n",
            "13/13 [==============================] - 0s 12ms/step - loss: 6.7116 - mean_absolute_error: 1.9610 - val_loss: 13.6455 - val_mean_absolute_error: 2.9871\n",
            "Epoch 147/150\n",
            "13/13 [==============================] - 0s 9ms/step - loss: 6.5044 - mean_absolute_error: 1.9414 - val_loss: 10.7593 - val_mean_absolute_error: 2.6752\n",
            "Epoch 148/150\n",
            "13/13 [==============================] - 0s 12ms/step - loss: 6.6663 - mean_absolute_error: 1.9824 - val_loss: 8.9375 - val_mean_absolute_error: 2.5071\n",
            "Epoch 149/150\n",
            "13/13 [==============================] - 0s 9ms/step - loss: 6.4758 - mean_absolute_error: 1.9238 - val_loss: 11.4513 - val_mean_absolute_error: 2.7476\n",
            "Epoch 150/150\n",
            "13/13 [==============================] - 0s 16ms/step - loss: 6.8333 - mean_absolute_error: 1.9978 - val_loss: 9.2751 - val_mean_absolute_error: 2.6093\n"
          ]
        },
        {
          "output_type": "execute_result",
          "data": {
            "text/plain": [
              "<keras.callbacks.History at 0x7fe898f584d0>"
            ]
          },
          "metadata": {},
          "execution_count": 125
        }
      ]
    },
    {
      "cell_type": "code",
      "source": [
        "train_predictions = model.predict(X_train).flatten()\n",
        "\n",
        "plt.clf()\n",
        "plt.plot(dates_train, train_predictions)\n",
        "plt.plot(dates_train, y_train)\n",
        "plt.legend([\"training Predictions\", \"Training Observations\"])"
      ],
      "metadata": {
        "colab": {
          "base_uri": "https://localhost:8080/",
          "height": 283
        },
        "id": "9jGDYZD7JKjC",
        "outputId": "ba60ac46-f28e-43ed-f7ca-2ffc193eda4e"
      },
      "id": "9jGDYZD7JKjC",
      "execution_count": null,
      "outputs": [
        {
          "output_type": "execute_result",
          "data": {
            "text/plain": [
              "<matplotlib.legend.Legend at 0x7fe7f10aed90>"
            ]
          },
          "metadata": {},
          "execution_count": 126
        },
        {
          "output_type": "display_data",
          "data": {
            "text/plain": [
              "<Figure size 432x288 with 1 Axes>"
            ],
            "image/png": "[encoded data removed]"
          },
          "metadata": {
            "needs_background": "light"
          }
        }
      ]
    },
    {
      "cell_type": "code",
      "source": [
        "val_predictions = model.predict(X_val).flatten()\n",
        "\n",
        "plt.plot(dates_val, val_predictions)\n",
        "plt.plot(dates_val, y_val)\n",
        "plt.legend([\"Validation Predictions\", \"Validation Observations\"])"
      ],
      "metadata": {
        "colab": {
          "base_uri": "https://localhost:8080/",
          "height": 286
        },
        "id": "UoqmcWcuJ5T1",
        "outputId": "5d4d30fa-2b71-401a-bc82-92b8f9252e5c"
      },
      "id": "UoqmcWcuJ5T1",
      "execution_count": null,
      "outputs": [
        {
          "output_type": "execute_result",
          "data": {
            "text/plain": [
              "<matplotlib.legend.Legend at 0x7fe7ee7c5ed0>"
            ]
          },
          "metadata": {},
          "execution_count": 127
        },
        {
          "output_type": "display_data",
          "data": {
            "text/plain": [
              "<Figure size 432x288 with 1 Axes>"
            ],
            "image/png": "[encoded data removed]"
          },
          "metadata": {
            "needs_background": "light"
          }
        }
      ]
    },
    {
      "cell_type": "code",
      "source": [
        "test_predictions = model.predict(X_test).flatten()\n",
        "\n",
        "plt.plot(dates_test, test_predictions)\n",
        "plt.plot(dates_test, y_test)\n",
        "plt.legend([\"Test Predictions\", \"Test Observations\"])"
      ],
      "metadata": {
        "colab": {
          "base_uri": "https://localhost:8080/",
          "height": 283
        },
        "id": "-p-JDF5EKrh2",
        "outputId": "121102f3-3020-45de-d58c-4a7294e10dc5"
      },
      "id": "-p-JDF5EKrh2",
      "execution_count": null,
      "outputs": [
        {
          "output_type": "execute_result",
          "data": {
            "text/plain": [
              "<matplotlib.legend.Legend at 0x7fe7ee73d890>"
            ]
          },
          "metadata": {},
          "execution_count": 128
        },
        {
          "output_type": "display_data",
          "data": {
            "text/plain": [
              "<Figure size 432x288 with 1 Axes>"
            ],
            "image/png": "[encoded data removed]"
          },
          "metadata": {
            "needs_background": "light"
          }
        }
      ]
    },
    {
      "cell_type": "code",
      "source": [
        "# put all plot on the same figure\n",
        "plt.clf()\n",
        "plt.plot(dates_train, train_predictions)\n",
        "plt.plot(dates_train, y_train)\n",
        "plt.plot(dates_val, val_predictions)\n",
        "plt.plot(dates_val, y_val)\n",
        "plt.plot(dates_test, test_predictions)\n",
        "plt.plot(dates_test, y_test)\n",
        "plt.legend([\"Train Predictions\", \"Train Observations\",\n",
        "            \"Validation Predictions\", \"Validation Observations\",\n",
        "            \"Testing Predictions\", \"Testing Observations\"])"
      ],
      "metadata": {
        "colab": {
          "base_uri": "https://localhost:8080/",
          "height": 283
        },
        "id": "UaBAefaZLPU5",
        "outputId": "36ee1ecb-549c-412f-a21a-436109da9336"
      },
      "id": "UaBAefaZLPU5",
      "execution_count": null,
      "outputs": [
        {
          "output_type": "execute_result",
          "data": {
            "text/plain": [
              "<matplotlib.legend.Legend at 0x7fe7f0fff690>"
            ]
          },
          "metadata": {},
          "execution_count": 129
        },
        {
          "output_type": "display_data",
          "data": {
            "text/plain": [
              "<Figure size 432x288 with 1 Axes>"
            ],
            "image/png": "[encoded data removed]"
          },
          "metadata": {
            "needs_background": "light"
          }
        }
      ]
    },
    {
      "cell_type": "markdown",
      "source": [
        "## Stage 3. To predict the long term"
      ],
      "metadata": {
        "id": "eKPTajspRoN6"
      },
      "id": "eKPTajspRoN6"
    },
    {
      "cell_type": "code",
      "source": [
        "from copy import deepcopy\n",
        "# built-in function shallow copy will change the original list\n",
        "# deepcopy will not change the original list\n",
        "recursive_predictions = []\n",
        "recursive_dates = np.concatenate([dates_val, dates_test])\n",
        "\n",
        "for target_date in recursive_dates:\n",
        "  last_window = deepcopy(X_train[-1])\n",
        "  next_prediction = model.predict(np.array([last_window])).flatten()\n",
        "  recursive_predictions.append(next_prediction)\n",
        "  last_window[-1] = next_prediction"
      ],
      "metadata": {
        "id": "irXcfBT-Rsb8"
      },
      "id": "irXcfBT-Rsb8",
      "execution_count": null,
      "outputs": []
    },
    {
      "cell_type": "code",
      "source": [
        "# put all plot on the same figure\n",
        "plt.clf()\n",
        "plt.plot(dates_train, train_predictions)\n",
        "plt.plot(dates_train, y_train)\n",
        "plt.plot(dates_val, val_predictions)\n",
        "plt.plot(dates_val, y_val)\n",
        "plt.plot(dates_test, test_predictions)\n",
        "plt.plot(dates_test, y_test)\n",
        "plt.plot(recursive_dates, recursive_predictions)\n",
        "plt.legend([\"Train Predictions\", \"Train Observations\",\n",
        "            \"Validation Predictions\", \"Validation Observations\",\n",
        "            \"Testing Predictions\", \"Testing Observations\", \"Recursive Predictions\"])"
      ],
      "metadata": {
        "colab": {
          "base_uri": "https://localhost:8080/",
          "height": 283
        },
        "id": "K-K_SPV8XktR",
        "outputId": "17648b3b-cf39-4acb-dd1c-eaa92ebf5365"
      },
      "id": "K-K_SPV8XktR",
      "execution_count": null,
      "outputs": [
        {
          "output_type": "execute_result",
          "data": {
            "text/plain": [
              "<matplotlib.legend.Legend at 0x7fe7f1f5f3d0>"
            ]
          },
          "metadata": {},
          "execution_count": 131
        },
        {
          "output_type": "display_data",
          "data": {
            "text/plain": [
              "<Figure size 432x288 with 1 Axes>"
            ],
            "image/png": "[encoded data removed]"
          },
          "metadata": {
            "needs_background": "light"
          }
        }
      ]
    },
    {
      "cell_type": "code",
      "source": [
        "three_days_input = np.array(dataset_ready.iloc[-1, 2:]).astype(np.float32).reshape(1,3,1)\n",
        "three_days_input"
      ],
      "metadata": {
        "colab": {
          "base_uri": "https://localhost:8080/"
        },
        "id": "DY8rRPeLegJc",
        "outputId": "f60930d5-4414-4e94-9ea7-566d5e56fb2b"
      },
      "id": "DY8rRPeLegJc",
      "execution_count": null,
      "outputs": [
        {
          "output_type": "execute_result",
          "data": {
            "text/plain": [
              "array([[[142.92],\n",
              "        [146.35],\n",
              "        [147.04]]], dtype=float32)"
            ]
          },
          "metadata": {},
          "execution_count": 132
        }
      ]
    },
    {
      "cell_type": "code",
      "source": [
        "X_test[-1:].shape"
      ],
      "metadata": {
        "colab": {
          "base_uri": "https://localhost:8080/"
        },
        "id": "jpFikDNwi0Ri",
        "outputId": "031f3ecc-1e1a-476d-d237-1b2d55f52467"
      },
      "id": "jpFikDNwi0Ri",
      "execution_count": null,
      "outputs": [
        {
          "output_type": "execute_result",
          "data": {
            "text/plain": [
              "(1, 3, 1)"
            ]
          },
          "metadata": {},
          "execution_count": 133
        }
      ]
    },
    {
      "cell_type": "code",
      "source": [
        "last_day = model.predict(X_test[-1:])\n",
        "print(last_day)"
      ],
      "metadata": {
        "colab": {
          "base_uri": "https://localhost:8080/"
        },
        "id": "pcOAF1Qkhl10",
        "outputId": "195063ed-eb03-4dd1-ee8c-8106560c8066"
      },
      "id": "pcOAF1Qkhl10",
      "execution_count": null,
      "outputs": [
        {
          "output_type": "stream",
          "name": "stdout",
          "text": [
            "[[145.5896]]\n"
          ]
        }
      ]
    },
    {
      "cell_type": "code",
      "source": [
        "# to predict the next day's price\n",
        "next_day = model.predict(three_days_input)\n",
        "print(next_day)"
      ],
      "metadata": {
        "colab": {
          "base_uri": "https://localhost:8080/"
        },
        "id": "zmImQc9dckZh",
        "outputId": "6ba46eb1-5ce9-4e66-9747-295855f953d4"
      },
      "id": "zmImQc9dckZh",
      "execution_count": null,
      "outputs": [
        {
          "output_type": "stream",
          "name": "stdout",
          "text": [
            "[[146.23347]]\n"
          ]
        }
      ]
    }
  ],
  "metadata": {
    "kernelspec": {
      "display_name": "Python 3 (ipykernel)",
      "language": "python",
      "name": "python3"
    },
    "language_info": {
      "codemirror_mode": {
        "name": "ipython",
        "version": 3
      },
      "file_extension": ".py",
      "mimetype": "text/x-python",
      "name": "python",
      "nbconvert_exporter": "python",
      "pygments_lexer": "ipython3",
      "version": "3.9.12"
    },
    "colab": {
      "provenance": [],
      "include_colab_link": true
    },
    "gpuClass": "standard",
    "accelerator": "GPU"
  },
  "nbformat": 4,
  "nbformat_minor": 5
}