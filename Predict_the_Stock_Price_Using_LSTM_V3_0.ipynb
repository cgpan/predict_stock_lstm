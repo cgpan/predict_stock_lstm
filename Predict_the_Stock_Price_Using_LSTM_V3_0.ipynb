{
  "cells": [
    {
      "cell_type": "markdown",
      "metadata": {
        "id": "view-in-github",
        "colab_type": "text"
      },
      "source": [
        "<a href=\"https://colab.research.google.com/github/cgpan/predict_stock_lstm/blob/main/Predict_the_Stock_Price_Using_LSTM_V3_0.ipynb\" target=\"_parent\"><img src=\"https://colab.research.google.com/assets/colab-badge.svg\" alt=\"Open In Colab\"/></a>"
      ]
    },
    {
      "cell_type": "markdown",
      "id": "6ab629a3",
      "metadata": {
        "id": "6ab629a3"
      },
      "source": [
        "# Stage 1. Stock Data Management Using Yfinance"
      ]
    },
    {
      "cell_type": "code",
      "source": [
        "# Since the google's remote server does not have a module called yfinance\n",
        "# !pip install yfinance"
      ],
      "metadata": {
        "collapsed": true,
        "id": "vzOS_qupBRYQ"
      },
      "id": "vzOS_qupBRYQ",
      "execution_count": null,
      "outputs": []
    },
    {
      "cell_type": "markdown",
      "id": "ece1554f",
      "metadata": {
        "id": "ece1554f"
      },
      "source": [
        "## 1.0 install and import the module yfinance"
      ]
    },
    {
      "cell_type": "markdown",
      "id": "f129a8d6",
      "metadata": {
        "id": "f129a8d6"
      },
      "source": [
        "see this page for more tutorials https://analyzingalpha.com/yfinance-python"
      ]
    },
    {
      "cell_type": "code",
      "execution_count": null,
      "id": "f7d8f440",
      "metadata": {
        "id": "f7d8f440"
      },
      "outputs": [],
      "source": [
        "import yfinance as yf\n",
        "from matplotlib import pyplot as plt\n",
        "import pandas as pd\n",
        "import numpy as np"
      ]
    },
    {
      "cell_type": "markdown",
      "id": "28430b08",
      "metadata": {
        "id": "28430b08"
      },
      "source": [
        "## 2.0 get the stock price data using .history()"
      ]
    },
    {
      "cell_type": "markdown",
      "id": "5d33b6cd",
      "metadata": {
        "id": "5d33b6cd"
      },
      "source": [
        "关于.history()的source code 可以提供各种参数的介绍，可以点击上述网址"
      ]
    },
    {
      "cell_type": "code",
      "source": [
        "# 通过input的形式进行交互\n",
        "input = {\"stock_code\":\"EDU\",\n",
        "         \"how_long\":\"2y\",\n",
        "         \"time_interval\":\"1d\",\n",
        "         \"end_date\": None,\n",
        "         \"days2predict\": 60\n",
        "         }"
      ],
      "metadata": {
        "id": "1mZTf2A6KnVv"
      },
      "id": "1mZTf2A6KnVv",
      "execution_count": null,
      "outputs": []
    },
    {
      "cell_type": "code",
      "execution_count": null,
      "id": "6e0044bb",
      "metadata": {
        "id": "6e0044bb"
      },
      "outputs": [],
      "source": [
        "def get_stock(code, lasting, time_interval, enddate):\n",
        "  \"\"\"\n",
        "  code must be the stock's listed code in string\n",
        "  lasting is how recent the data you want to get, \n",
        "  lasting must be from one of \"1d,5d,1mo,3mo,6mo,1y,2y,5y,10y,ytd,max\" in string\n",
        "  start date string (YYYY-MM-DD) or _datetime. Default is 1900-01-01.\n",
        "  end date string (YYYY-MM-DD) or _datetime. Default is now\n",
        "  Valid intervals: 1m,2m,5m,15m,30m,60m,90m,1h,1d,5d,1wk,1mo,3mo\n",
        "  \"\"\"\n",
        "  # make sure the ticker's code, like \"AAPL\" for aplle inc.\n",
        "  ticker_ = yf.Ticker(code)\n",
        "  # by default the .history() will give one month daily price of a ticker\n",
        "  stock = ticker_.history(period=lasting, interval=time_interval, end= enddate)\n",
        "  # note. yfinance 返回的值是将date作为默认索引列\n",
        "  stock= stock.reset_index(level=\"Date\")\n",
        "\n",
        "  plt.plot(stock[\"Date\"], stock[\"Close\"])\n",
        "  plt.xlabel(\"Date\")\n",
        "  plt.ylabel(\"Price\")\n",
        "  plt.show()\n",
        "  return stock"
      ]
    },
    {
      "cell_type": "code",
      "execution_count": null,
      "id": "a0657edf",
      "metadata": {
        "colab": {
          "base_uri": "https://localhost:8080/",
          "height": 279
        },
        "id": "a0657edf",
        "outputId": "32332a7a-8a17-4a9c-fbfe-05dc6a5bcce1"
      },
      "outputs": [
        {
          "output_type": "display_data",
          "data": {
            "text/plain": [
              "<Figure size 432x288 with 1 Axes>"
            ],
            "image/png": "[encoded data removed]"
          },
          "metadata": {
            "needs_background": "light"
          }
        }
      ],
      "source": [
        "stock = get_stock(input[\"stock_code\"], input[\"how_long\"], input[\"time_interval\"], input[\"end_date\"])"
      ]
    },
    {
      "cell_type": "markdown",
      "id": "e133bb57",
      "metadata": {
        "id": "e133bb57"
      },
      "source": [
        "## 4.0 Data Management"
      ]
    },
    {
      "cell_type": "markdown",
      "id": "280ae5ea",
      "metadata": {
        "id": "280ae5ea"
      },
      "source": [
        "### 4.1 Change data frame to use prices n days before to predict the target day's"
      ]
    },
    {
      "cell_type": "markdown",
      "id": "fd30ad95",
      "metadata": {
        "id": "fd30ad95"
      },
      "source": [
        "Since we only care about the close price and the date, so we will remove all other variables.\n",
        "In lstm we use the previous 3 days to predict the 4th day's price, thus the final sheet will be like  \n",
        "[index, target-date, target-3, target-2,target-1, target]"
      ]
    },
    {
      "cell_type": "code",
      "source": [
        "def target_df(df, days):\n",
        "    \"\"\"\n",
        "    这个函数的作用是对于任意传入的dataframe, 按照自定义的天数re-scale成我们需要的表格，类似\n",
        "    [index, target-date, target-3, target-2,target-1, target]\n",
        "    对于任意天数days，前n天的范围就是 range(1, days)即1 to days-1\n",
        "    \"\"\"\n",
        "    df_ = df[[\"Date\", \"Close\"]]\n",
        "    target = []\n",
        "    # 生成column name 对应Target-3, Target-2， Target-1\n",
        "    for i in df_.index:\n",
        "        if (i+1) >= days:\n",
        "            target_unit = {}\n",
        "            target_unit[\"Date\"] = df_.iloc[i,0]\n",
        "            target_unit[\"Target\"] = df_.iloc[i,1]\n",
        "            for n in range(1, days):\n",
        "                name = \"Target-\" + str(n)\n",
        "                target_unit[name] = df_.iloc[i-n, 1]\n",
        "            target.append(target_unit)\n",
        "    data_set = pd.DataFrame(target)\n",
        "\n",
        "    # 生成一个list 按照倒序的方式 方便对于dataframe进行columns reorder\n",
        "    num_list = []\n",
        "    for i in range(days):\n",
        "      num_list.append(i+1)\n",
        "    num_list.sort(reverse=True)\n",
        "    # 在numbers list 最初位置加入0，即按照[0,n,n-1,n-2,...1]的顺序reorder the colums of df\n",
        "    num_list.insert(0,0)\n",
        "\n",
        "    dataset = data_set.iloc[:, num_list]\n",
        "\n",
        "    return dataset"
      ],
      "metadata": {
        "id": "Gm4HF1nP-ul0"
      },
      "id": "Gm4HF1nP-ul0",
      "execution_count": null,
      "outputs": []
    },
    {
      "cell_type": "code",
      "execution_count": null,
      "id": "632a318b",
      "metadata": {
        "id": "632a318b"
      },
      "outputs": [],
      "source": [
        "dataset = target_df(stock, input[\"days2predict\"])"
      ]
    },
    {
      "cell_type": "code",
      "execution_count": null,
      "id": "89c62c37",
      "metadata": {
        "colab": {
          "base_uri": "https://localhost:8080/",
          "height": 404
        },
        "id": "89c62c37",
        "outputId": "ed2e1608-a71e-462a-9398-1aac6a8e8651"
      },
      "outputs": [
        {
          "output_type": "execute_result",
          "data": {
            "text/plain": [
              "          Date  Target-59  Target-58  Target-57  Target-56  Target-55  \\\n",
              "440 2022-07-18      10.19      10.23      10.40       9.75      10.79   \n",
              "441 2022-07-19      10.23      10.40       9.75      10.79      11.25   \n",
              "442 2022-07-20      10.40       9.75      10.79      11.25      12.55   \n",
              "443 2022-07-21       9.75      10.79      11.25      12.55      12.87   \n",
              "444 2022-07-22      10.79      11.25      12.55      12.87      13.15   \n",
              "\n",
              "     Target-54  Target-53  Target-52  Target-51  ...   Target-9   Target-8  \\\n",
              "440      11.25      12.55      12.87      13.15  ...  22.490000  22.440001   \n",
              "441      12.55      12.87      13.15      13.07  ...  22.440001  22.750000   \n",
              "442      12.87      13.15      13.07      12.51  ...  22.750000  23.799999   \n",
              "443      13.15      13.07      12.51      12.20  ...  23.799999  21.100000   \n",
              "444      13.07      12.51      12.20      10.20  ...  21.100000  21.440001   \n",
              "\n",
              "      Target-7   Target-6   Target-5   Target-4   Target-3   Target-2  \\\n",
              "440  22.750000  23.799999  21.100000  21.440001  22.469999  21.980000   \n",
              "441  23.799999  21.100000  21.440001  22.469999  21.980000  22.299999   \n",
              "442  21.100000  21.440001  22.469999  21.980000  22.299999  22.000000   \n",
              "443  21.440001  22.469999  21.980000  22.299999  22.000000  23.010000   \n",
              "444  22.469999  21.980000  22.299999  22.000000  23.010000  23.010000   \n",
              "\n",
              "      Target-1     Target  \n",
              "440  22.299999  22.000000  \n",
              "441  22.000000  23.010000  \n",
              "442  23.010000  23.010000  \n",
              "443  23.010000  23.059999  \n",
              "444  23.059999  23.000000  \n",
              "\n",
              "[5 rows x 61 columns]"
            ],
            "text/html": [
              "\n",
              "  <div id=\"df-fcb18e6d-56c7-41c1-b451-c6bcf693cc4b\">\n",
              "    <div class=\"colab-df-container\">\n",
              "      <div>\n",
              "<style scoped>\n",
              "    .dataframe tbody tr th:only-of-type {\n",
              "        vertical-align: middle;\n",
              "    }\n",
              "\n",
              "    .dataframe tbody tr th {\n",
              "        vertical-align: top;\n",
              "    }\n",
              "\n",
              "    .dataframe thead th {\n",
              "        text-align: right;\n",
              "    }\n",
              "</style>\n",
              "<table border=\"1\" class=\"dataframe\">\n",
              "  <thead>\n",
              "    <tr style=\"text-align: right;\">\n",
              "      <th></th>\n",
              "      <th>Date</th>\n",
              "      <th>Target-59</th>\n",
              "      <th>Target-58</th>\n",
              "      <th>Target-57</th>\n",
              "      <th>Target-56</th>\n",
              "      <th>Target-55</th>\n",
              "      <th>Target-54</th>\n",
              "      <th>Target-53</th>\n",
              "      <th>Target-52</th>\n",
              "      <th>Target-51</th>\n",
              "      <th>...</th>\n",
              "      <th>Target-9</th>\n",
              "      <th>Target-8</th>\n",
              "      <th>Target-7</th>\n",
              "      <th>Target-6</th>\n",
              "      <th>Target-5</th>\n",
              "      <th>Target-4</th>\n",
              "      <th>Target-3</th>\n",
              "      <th>Target-2</th>\n",
              "      <th>Target-1</th>\n",
              "      <th>Target</th>\n",
              "    </tr>\n",
              "  </thead>\n",
              "  <tbody>\n",
              "    <tr>\n",
              "      <th>440</th>\n",
              "      <td>2022-07-18</td>\n",
              "      <td>10.19</td>\n",
              "      <td>10.23</td>\n",
              "      <td>10.40</td>\n",
              "      <td>9.75</td>\n",
              "      <td>10.79</td>\n",
              "      <td>11.25</td>\n",
              "      <td>12.55</td>\n",
              "      <td>12.87</td>\n",
              "      <td>13.15</td>\n",
              "      <td>...</td>\n",
              "      <td>22.490000</td>\n",
              "      <td>22.440001</td>\n",
              "      <td>22.750000</td>\n",
              "      <td>23.799999</td>\n",
              "      <td>21.100000</td>\n",
              "      <td>21.440001</td>\n",
              "      <td>22.469999</td>\n",
              "      <td>21.980000</td>\n",
              "      <td>22.299999</td>\n",
              "      <td>22.000000</td>\n",
              "    </tr>\n",
              "    <tr>\n",
              "      <th>441</th>\n",
              "      <td>2022-07-19</td>\n",
              "      <td>10.23</td>\n",
              "      <td>10.40</td>\n",
              "      <td>9.75</td>\n",
              "      <td>10.79</td>\n",
              "      <td>11.25</td>\n",
              "      <td>12.55</td>\n",
              "      <td>12.87</td>\n",
              "      <td>13.15</td>\n",
              "      <td>13.07</td>\n",
              "      <td>...</td>\n",
              "      <td>22.440001</td>\n",
              "      <td>22.750000</td>\n",
              "      <td>23.799999</td>\n",
              "      <td>21.100000</td>\n",
              "      <td>21.440001</td>\n",
              "      <td>22.469999</td>\n",
              "      <td>21.980000</td>\n",
              "      <td>22.299999</td>\n",
              "      <td>22.000000</td>\n",
              "      <td>23.010000</td>\n",
              "    </tr>\n",
              "    <tr>\n",
              "      <th>442</th>\n",
              "      <td>2022-07-20</td>\n",
              "      <td>10.40</td>\n",
              "      <td>9.75</td>\n",
              "      <td>10.79</td>\n",
              "      <td>11.25</td>\n",
              "      <td>12.55</td>\n",
              "      <td>12.87</td>\n",
              "      <td>13.15</td>\n",
              "      <td>13.07</td>\n",
              "      <td>12.51</td>\n",
              "      <td>...</td>\n",
              "      <td>22.750000</td>\n",
              "      <td>23.799999</td>\n",
              "      <td>21.100000</td>\n",
              "      <td>21.440001</td>\n",
              "      <td>22.469999</td>\n",
              "      <td>21.980000</td>\n",
              "      <td>22.299999</td>\n",
              "      <td>22.000000</td>\n",
              "      <td>23.010000</td>\n",
              "      <td>23.010000</td>\n",
              "    </tr>\n",
              "    <tr>\n",
              "      <th>443</th>\n",
              "      <td>2022-07-21</td>\n",
              "      <td>9.75</td>\n",
              "      <td>10.79</td>\n",
              "      <td>11.25</td>\n",
              "      <td>12.55</td>\n",
              "      <td>12.87</td>\n",
              "      <td>13.15</td>\n",
              "      <td>13.07</td>\n",
              "      <td>12.51</td>\n",
              "      <td>12.20</td>\n",
              "      <td>...</td>\n",
              "      <td>23.799999</td>\n",
              "      <td>21.100000</td>\n",
              "      <td>21.440001</td>\n",
              "      <td>22.469999</td>\n",
              "      <td>21.980000</td>\n",
              "      <td>22.299999</td>\n",
              "      <td>22.000000</td>\n",
              "      <td>23.010000</td>\n",
              "      <td>23.010000</td>\n",
              "      <td>23.059999</td>\n",
              "    </tr>\n",
              "    <tr>\n",
              "      <th>444</th>\n",
              "      <td>2022-07-22</td>\n",
              "      <td>10.79</td>\n",
              "      <td>11.25</td>\n",
              "      <td>12.55</td>\n",
              "      <td>12.87</td>\n",
              "      <td>13.15</td>\n",
              "      <td>13.07</td>\n",
              "      <td>12.51</td>\n",
              "      <td>12.20</td>\n",
              "      <td>10.20</td>\n",
              "      <td>...</td>\n",
              "      <td>21.100000</td>\n",
              "      <td>21.440001</td>\n",
              "      <td>22.469999</td>\n",
              "      <td>21.980000</td>\n",
              "      <td>22.299999</td>\n",
              "      <td>22.000000</td>\n",
              "      <td>23.010000</td>\n",
              "      <td>23.010000</td>\n",
              "      <td>23.059999</td>\n",
              "      <td>23.000000</td>\n",
              "    </tr>\n",
              "  </tbody>\n",
              "</table>\n",
              "<p>5 rows × 61 columns</p>\n",
              "</div>\n",
              "      <button class=\"colab-df-convert\" onclick=\"convertToInteractive('df-fcb18e6d-56c7-41c1-b451-c6bcf693cc4b')\"\n",
              "              title=\"Convert this dataframe to an interactive table.\"\n",
              "              style=\"display:none;\">\n",
              "        \n",
              "  <svg xmlns=\"http://www.w3.org/2000/svg\" height=\"24px\"viewBox=\"0 0 24 24\"\n",
              "       width=\"24px\">\n",
              "    <path d=\"M0 0h24v24H0V0z\" fill=\"none\"/>\n",
              "    <path d=\"M18.56 5.44l.94 2.06.94-2.06 2.06-.94-2.06-.94-.94-2.06-.94 2.06-2.06.94zm-11 1L8.5 8.5l.94-2.06 2.06-.94-2.06-.94L8.5 2.5l-.94 2.06-2.06.94zm10 10l.94 2.06.94-2.06 2.06-.94-2.06-.94-.94-2.06-.94 2.06-2.06.94z\"/><path d=\"M17.41 7.96l-1.37-1.37c-.4-.4-.92-.59-1.43-.59-.52 0-1.04.2-1.43.59L10.3 9.45l-7.72 7.72c-.78.78-.78 2.05 0 2.83L4 21.41c.39.39.9.59 1.41.59.51 0 1.02-.2 1.41-.59l7.78-7.78 2.81-2.81c.8-.78.8-2.07 0-2.86zM5.41 20L4 18.59l7.72-7.72 1.47 1.35L5.41 20z\"/>\n",
              "  </svg>\n",
              "      </button>\n",
              "      \n",
              "  <style>\n",
              "    .colab-df-container {\n",
              "      display:flex;\n",
              "      flex-wrap:wrap;\n",
              "      gap: 12px;\n",
              "    }\n",
              "\n",
              "    .colab-df-convert {\n",
              "      background-color: #E8F0FE;\n",
              "      border: none;\n",
              "      border-radius: 50%;\n",
              "      cursor: pointer;\n",
              "      display: none;\n",
              "      fill: #1967D2;\n",
              "      height: 32px;\n",
              "      padding: 0 0 0 0;\n",
              "      width: 32px;\n",
              "    }\n",
              "\n",
              "    .colab-df-convert:hover {\n",
              "      background-color: #E2EBFA;\n",
              "      box-shadow: 0px 1px 2px rgba(60, 64, 67, 0.3), 0px 1px 3px 1px rgba(60, 64, 67, 0.15);\n",
              "      fill: #174EA6;\n",
              "    }\n",
              "\n",
              "    [theme=dark] .colab-df-convert {\n",
              "      background-color: #3B4455;\n",
              "      fill: #D2E3FC;\n",
              "    }\n",
              "\n",
              "    [theme=dark] .colab-df-convert:hover {\n",
              "      background-color: #434B5C;\n",
              "      box-shadow: 0px 1px 3px 1px rgba(0, 0, 0, 0.15);\n",
              "      filter: drop-shadow(0px 1px 2px rgba(0, 0, 0, 0.3));\n",
              "      fill: #FFFFFF;\n",
              "    }\n",
              "  </style>\n",
              "\n",
              "      <script>\n",
              "        const buttonEl =\n",
              "          document.querySelector('#df-fcb18e6d-56c7-41c1-b451-c6bcf693cc4b button.colab-df-convert');\n",
              "        buttonEl.style.display =\n",
              "          google.colab.kernel.accessAllowed ? 'block' : 'none';\n",
              "\n",
              "        async function convertToInteractive(key) {\n",
              "          const element = document.querySelector('#df-fcb18e6d-56c7-41c1-b451-c6bcf693cc4b');\n",
              "          const dataTable =\n",
              "            await google.colab.kernel.invokeFunction('convertToInteractive',\n",
              "                                                     [key], {});\n",
              "          if (!dataTable) return;\n",
              "\n",
              "          const docLinkHtml = 'Like what you see? Visit the ' +\n",
              "            '<a target=\"_blank\" href=https://colab.research.google.com/notebooks/data_table.ipynb>data table notebook</a>'\n",
              "            + ' to learn more about interactive tables.';\n",
              "          element.innerHTML = '';\n",
              "          dataTable['output_type'] = 'display_data';\n",
              "          await google.colab.output.renderOutput(dataTable, element);\n",
              "          const docLink = document.createElement('div');\n",
              "          docLink.innerHTML = docLinkHtml;\n",
              "          element.appendChild(docLink);\n",
              "        }\n",
              "      </script>\n",
              "    </div>\n",
              "  </div>\n",
              "  "
            ]
          },
          "metadata": {},
          "execution_count": 60
        }
      ],
      "source": [
        "dataset.tail()"
      ]
    },
    {
      "cell_type": "code",
      "execution_count": null,
      "id": "20796eec",
      "metadata": {
        "colab": {
          "base_uri": "https://localhost:8080/"
        },
        "id": "20796eec",
        "outputId": "5a738bb5-59f7-448f-d44e-7db8f9cdd06e"
      },
      "outputs": [
        {
          "output_type": "execute_result",
          "data": {
            "text/plain": [
              "(445, 61)"
            ]
          },
          "metadata": {},
          "execution_count": 61
        }
      ],
      "source": [
        "dataset.shape"
      ]
    },
    {
      "cell_type": "markdown",
      "id": "a9dbcdf5",
      "metadata": {
        "id": "a9dbcdf5"
      },
      "source": [
        "### 4.2 Change the cleaned df to numpy.array"
      ]
    },
    {
      "cell_type": "code",
      "execution_count": null,
      "id": "a1efd849",
      "metadata": {
        "id": "a1efd849"
      },
      "outputs": [],
      "source": [
        "# define a function to change any pandas's dataframe into numpy array\n",
        "def df_to_tensor(df):\n",
        "    df_as_np = df.to_numpy()\n",
        "    \n",
        "    dates = df_as_np[:, 0]\n",
        "    middle_matrix = df_as_np[:, 1:-1]\n",
        "    # need to transpose the target-3 2 1\n",
        "    X = middle_matrix.reshape((len(dates), middle_matrix.shape[1],1))\n",
        "    \n",
        "    Y = df_as_np[:, -1]\n",
        "    \n",
        "    return dates, X.astype(np.float32), Y.astype(np.float32)"
      ]
    },
    {
      "cell_type": "code",
      "execution_count": null,
      "id": "fa72800e",
      "metadata": {
        "id": "fa72800e"
      },
      "outputs": [],
      "source": [
        "dates, X, y = df_to_tensor(dataset)"
      ]
    },
    {
      "cell_type": "code",
      "execution_count": null,
      "id": "56d648c8",
      "metadata": {
        "colab": {
          "base_uri": "https://localhost:8080/"
        },
        "id": "56d648c8",
        "outputId": "f5224cfe-548e-4978-943e-d498435c2b0e"
      },
      "outputs": [
        {
          "output_type": "execute_result",
          "data": {
            "text/plain": [
              "((445,), (445, 59, 1), (445,))"
            ]
          },
          "metadata": {},
          "execution_count": 64
        }
      ],
      "source": [
        "# 其中X.shape中our input matrix is 3*1 means we are looking for 3 steps in the past for only one type of variable!\n",
        "dates.shape, X.shape, y.shape"
      ]
    },
    {
      "cell_type": "markdown",
      "id": "1e100752",
      "metadata": {
        "id": "1e100752"
      },
      "source": [
        "## 5.0 Split the original data into train, validate, and test dataset"
      ]
    },
    {
      "cell_type": "code",
      "execution_count": null,
      "id": "1d74d2f3",
      "metadata": {
        "id": "1d74d2f3"
      },
      "outputs": [],
      "source": [
        "# use the first 80% as training dataset. 80~90% as validating, the last 10% as test\n",
        "q_80 = int(len(dates)* 0.8)\n",
        "q_90 = int(len(dates)* 0.9)\n",
        "\n",
        "dates_train, X_train, y_train = dates[:q_80], X[:q_80], y[:q_80]\n",
        "dates_val, X_val, y_val = dates[q_80:q_90], X[q_80:q_90], y[q_80:q_90]\n",
        "dates_test, X_test, y_test = dates[q_90:], X[q_90:], y[q_90:]"
      ]
    },
    {
      "cell_type": "code",
      "execution_count": null,
      "id": "2184e052",
      "metadata": {
        "colab": {
          "base_uri": "https://localhost:8080/",
          "height": 283
        },
        "id": "2184e052",
        "outputId": "d0e44f58-63a5-43cd-a505-87795e42ad3b"
      },
      "outputs": [
        {
          "output_type": "execute_result",
          "data": {
            "text/plain": [
              "<matplotlib.legend.Legend at 0x7fd3ffbb7950>"
            ]
          },
          "metadata": {},
          "execution_count": 66
        },
        {
          "output_type": "display_data",
          "data": {
            "text/plain": [
              "<Figure size 432x288 with 1 Axes>"
            ],
            "image/png": "[encoded data removed]"
          },
          "metadata": {
            "needs_background": "light"
          }
        }
      ],
      "source": [
        "# visualize these 3 datasets\n",
        "plt.plot(dates_train, y_train)\n",
        "plt.plot(dates_val, y_val)\n",
        "plt.plot(dates_test, y_test)\n",
        "plt.legend([\"Train\",\"Validation\",\"Test\"])"
      ]
    },
    {
      "cell_type": "markdown",
      "source": [
        "# Stage 2. Build the LSTM Neural Networks!"
      ],
      "metadata": {
        "id": "gldZWBeYBv3a"
      },
      "id": "gldZWBeYBv3a"
    },
    {
      "cell_type": "markdown",
      "source": [
        "## 6.0 Import the modules"
      ],
      "metadata": {
        "id": "eGhlX8d3B3yX"
      },
      "id": "eGhlX8d3B3yX"
    },
    {
      "cell_type": "code",
      "source": [
        "from keras.models import Sequential\n",
        "from tensorflow.keras.optimizers import Adam\n",
        "from keras import layers"
      ],
      "metadata": {
        "id": "jc7Awf4eB7fV"
      },
      "id": "jc7Awf4eB7fV",
      "execution_count": null,
      "outputs": []
    },
    {
      "cell_type": "code",
      "source": [
        "model = Sequential()\n",
        "model.add(layers.Input(shape = (input[\"days2predict\"]-1,1)))\n",
        "model.add(layers.LSTM(128))\n",
        "model.add(layers.Dense(32, activation = 'relu'))\n",
        "model.add(layers.Dense(32, activation = 'relu'))\n",
        "model.add(layers.Dense(1))\n",
        "\n",
        "model.compile(loss=\"mse\", optimizer = Adam(learning_rate = 0.001), metrics = [\"mean_absolute_error\"])\n",
        "model.fit(X_train, y_train, validation_data = (X_val, y_val), epochs=150)"
      ],
      "metadata": {
        "colab": {
          "base_uri": "https://localhost:8080/"
        },
        "id": "0L_-FHOLCMkV",
        "outputId": "9770084b-3b6c-46a7-9fe1-a063b99f4d8b",
        "collapsed": true
      },
      "id": "0L_-FHOLCMkV",
      "execution_count": null,
      "outputs": [
        {
          "output_type": "stream",
          "name": "stdout",
          "text": [
            "Epoch 1/150\n",
            "12/12 [==============================] - 2s 47ms/step - loss: 12555.0566 - mean_absolute_error: 87.5719 - val_loss: 69.4016 - val_mean_absolute_error: 8.2622\n",
            "Epoch 2/150\n",
            "12/12 [==============================] - 0s 10ms/step - loss: 12164.5215 - mean_absolute_error: 84.5573 - val_loss: 4.3176 - val_mean_absolute_error: 1.7914\n",
            "Epoch 3/150\n",
            "12/12 [==============================] - 0s 9ms/step - loss: 11372.9170 - mean_absolute_error: 78.5560 - val_loss: 65.0878 - val_mean_absolute_error: 7.9971\n",
            "Epoch 4/150\n",
            "12/12 [==============================] - 0s 9ms/step - loss: 10030.6992 - mean_absolute_error: 73.0485 - val_loss: 371.6392 - val_mean_absolute_error: 19.2509\n",
            "Epoch 5/150\n",
            "12/12 [==============================] - 0s 9ms/step - loss: 7748.6616 - mean_absolute_error: 68.4384 - val_loss: 1068.5250 - val_mean_absolute_error: 32.6746\n",
            "Epoch 6/150\n",
            "12/12 [==============================] - 0s 9ms/step - loss: 5406.2339 - mean_absolute_error: 61.6433 - val_loss: 1399.8024 - val_mean_absolute_error: 37.4073\n",
            "Epoch 7/150\n",
            "12/12 [==============================] - 0s 9ms/step - loss: 3146.8066 - mean_absolute_error: 47.2622 - val_loss: 231.4846 - val_mean_absolute_error: 15.1993\n",
            "Epoch 8/150\n",
            "12/12 [==============================] - 0s 9ms/step - loss: 1159.9075 - mean_absolute_error: 24.1015 - val_loss: 11.7326 - val_mean_absolute_error: 3.3552\n",
            "Epoch 9/150\n",
            "12/12 [==============================] - 0s 9ms/step - loss: 278.7402 - mean_absolute_error: 11.2145 - val_loss: 5.5786 - val_mean_absolute_error: 2.2698\n",
            "Epoch 10/150\n",
            "12/12 [==============================] - 0s 9ms/step - loss: 94.9051 - mean_absolute_error: 6.2374 - val_loss: 1.9498 - val_mean_absolute_error: 1.2242\n",
            "Epoch 11/150\n",
            "12/12 [==============================] - 0s 9ms/step - loss: 36.7457 - mean_absolute_error: 4.0074 - val_loss: 21.0170 - val_mean_absolute_error: 4.5329\n",
            "Epoch 12/150\n",
            "12/12 [==============================] - 0s 8ms/step - loss: 26.9448 - mean_absolute_error: 3.4510 - val_loss: 3.0486 - val_mean_absolute_error: 1.6067\n",
            "Epoch 13/150\n",
            "12/12 [==============================] - 0s 9ms/step - loss: 28.6626 - mean_absolute_error: 3.4585 - val_loss: 2.4723 - val_mean_absolute_error: 1.4107\n",
            "Epoch 14/150\n",
            "12/12 [==============================] - 0s 9ms/step - loss: 24.7400 - mean_absolute_error: 3.0348 - val_loss: 0.5735 - val_mean_absolute_error: 0.6109\n",
            "Epoch 15/150\n",
            "12/12 [==============================] - 0s 8ms/step - loss: 24.7079 - mean_absolute_error: 3.0517 - val_loss: 0.5003 - val_mean_absolute_error: 0.5653\n",
            "Epoch 16/150\n",
            "12/12 [==============================] - 0s 9ms/step - loss: 21.8270 - mean_absolute_error: 2.8668 - val_loss: 1.4875 - val_mean_absolute_error: 1.0310\n",
            "Epoch 17/150\n",
            "12/12 [==============================] - 0s 9ms/step - loss: 20.0715 - mean_absolute_error: 2.7057 - val_loss: 1.0278 - val_mean_absolute_error: 0.8447\n",
            "Epoch 18/150\n",
            "12/12 [==============================] - 0s 9ms/step - loss: 19.7110 - mean_absolute_error: 2.7172 - val_loss: 0.5085 - val_mean_absolute_error: 0.5721\n",
            "Epoch 19/150\n",
            "12/12 [==============================] - 0s 9ms/step - loss: 21.5454 - mean_absolute_error: 2.9377 - val_loss: 0.6315 - val_mean_absolute_error: 0.6567\n",
            "Epoch 20/150\n",
            "12/12 [==============================] - 0s 9ms/step - loss: 20.5528 - mean_absolute_error: 2.8052 - val_loss: 0.5291 - val_mean_absolute_error: 0.5888\n",
            "Epoch 21/150\n",
            "12/12 [==============================] - 0s 9ms/step - loss: 19.7519 - mean_absolute_error: 2.7397 - val_loss: 0.5619 - val_mean_absolute_error: 0.6071\n",
            "Epoch 22/150\n",
            "12/12 [==============================] - 0s 9ms/step - loss: 27.8435 - mean_absolute_error: 3.4953 - val_loss: 0.5913 - val_mean_absolute_error: 0.6250\n",
            "Epoch 23/150\n",
            "12/12 [==============================] - 0s 9ms/step - loss: 22.9913 - mean_absolute_error: 2.9133 - val_loss: 0.5645 - val_mean_absolute_error: 0.6090\n",
            "Epoch 24/150\n",
            "12/12 [==============================] - 0s 9ms/step - loss: 19.1199 - mean_absolute_error: 2.6646 - val_loss: 1.4149 - val_mean_absolute_error: 1.0311\n",
            "Epoch 25/150\n",
            "12/12 [==============================] - 0s 8ms/step - loss: 21.2745 - mean_absolute_error: 2.8062 - val_loss: 1.0852 - val_mean_absolute_error: 0.8858\n",
            "Epoch 26/150\n",
            "12/12 [==============================] - 0s 8ms/step - loss: 21.1927 - mean_absolute_error: 2.8761 - val_loss: 1.5978 - val_mean_absolute_error: 1.0986\n",
            "Epoch 27/150\n",
            "12/12 [==============================] - 0s 8ms/step - loss: 19.8555 - mean_absolute_error: 2.6842 - val_loss: 1.1994 - val_mean_absolute_error: 0.9351\n",
            "Epoch 28/150\n",
            "12/12 [==============================] - 0s 9ms/step - loss: 19.7245 - mean_absolute_error: 2.6984 - val_loss: 0.4703 - val_mean_absolute_error: 0.5365\n",
            "Epoch 29/150\n",
            "12/12 [==============================] - 0s 10ms/step - loss: 22.2796 - mean_absolute_error: 3.0250 - val_loss: 1.2595 - val_mean_absolute_error: 0.9535\n",
            "Epoch 30/150\n",
            "12/12 [==============================] - 0s 8ms/step - loss: 26.1250 - mean_absolute_error: 3.2535 - val_loss: 0.6086 - val_mean_absolute_error: 0.6386\n",
            "Epoch 31/150\n",
            "12/12 [==============================] - 0s 9ms/step - loss: 27.1917 - mean_absolute_error: 3.2506 - val_loss: 0.4749 - val_mean_absolute_error: 0.5300\n",
            "Epoch 32/150\n",
            "12/12 [==============================] - 0s 9ms/step - loss: 22.7865 - mean_absolute_error: 2.8654 - val_loss: 1.7241 - val_mean_absolute_error: 1.1621\n",
            "Epoch 33/150\n",
            "12/12 [==============================] - 0s 8ms/step - loss: 27.8147 - mean_absolute_error: 3.4328 - val_loss: 5.5531 - val_mean_absolute_error: 2.2622\n",
            "Epoch 34/150\n",
            "12/12 [==============================] - 0s 9ms/step - loss: 21.6822 - mean_absolute_error: 3.0106 - val_loss: 0.4454 - val_mean_absolute_error: 0.5220\n",
            "Epoch 35/150\n",
            "12/12 [==============================] - 0s 8ms/step - loss: 20.1547 - mean_absolute_error: 2.8826 - val_loss: 3.9529 - val_mean_absolute_error: 1.8755\n",
            "Epoch 36/150\n",
            "12/12 [==============================] - 0s 8ms/step - loss: 19.2190 - mean_absolute_error: 2.6711 - val_loss: 0.4585 - val_mean_absolute_error: 0.5296\n",
            "Epoch 37/150\n",
            "12/12 [==============================] - 0s 9ms/step - loss: 19.3981 - mean_absolute_error: 2.6322 - val_loss: 0.6084 - val_mean_absolute_error: 0.6022\n",
            "Epoch 38/150\n",
            "12/12 [==============================] - 0s 9ms/step - loss: 22.2482 - mean_absolute_error: 2.8629 - val_loss: 0.4576 - val_mean_absolute_error: 0.5265\n",
            "Epoch 39/150\n",
            "12/12 [==============================] - 0s 9ms/step - loss: 19.7398 - mean_absolute_error: 2.6521 - val_loss: 0.9299 - val_mean_absolute_error: 0.8203\n",
            "Epoch 40/150\n",
            "12/12 [==============================] - 0s 9ms/step - loss: 22.1187 - mean_absolute_error: 2.9296 - val_loss: 0.9670 - val_mean_absolute_error: 0.8381\n",
            "Epoch 41/150\n",
            "12/12 [==============================] - 0s 8ms/step - loss: 25.3594 - mean_absolute_error: 3.1302 - val_loss: 1.9736 - val_mean_absolute_error: 1.2508\n",
            "Epoch 42/150\n",
            "12/12 [==============================] - 0s 9ms/step - loss: 36.2470 - mean_absolute_error: 3.9398 - val_loss: 3.7320 - val_mean_absolute_error: 1.8056\n",
            "Epoch 43/150\n",
            "12/12 [==============================] - 0s 8ms/step - loss: 24.5966 - mean_absolute_error: 3.3022 - val_loss: 0.6504 - val_mean_absolute_error: 0.6219\n",
            "Epoch 44/150\n",
            "12/12 [==============================] - 0s 8ms/step - loss: 21.4931 - mean_absolute_error: 2.8907 - val_loss: 0.8319 - val_mean_absolute_error: 0.7660\n",
            "Epoch 45/150\n",
            "12/12 [==============================] - 0s 9ms/step - loss: 27.7547 - mean_absolute_error: 3.3408 - val_loss: 1.2595 - val_mean_absolute_error: 0.9670\n",
            "Epoch 46/150\n",
            "12/12 [==============================] - 0s 10ms/step - loss: 34.4570 - mean_absolute_error: 3.9002 - val_loss: 0.4517 - val_mean_absolute_error: 0.5267\n",
            "Epoch 47/150\n",
            "12/12 [==============================] - 0s 9ms/step - loss: 22.9600 - mean_absolute_error: 3.0556 - val_loss: 2.0274 - val_mean_absolute_error: 1.2870\n",
            "Epoch 48/150\n",
            "12/12 [==============================] - 0s 9ms/step - loss: 21.4335 - mean_absolute_error: 3.0517 - val_loss: 0.7254 - val_mean_absolute_error: 0.7042\n",
            "Epoch 49/150\n",
            "12/12 [==============================] - 0s 9ms/step - loss: 20.7662 - mean_absolute_error: 2.7704 - val_loss: 0.4941 - val_mean_absolute_error: 0.5426\n",
            "Epoch 50/150\n",
            "12/12 [==============================] - 0s 9ms/step - loss: 19.5907 - mean_absolute_error: 2.6746 - val_loss: 0.5110 - val_mean_absolute_error: 0.5659\n",
            "Epoch 51/150\n",
            "12/12 [==============================] - 0s 8ms/step - loss: 19.1458 - mean_absolute_error: 2.6241 - val_loss: 1.3246 - val_mean_absolute_error: 0.9961\n",
            "Epoch 52/150\n",
            "12/12 [==============================] - 0s 9ms/step - loss: 20.1273 - mean_absolute_error: 2.6411 - val_loss: 0.6305 - val_mean_absolute_error: 0.6156\n",
            "Epoch 53/150\n",
            "12/12 [==============================] - 0s 9ms/step - loss: 18.6482 - mean_absolute_error: 2.5769 - val_loss: 0.4563 - val_mean_absolute_error: 0.5242\n",
            "Epoch 54/150\n",
            "12/12 [==============================] - 0s 8ms/step - loss: 19.5529 - mean_absolute_error: 2.6586 - val_loss: 0.4589 - val_mean_absolute_error: 0.5263\n",
            "Epoch 55/150\n",
            "12/12 [==============================] - 0s 9ms/step - loss: 19.0824 - mean_absolute_error: 2.5972 - val_loss: 0.6043 - val_mean_absolute_error: 0.6011\n",
            "Epoch 56/150\n",
            "12/12 [==============================] - 0s 10ms/step - loss: 18.4631 - mean_absolute_error: 2.5140 - val_loss: 0.9609 - val_mean_absolute_error: 0.7951\n",
            "Epoch 57/150\n",
            "12/12 [==============================] - 0s 9ms/step - loss: 21.5397 - mean_absolute_error: 2.7689 - val_loss: 0.4539 - val_mean_absolute_error: 0.5256\n",
            "Epoch 58/150\n",
            "12/12 [==============================] - 0s 9ms/step - loss: 19.0458 - mean_absolute_error: 2.6331 - val_loss: 2.5472 - val_mean_absolute_error: 1.4526\n",
            "Epoch 59/150\n",
            "12/12 [==============================] - 0s 9ms/step - loss: 19.8285 - mean_absolute_error: 2.7006 - val_loss: 1.2429 - val_mean_absolute_error: 0.9457\n",
            "Epoch 60/150\n",
            "12/12 [==============================] - 0s 10ms/step - loss: 18.4885 - mean_absolute_error: 2.6216 - val_loss: 0.6399 - val_mean_absolute_error: 0.6524\n",
            "Epoch 61/150\n",
            "12/12 [==============================] - 0s 9ms/step - loss: 19.5636 - mean_absolute_error: 2.7009 - val_loss: 0.5360 - val_mean_absolute_error: 0.5657\n",
            "Epoch 62/150\n",
            "12/12 [==============================] - 0s 9ms/step - loss: 22.5176 - mean_absolute_error: 3.1964 - val_loss: 5.6065 - val_mean_absolute_error: 2.2647\n",
            "Epoch 63/150\n",
            "12/12 [==============================] - 0s 9ms/step - loss: 24.2351 - mean_absolute_error: 3.1591 - val_loss: 0.7871 - val_mean_absolute_error: 0.7036\n",
            "Epoch 64/150\n",
            "12/12 [==============================] - 0s 9ms/step - loss: 21.4030 - mean_absolute_error: 2.8408 - val_loss: 1.3167 - val_mean_absolute_error: 0.9899\n",
            "Epoch 65/150\n",
            "12/12 [==============================] - 0s 10ms/step - loss: 20.9958 - mean_absolute_error: 2.8174 - val_loss: 2.2049 - val_mean_absolute_error: 1.3357\n",
            "Epoch 66/150\n",
            "12/12 [==============================] - 0s 9ms/step - loss: 22.5410 - mean_absolute_error: 2.9235 - val_loss: 0.5856 - val_mean_absolute_error: 0.5916\n",
            "Epoch 67/150\n",
            "12/12 [==============================] - 0s 10ms/step - loss: 19.6187 - mean_absolute_error: 2.6091 - val_loss: 1.7611 - val_mean_absolute_error: 1.1702\n",
            "Epoch 68/150\n",
            "12/12 [==============================] - 0s 9ms/step - loss: 22.1972 - mean_absolute_error: 2.8901 - val_loss: 0.8657 - val_mean_absolute_error: 0.7835\n",
            "Epoch 69/150\n",
            "12/12 [==============================] - 0s 9ms/step - loss: 26.2432 - mean_absolute_error: 3.3988 - val_loss: 0.4649 - val_mean_absolute_error: 0.5368\n",
            "Epoch 70/150\n",
            "12/12 [==============================] - 0s 9ms/step - loss: 27.3668 - mean_absolute_error: 3.2580 - val_loss: 0.4494 - val_mean_absolute_error: 0.5298\n",
            "Epoch 71/150\n",
            "12/12 [==============================] - 0s 9ms/step - loss: 24.9417 - mean_absolute_error: 3.1853 - val_loss: 1.7953 - val_mean_absolute_error: 1.1858\n",
            "Epoch 72/150\n",
            "12/12 [==============================] - 0s 8ms/step - loss: 23.6144 - mean_absolute_error: 3.0410 - val_loss: 0.9335 - val_mean_absolute_error: 0.8176\n",
            "Epoch 73/150\n",
            "12/12 [==============================] - 0s 9ms/step - loss: 21.8295 - mean_absolute_error: 2.7731 - val_loss: 0.7107 - val_mean_absolute_error: 0.6606\n",
            "Epoch 74/150\n",
            "12/12 [==============================] - 0s 9ms/step - loss: 19.7522 - mean_absolute_error: 2.6503 - val_loss: 0.9942 - val_mean_absolute_error: 0.8178\n",
            "Epoch 75/150\n",
            "12/12 [==============================] - 0s 9ms/step - loss: 25.7232 - mean_absolute_error: 3.6835 - val_loss: 15.7451 - val_mean_absolute_error: 3.9101\n",
            "Epoch 76/150\n",
            "12/12 [==============================] - 0s 9ms/step - loss: 21.6779 - mean_absolute_error: 2.9711 - val_loss: 0.9624 - val_mean_absolute_error: 0.8139\n",
            "Epoch 77/150\n",
            "12/12 [==============================] - 0s 9ms/step - loss: 19.8466 - mean_absolute_error: 2.7243 - val_loss: 1.9384 - val_mean_absolute_error: 1.2399\n",
            "Epoch 78/150\n",
            "12/12 [==============================] - 0s 9ms/step - loss: 23.5799 - mean_absolute_error: 2.8708 - val_loss: 2.8255 - val_mean_absolute_error: 1.5457\n",
            "Epoch 79/150\n",
            "12/12 [==============================] - 0s 9ms/step - loss: 19.3698 - mean_absolute_error: 2.7179 - val_loss: 0.5308 - val_mean_absolute_error: 0.5768\n",
            "Epoch 80/150\n",
            "12/12 [==============================] - 0s 9ms/step - loss: 22.6219 - mean_absolute_error: 2.9603 - val_loss: 0.4730 - val_mean_absolute_error: 0.5416\n",
            "Epoch 81/150\n",
            "12/12 [==============================] - 0s 8ms/step - loss: 22.6397 - mean_absolute_error: 3.0073 - val_loss: 2.2342 - val_mean_absolute_error: 1.3495\n",
            "Epoch 82/150\n",
            "12/12 [==============================] - 0s 9ms/step - loss: 21.3903 - mean_absolute_error: 3.0572 - val_loss: 0.4535 - val_mean_absolute_error: 0.5291\n",
            "Epoch 83/150\n",
            "12/12 [==============================] - 0s 9ms/step - loss: 18.8546 - mean_absolute_error: 2.5855 - val_loss: 0.4674 - val_mean_absolute_error: 0.5398\n",
            "Epoch 84/150\n",
            "12/12 [==============================] - 0s 8ms/step - loss: 18.6092 - mean_absolute_error: 2.6021 - val_loss: 0.5592 - val_mean_absolute_error: 0.5834\n",
            "Epoch 85/150\n",
            "12/12 [==============================] - 0s 9ms/step - loss: 19.5213 - mean_absolute_error: 2.6249 - val_loss: 0.5225 - val_mean_absolute_error: 0.5697\n",
            "Epoch 86/150\n",
            "12/12 [==============================] - 0s 9ms/step - loss: 20.9217 - mean_absolute_error: 2.8395 - val_loss: 4.6476 - val_mean_absolute_error: 2.0446\n",
            "Epoch 87/150\n",
            "12/12 [==============================] - 0s 9ms/step - loss: 23.3737 - mean_absolute_error: 3.0203 - val_loss: 0.6491 - val_mean_absolute_error: 0.6308\n",
            "Epoch 88/150\n",
            "12/12 [==============================] - 0s 8ms/step - loss: 20.9327 - mean_absolute_error: 2.7593 - val_loss: 0.4669 - val_mean_absolute_error: 0.5335\n",
            "Epoch 89/150\n",
            "12/12 [==============================] - 0s 9ms/step - loss: 18.3118 - mean_absolute_error: 2.6257 - val_loss: 1.8073 - val_mean_absolute_error: 1.1908\n",
            "Epoch 90/150\n",
            "12/12 [==============================] - 0s 8ms/step - loss: 22.5977 - mean_absolute_error: 3.0345 - val_loss: 0.6616 - val_mean_absolute_error: 0.6612\n",
            "Epoch 91/150\n",
            "12/12 [==============================] - 0s 9ms/step - loss: 21.9461 - mean_absolute_error: 2.8196 - val_loss: 0.5303 - val_mean_absolute_error: 0.5750\n",
            "Epoch 92/150\n",
            "12/12 [==============================] - 0s 9ms/step - loss: 20.5618 - mean_absolute_error: 2.6954 - val_loss: 0.8828 - val_mean_absolute_error: 0.7544\n",
            "Epoch 93/150\n",
            "12/12 [==============================] - 0s 9ms/step - loss: 20.3503 - mean_absolute_error: 2.7907 - val_loss: 1.6594 - val_mean_absolute_error: 1.1349\n",
            "Epoch 94/150\n",
            "12/12 [==============================] - 0s 9ms/step - loss: 19.0395 - mean_absolute_error: 2.6822 - val_loss: 0.6456 - val_mean_absolute_error: 0.6248\n",
            "Epoch 95/150\n",
            "12/12 [==============================] - 0s 9ms/step - loss: 18.9991 - mean_absolute_error: 2.6692 - val_loss: 0.4830 - val_mean_absolute_error: 0.5404\n",
            "Epoch 96/150\n",
            "12/12 [==============================] - 0s 8ms/step - loss: 20.8159 - mean_absolute_error: 2.7336 - val_loss: 0.7095 - val_mean_absolute_error: 0.6586\n",
            "Epoch 97/150\n",
            "12/12 [==============================] - 0s 9ms/step - loss: 19.8375 - mean_absolute_error: 2.6657 - val_loss: 0.4564 - val_mean_absolute_error: 0.5353\n",
            "Epoch 98/150\n",
            "12/12 [==============================] - 0s 9ms/step - loss: 19.0865 - mean_absolute_error: 2.6984 - val_loss: 1.3781 - val_mean_absolute_error: 1.0172\n",
            "Epoch 99/150\n",
            "12/12 [==============================] - 0s 9ms/step - loss: 20.1748 - mean_absolute_error: 2.8247 - val_loss: 1.3089 - val_mean_absolute_error: 0.9884\n",
            "Epoch 100/150\n",
            "12/12 [==============================] - 0s 9ms/step - loss: 20.6657 - mean_absolute_error: 2.8438 - val_loss: 0.5678 - val_mean_absolute_error: 0.5853\n",
            "Epoch 101/150\n",
            "12/12 [==============================] - 0s 10ms/step - loss: 18.3268 - mean_absolute_error: 2.5821 - val_loss: 2.0721 - val_mean_absolute_error: 1.2893\n",
            "Epoch 102/150\n",
            "12/12 [==============================] - 0s 9ms/step - loss: 19.1529 - mean_absolute_error: 2.6681 - val_loss: 0.8776 - val_mean_absolute_error: 0.7541\n",
            "Epoch 103/150\n",
            "12/12 [==============================] - 0s 9ms/step - loss: 19.6834 - mean_absolute_error: 2.6255 - val_loss: 0.4707 - val_mean_absolute_error: 0.5404\n",
            "Epoch 104/150\n",
            "12/12 [==============================] - 0s 9ms/step - loss: 23.5201 - mean_absolute_error: 2.9242 - val_loss: 0.7259 - val_mean_absolute_error: 0.6689\n",
            "Epoch 105/150\n",
            "12/12 [==============================] - 0s 9ms/step - loss: 22.4175 - mean_absolute_error: 2.8852 - val_loss: 0.8282 - val_mean_absolute_error: 0.7600\n",
            "Epoch 106/150\n",
            "12/12 [==============================] - 0s 9ms/step - loss: 19.7154 - mean_absolute_error: 2.6795 - val_loss: 1.7565 - val_mean_absolute_error: 1.1716\n",
            "Epoch 107/150\n",
            "12/12 [==============================] - 0s 9ms/step - loss: 21.5369 - mean_absolute_error: 2.9288 - val_loss: 1.1977 - val_mean_absolute_error: 0.9389\n",
            "Epoch 108/150\n",
            "12/12 [==============================] - 0s 9ms/step - loss: 23.9869 - mean_absolute_error: 3.0737 - val_loss: 0.4511 - val_mean_absolute_error: 0.5307\n",
            "Epoch 109/150\n",
            "12/12 [==============================] - 0s 9ms/step - loss: 19.3429 - mean_absolute_error: 2.6206 - val_loss: 0.4483 - val_mean_absolute_error: 0.5326\n",
            "Epoch 110/150\n",
            "12/12 [==============================] - 0s 10ms/step - loss: 19.0565 - mean_absolute_error: 2.6629 - val_loss: 1.2270 - val_mean_absolute_error: 0.9521\n",
            "Epoch 111/150\n",
            "12/12 [==============================] - 0s 9ms/step - loss: 18.8971 - mean_absolute_error: 2.6143 - val_loss: 0.7675 - val_mean_absolute_error: 0.7271\n",
            "Epoch 112/150\n",
            "12/12 [==============================] - 0s 9ms/step - loss: 19.5741 - mean_absolute_error: 2.6950 - val_loss: 0.4545 - val_mean_absolute_error: 0.5315\n",
            "Epoch 113/150\n",
            "12/12 [==============================] - 0s 9ms/step - loss: 20.4187 - mean_absolute_error: 2.7836 - val_loss: 1.2974 - val_mean_absolute_error: 0.9712\n",
            "Epoch 114/150\n",
            "12/12 [==============================] - 0s 9ms/step - loss: 19.6708 - mean_absolute_error: 2.7825 - val_loss: 0.4543 - val_mean_absolute_error: 0.5314\n",
            "Epoch 115/150\n",
            "12/12 [==============================] - 0s 9ms/step - loss: 18.8523 - mean_absolute_error: 2.6709 - val_loss: 0.5691 - val_mean_absolute_error: 0.6030\n",
            "Epoch 116/150\n",
            "12/12 [==============================] - 0s 9ms/step - loss: 18.7811 - mean_absolute_error: 2.5497 - val_loss: 0.4681 - val_mean_absolute_error: 0.5342\n",
            "Epoch 117/150\n",
            "12/12 [==============================] - 0s 9ms/step - loss: 19.8400 - mean_absolute_error: 2.8073 - val_loss: 0.4599 - val_mean_absolute_error: 0.5393\n",
            "Epoch 118/150\n",
            "12/12 [==============================] - 0s 9ms/step - loss: 30.7485 - mean_absolute_error: 3.4980 - val_loss: 2.3577 - val_mean_absolute_error: 1.3998\n",
            "Epoch 119/150\n",
            "12/12 [==============================] - 0s 9ms/step - loss: 22.4778 - mean_absolute_error: 3.0530 - val_loss: 0.5273 - val_mean_absolute_error: 0.5720\n",
            "Epoch 120/150\n",
            "12/12 [==============================] - 0s 10ms/step - loss: 22.0020 - mean_absolute_error: 2.9908 - val_loss: 0.9521 - val_mean_absolute_error: 0.8224\n",
            "Epoch 121/150\n",
            "12/12 [==============================] - 0s 10ms/step - loss: 19.8382 - mean_absolute_error: 2.7250 - val_loss: 0.7725 - val_mean_absolute_error: 0.7268\n",
            "Epoch 122/150\n",
            "12/12 [==============================] - 0s 10ms/step - loss: 21.8674 - mean_absolute_error: 2.9844 - val_loss: 2.4050 - val_mean_absolute_error: 1.4144\n",
            "Epoch 123/150\n",
            "12/12 [==============================] - 0s 9ms/step - loss: 21.1016 - mean_absolute_error: 2.8733 - val_loss: 1.1238 - val_mean_absolute_error: 0.9026\n",
            "Epoch 124/150\n",
            "12/12 [==============================] - 0s 9ms/step - loss: 20.4480 - mean_absolute_error: 2.5932 - val_loss: 0.6299 - val_mean_absolute_error: 0.6400\n",
            "Epoch 125/150\n",
            "12/12 [==============================] - 0s 9ms/step - loss: 22.8184 - mean_absolute_error: 2.8443 - val_loss: 2.0833 - val_mean_absolute_error: 1.2960\n",
            "Epoch 126/150\n",
            "12/12 [==============================] - 0s 9ms/step - loss: 19.5219 - mean_absolute_error: 2.7204 - val_loss: 2.3332 - val_mean_absolute_error: 1.3854\n",
            "Epoch 127/150\n",
            "12/12 [==============================] - 0s 10ms/step - loss: 24.2316 - mean_absolute_error: 3.0505 - val_loss: 0.6270 - val_mean_absolute_error: 0.6219\n",
            "Epoch 128/150\n",
            "12/12 [==============================] - 0s 9ms/step - loss: 22.0319 - mean_absolute_error: 3.0077 - val_loss: 5.1236 - val_mean_absolute_error: 2.1572\n",
            "Epoch 129/150\n",
            "12/12 [==============================] - 0s 9ms/step - loss: 21.1800 - mean_absolute_error: 2.9254 - val_loss: 0.8894 - val_mean_absolute_error: 0.7611\n",
            "Epoch 130/150\n",
            "12/12 [==============================] - 0s 9ms/step - loss: 19.0392 - mean_absolute_error: 2.5964 - val_loss: 0.8556 - val_mean_absolute_error: 0.7718\n",
            "Epoch 131/150\n",
            "12/12 [==============================] - 0s 11ms/step - loss: 18.9648 - mean_absolute_error: 2.6017 - val_loss: 0.5524 - val_mean_absolute_error: 0.5880\n",
            "Epoch 132/150\n",
            "12/12 [==============================] - 0s 9ms/step - loss: 20.5457 - mean_absolute_error: 2.6735 - val_loss: 0.9792 - val_mean_absolute_error: 0.8076\n",
            "Epoch 133/150\n",
            "12/12 [==============================] - 0s 10ms/step - loss: 20.4810 - mean_absolute_error: 2.8085 - val_loss: 0.5640 - val_mean_absolute_error: 0.5986\n",
            "Epoch 134/150\n",
            "12/12 [==============================] - 0s 9ms/step - loss: 21.2120 - mean_absolute_error: 2.7864 - val_loss: 0.9760 - val_mean_absolute_error: 0.8347\n",
            "Epoch 135/150\n",
            "12/12 [==============================] - 0s 9ms/step - loss: 20.7139 - mean_absolute_error: 2.6953 - val_loss: 0.9291 - val_mean_absolute_error: 0.8132\n",
            "Epoch 136/150\n",
            "12/12 [==============================] - 0s 10ms/step - loss: 19.1126 - mean_absolute_error: 2.6798 - val_loss: 0.5175 - val_mean_absolute_error: 0.5580\n",
            "Epoch 137/150\n",
            "12/12 [==============================] - 0s 9ms/step - loss: 18.6696 - mean_absolute_error: 2.5647 - val_loss: 0.4744 - val_mean_absolute_error: 0.5455\n",
            "Epoch 138/150\n",
            "12/12 [==============================] - 0s 9ms/step - loss: 21.3355 - mean_absolute_error: 2.7878 - val_loss: 0.4609 - val_mean_absolute_error: 0.5397\n",
            "Epoch 139/150\n",
            "12/12 [==============================] - 0s 9ms/step - loss: 22.0671 - mean_absolute_error: 2.8573 - val_loss: 1.3965 - val_mean_absolute_error: 1.0147\n",
            "Epoch 140/150\n",
            "12/12 [==============================] - 0s 9ms/step - loss: 20.6702 - mean_absolute_error: 2.6835 - val_loss: 0.4967 - val_mean_absolute_error: 0.5534\n",
            "Epoch 141/150\n",
            "12/12 [==============================] - 0s 10ms/step - loss: 19.7305 - mean_absolute_error: 2.7523 - val_loss: 0.4980 - val_mean_absolute_error: 0.5540\n",
            "Epoch 142/150\n",
            "12/12 [==============================] - 0s 9ms/step - loss: 29.9815 - mean_absolute_error: 3.4573 - val_loss: 1.7545 - val_mean_absolute_error: 1.1723\n",
            "Epoch 143/150\n",
            "12/12 [==============================] - 0s 9ms/step - loss: 30.4284 - mean_absolute_error: 3.7479 - val_loss: 2.3049 - val_mean_absolute_error: 1.3821\n",
            "Epoch 144/150\n",
            "12/12 [==============================] - 0s 9ms/step - loss: 25.0529 - mean_absolute_error: 3.4218 - val_loss: 0.4703 - val_mean_absolute_error: 0.5446\n",
            "Epoch 145/150\n",
            "12/12 [==============================] - 0s 9ms/step - loss: 26.4810 - mean_absolute_error: 3.2441 - val_loss: 1.7546 - val_mean_absolute_error: 1.1714\n",
            "Epoch 146/150\n",
            "12/12 [==============================] - 0s 9ms/step - loss: 21.6630 - mean_absolute_error: 2.9162 - val_loss: 2.2244 - val_mean_absolute_error: 1.3525\n",
            "Epoch 147/150\n",
            "12/12 [==============================] - 0s 9ms/step - loss: 20.4631 - mean_absolute_error: 2.8976 - val_loss: 2.6853 - val_mean_absolute_error: 1.5020\n",
            "Epoch 148/150\n",
            "12/12 [==============================] - 0s 9ms/step - loss: 19.2052 - mean_absolute_error: 2.7349 - val_loss: 0.7104 - val_mean_absolute_error: 0.6679\n",
            "Epoch 149/150\n",
            "12/12 [==============================] - 0s 9ms/step - loss: 19.3368 - mean_absolute_error: 2.7366 - val_loss: 0.5404 - val_mean_absolute_error: 0.5812\n",
            "Epoch 150/150\n",
            "12/12 [==============================] - 0s 9ms/step - loss: 19.9082 - mean_absolute_error: 2.7037 - val_loss: 1.3939 - val_mean_absolute_error: 1.0225\n"
          ]
        },
        {
          "output_type": "execute_result",
          "data": {
            "text/plain": [
              "<keras.callbacks.History at 0x7fd40f2e0f50>"
            ]
          },
          "metadata": {},
          "execution_count": 68
        }
      ]
    },
    {
      "cell_type": "code",
      "source": [
        "train_predictions = model.predict(X_train).flatten()\n",
        "\n",
        "plt.clf()\n",
        "plt.plot(dates_train, train_predictions)\n",
        "plt.plot(dates_train, y_train)\n",
        "plt.legend([\"training Predictions\", \"Training Observations\"])"
      ],
      "metadata": {
        "colab": {
          "base_uri": "https://localhost:8080/",
          "height": 283
        },
        "id": "9jGDYZD7JKjC",
        "outputId": "aa1e6b49-8b94-4a77-96fe-95d5aa93d5ae"
      },
      "id": "9jGDYZD7JKjC",
      "execution_count": null,
      "outputs": [
        {
          "output_type": "execute_result",
          "data": {
            "text/plain": [
              "<matplotlib.legend.Legend at 0x7fd3e77342d0>"
            ]
          },
          "metadata": {},
          "execution_count": 69
        },
        {
          "output_type": "display_data",
          "data": {
            "text/plain": [
              "<Figure size 432x288 with 1 Axes>"
            ],
            "image/png": "[encoded data removed]"
          },
          "metadata": {
            "needs_background": "light"
          }
        }
      ]
    },
    {
      "cell_type": "code",
      "source": [
        "val_predictions = model.predict(X_val).flatten()\n",
        "\n",
        "plt.plot(dates_val, val_predictions)\n",
        "plt.plot(dates_val, y_val)\n",
        "plt.legend([\"Validation Predictions\", \"Validation Observations\"])"
      ],
      "metadata": {
        "colab": {
          "base_uri": "https://localhost:8080/",
          "height": 283
        },
        "id": "UoqmcWcuJ5T1",
        "outputId": "7a4d6f6f-3302-471f-a6e6-60b357e10e15"
      },
      "id": "UoqmcWcuJ5T1",
      "execution_count": null,
      "outputs": [
        {
          "output_type": "execute_result",
          "data": {
            "text/plain": [
              "<matplotlib.legend.Legend at 0x7fd3e76c7e10>"
            ]
          },
          "metadata": {},
          "execution_count": 70
        },
        {
          "output_type": "display_data",
          "data": {
            "text/plain": [
              "<Figure size 432x288 with 1 Axes>"
            ],
            "image/png": "[encoded data removed]"
          },
          "metadata": {
            "needs_background": "light"
          }
        }
      ]
    },
    {
      "cell_type": "code",
      "source": [
        "test_predictions = model.predict(X_test).flatten()\n",
        "\n",
        "plt.plot(dates_test, test_predictions)\n",
        "plt.plot(dates_test, y_test)\n",
        "plt.legend([\"Test Predictions\", \"Test Observations\"])"
      ],
      "metadata": {
        "colab": {
          "base_uri": "https://localhost:8080/",
          "height": 283
        },
        "id": "-p-JDF5EKrh2",
        "outputId": "077df59e-3ccc-47a7-c15d-bfe544fa935f"
      },
      "id": "-p-JDF5EKrh2",
      "execution_count": null,
      "outputs": [
        {
          "output_type": "execute_result",
          "data": {
            "text/plain": [
              "<matplotlib.legend.Legend at 0x7fd3e763fad0>"
            ]
          },
          "metadata": {},
          "execution_count": 71
        },
        {
          "output_type": "display_data",
          "data": {
            "text/plain": [
              "<Figure size 432x288 with 1 Axes>"
            ],
            "image/png": "[encoded data removed]"
          },
          "metadata": {
            "needs_background": "light"
          }
        }
      ]
    },
    {
      "cell_type": "code",
      "source": [
        "# put all plot on the same figure\n",
        "plt.clf()\n",
        "plt.plot(dates_train, train_predictions)\n",
        "plt.plot(dates_train, y_train)\n",
        "plt.plot(dates_val, val_predictions)\n",
        "plt.plot(dates_val, y_val)\n",
        "plt.plot(dates_test, test_predictions)\n",
        "plt.plot(dates_test, y_test)\n",
        "plt.legend([\"Train Predictions\", \"Train Observations\",\n",
        "            \"Validation Predictions\", \"Validation Observations\",\n",
        "            \"Testing Predictions\", \"Testing Observations\"])"
      ],
      "metadata": {
        "colab": {
          "base_uri": "https://localhost:8080/",
          "height": 283
        },
        "id": "UaBAefaZLPU5",
        "outputId": "60849cdc-28fa-446a-f2c4-c7d6bb2dc5ad"
      },
      "id": "UaBAefaZLPU5",
      "execution_count": null,
      "outputs": [
        {
          "output_type": "execute_result",
          "data": {
            "text/plain": [
              "<matplotlib.legend.Legend at 0x7fd3e7609550>"
            ]
          },
          "metadata": {},
          "execution_count": 72
        },
        {
          "output_type": "display_data",
          "data": {
            "text/plain": [
              "<Figure size 432x288 with 1 Axes>"
            ],
            "image/png": "[encoded data removed]"
          },
          "metadata": {
            "needs_background": "light"
          }
        }
      ]
    },
    {
      "cell_type": "markdown",
      "source": [
        "## Stage 3. To predict the long term"
      ],
      "metadata": {
        "id": "eKPTajspRoN6"
      },
      "id": "eKPTajspRoN6"
    },
    {
      "cell_type": "code",
      "source": [
        "from copy import deepcopy\n",
        "# built-in function shallow copy will change the original list\n",
        "# deepcopy will not change the original list\n",
        "recursive_predictions = []\n",
        "recursive_dates = np.concatenate([dates_val, dates_test])\n",
        "\n",
        "for target_date in recursive_dates:\n",
        "  last_window = deepcopy(X_train[-1])\n",
        "  next_prediction = model.predict(np.array([last_window])).flatten()\n",
        "  recursive_predictions.append(next_prediction)\n",
        "  last_window[-1] = next_prediction"
      ],
      "metadata": {
        "id": "irXcfBT-Rsb8"
      },
      "id": "irXcfBT-Rsb8",
      "execution_count": null,
      "outputs": []
    },
    {
      "cell_type": "code",
      "source": [
        "# put all plot on the same figure\n",
        "plt.clf()\n",
        "plt.plot(dates_train, train_predictions)\n",
        "plt.plot(dates_train, y_train)\n",
        "plt.plot(dates_val, val_predictions)\n",
        "plt.plot(dates_val, y_val)\n",
        "plt.plot(dates_test, test_predictions)\n",
        "plt.plot(dates_test, y_test)\n",
        "plt.plot(recursive_dates, recursive_predictions)\n",
        "plt.legend([\"Train Predictions\", \"Train Observations\",\n",
        "            \"Validation Predictions\", \"Validation Observations\",\n",
        "            \"Testing Predictions\", \"Testing Observations\", \"Recursive Predictions\"])"
      ],
      "metadata": {
        "colab": {
          "base_uri": "https://localhost:8080/",
          "height": 283
        },
        "id": "K-K_SPV8XktR",
        "outputId": "57a3cb4d-c0de-434a-af26-f5e4de97555b"
      },
      "id": "K-K_SPV8XktR",
      "execution_count": null,
      "outputs": [
        {
          "output_type": "execute_result",
          "data": {
            "text/plain": [
              "<matplotlib.legend.Legend at 0x7fd3e748edd0>"
            ]
          },
          "metadata": {},
          "execution_count": 74
        },
        {
          "output_type": "display_data",
          "data": {
            "text/plain": [
              "<Figure size 432x288 with 1 Axes>"
            ],
            "image/png": "[encoded data removed]"
          },
          "metadata": {
            "needs_background": "light"
          }
        }
      ]
    },
    {
      "cell_type": "code",
      "source": [
        "days_input = np.array(dataset.iloc[-1, 2:]).astype(np.float32).reshape(1,input[\"days2predict\"]-1,1)\n",
        "days_input"
      ],
      "metadata": {
        "colab": {
          "base_uri": "https://localhost:8080/"
        },
        "id": "DY8rRPeLegJc",
        "outputId": "a0530bd8-3421-4c65-c21a-479264d5dcbd"
      },
      "id": "DY8rRPeLegJc",
      "execution_count": null,
      "outputs": [
        {
          "output_type": "execute_result",
          "data": {
            "text/plain": [
              "array([[[11.25],\n",
              "        [12.55],\n",
              "        [12.87],\n",
              "        [13.15],\n",
              "        [13.07],\n",
              "        [12.51],\n",
              "        [12.2 ],\n",
              "        [10.2 ],\n",
              "        [ 9.94],\n",
              "        [ 9.84],\n",
              "        [ 9.78],\n",
              "        [11.08],\n",
              "        [11.09],\n",
              "        [11.3 ],\n",
              "        [11.27],\n",
              "        [12.55],\n",
              "        [12.48],\n",
              "        [12.  ],\n",
              "        [10.8 ],\n",
              "        [10.94],\n",
              "        [11.81],\n",
              "        [11.92],\n",
              "        [13.06],\n",
              "        [12.6 ],\n",
              "        [13.46],\n",
              "        [12.85],\n",
              "        [14.11],\n",
              "        [14.78],\n",
              "        [17.27],\n",
              "        [14.72],\n",
              "        [16.21],\n",
              "        [17.1 ],\n",
              "        [21.27],\n",
              "        [23.41],\n",
              "        [22.02],\n",
              "        [21.57],\n",
              "        [20.76],\n",
              "        [20.82],\n",
              "        [18.98],\n",
              "        [19.85],\n",
              "        [18.99],\n",
              "        [18.37],\n",
              "        [20.14],\n",
              "        [20.36],\n",
              "        [20.21],\n",
              "        [22.49],\n",
              "        [22.44],\n",
              "        [22.75],\n",
              "        [23.8 ],\n",
              "        [21.1 ],\n",
              "        [21.44],\n",
              "        [22.47],\n",
              "        [21.98],\n",
              "        [22.3 ],\n",
              "        [22.  ],\n",
              "        [23.01],\n",
              "        [23.01],\n",
              "        [23.06],\n",
              "        [23.  ]]], dtype=float32)"
            ]
          },
          "metadata": {},
          "execution_count": 75
        }
      ]
    },
    {
      "cell_type": "code",
      "source": [
        "X_test[-1:].shape"
      ],
      "metadata": {
        "colab": {
          "base_uri": "https://localhost:8080/"
        },
        "id": "jpFikDNwi0Ri",
        "outputId": "40f10847-b176-464d-da7a-a77a023df4e4"
      },
      "id": "jpFikDNwi0Ri",
      "execution_count": null,
      "outputs": [
        {
          "output_type": "execute_result",
          "data": {
            "text/plain": [
              "(1, 59, 1)"
            ]
          },
          "metadata": {},
          "execution_count": 76
        }
      ]
    },
    {
      "cell_type": "code",
      "source": [
        "last_day = model.predict(X_test[-1:])\n",
        "print(last_day)"
      ],
      "metadata": {
        "colab": {
          "base_uri": "https://localhost:8080/"
        },
        "id": "pcOAF1Qkhl10",
        "outputId": "d0fe9e1d-395e-428c-e264-1b17f05e5d15"
      },
      "id": "pcOAF1Qkhl10",
      "execution_count": null,
      "outputs": [
        {
          "output_type": "stream",
          "name": "stdout",
          "text": [
            "[[23.438753]]\n"
          ]
        }
      ]
    },
    {
      "cell_type": "code",
      "source": [
        "# to predict the next day's price\n",
        "next_day = model.predict(days_input)\n",
        "print(\"基于过去{}的走势，以{}天为一周期的LSTM预测{}明日收盘价为：\".format(input[\"how_long\"],str(input[\"days2predict\"]),input[\"stock_code\"]), next_day)"
      ],
      "metadata": {
        "colab": {
          "base_uri": "https://localhost:8080/"
        },
        "id": "zmImQc9dckZh",
        "outputId": "46b71892-0f81-4f7a-ebd0-768558f5c3cb"
      },
      "id": "zmImQc9dckZh",
      "execution_count": null,
      "outputs": [
        {
          "output_type": "stream",
          "name": "stdout",
          "text": [
            "基于过去2y的走势，以60天为一周期的LSTM预测EDU明日收盘价为： [[23.377592]]\n"
          ]
        }
      ]
    }
  ],
  "metadata": {
    "kernelspec": {
      "display_name": "Python 3 (ipykernel)",
      "language": "python",
      "name": "python3"
    },
    "language_info": {
      "codemirror_mode": {
        "name": "ipython",
        "version": 3
      },
      "file_extension": ".py",
      "mimetype": "text/x-python",
      "name": "python",
      "nbconvert_exporter": "python",
      "pygments_lexer": "ipython3",
      "version": "3.9.12"
    },
    "colab": {
      "provenance": [],
      "include_colab_link": true
    },
    "gpuClass": "standard",
    "accelerator": "GPU"
  },
  "nbformat": 4,
  "nbformat_minor": 5
}