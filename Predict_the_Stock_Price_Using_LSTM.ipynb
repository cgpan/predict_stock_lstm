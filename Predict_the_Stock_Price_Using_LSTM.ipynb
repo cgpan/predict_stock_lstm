{
  "cells": [
    {
      "cell_type": "markdown",
      "metadata": {
        "id": "view-in-github",
        "colab_type": "text"
      },
      "source": [
        "<a href=\"https://colab.research.google.com/github/cgpan/predict_stock_lstm/blob/main/Predict_the_Stock_Price_Using_LSTM.ipynb\" target=\"_parent\"><img src=\"https://colab.research.google.com/assets/colab-badge.svg\" alt=\"Open In Colab\"/></a>"
      ]
    },
    {
      "cell_type": "markdown",
      "id": "6ab629a3",
      "metadata": {
        "id": "6ab629a3"
      },
      "source": [
        "# Stage 1. Stock Data Management Using Yfinance"
      ]
    },
    {
      "cell_type": "code",
      "source": [
        "# Since the google's remote server does not have a module called yfinance\n",
        "!pip install yfinance"
      ],
      "metadata": {
        "colab": {
          "base_uri": "https://localhost:8080/"
        },
        "collapsed": true,
        "id": "vzOS_qupBRYQ",
        "outputId": "7f09a3a2-831e-4338-c167-15a32f33633d"
      },
      "id": "vzOS_qupBRYQ",
      "execution_count": null,
      "outputs": [
        {
          "output_type": "stream",
          "name": "stdout",
          "text": [
            "Looking in indexes: https://pypi.org/simple, https://us-python.pkg.dev/colab-wheels/public/simple/\n",
            "Collecting yfinance\n",
            "  Downloading yfinance-0.1.72-py2.py3-none-any.whl (27 kB)\n",
            "Requirement already satisfied: numpy>=1.15 in /usr/local/lib/python3.7/dist-packages (from yfinance) (1.21.6)\n",
            "Requirement already satisfied: pandas>=0.24.0 in /usr/local/lib/python3.7/dist-packages (from yfinance) (1.3.5)\n",
            "Collecting requests>=2.26\n",
            "  Downloading requests-2.28.1-py3-none-any.whl (62 kB)\n",
            "\u001b[K     |████████████████████████████████| 62 kB 1.6 MB/s \n",
            "\u001b[?25hCollecting lxml>=4.5.1\n",
            "  Downloading lxml-4.9.1-cp37-cp37m-manylinux_2_17_x86_64.manylinux2014_x86_64.manylinux_2_24_x86_64.whl (6.4 MB)\n",
            "\u001b[K     |████████████████████████████████| 6.4 MB 59.4 MB/s \n",
            "\u001b[?25hRequirement already satisfied: multitasking>=0.0.7 in /usr/local/lib/python3.7/dist-packages (from yfinance) (0.0.10)\n",
            "Requirement already satisfied: python-dateutil>=2.7.3 in /usr/local/lib/python3.7/dist-packages (from pandas>=0.24.0->yfinance) (2.8.2)\n",
            "Requirement already satisfied: pytz>=2017.3 in /usr/local/lib/python3.7/dist-packages (from pandas>=0.24.0->yfinance) (2022.1)\n",
            "Requirement already satisfied: six>=1.5 in /usr/local/lib/python3.7/dist-packages (from python-dateutil>=2.7.3->pandas>=0.24.0->yfinance) (1.15.0)\n",
            "Requirement already satisfied: charset-normalizer<3,>=2 in /usr/local/lib/python3.7/dist-packages (from requests>=2.26->yfinance) (2.1.0)\n",
            "Requirement already satisfied: certifi>=2017.4.17 in /usr/local/lib/python3.7/dist-packages (from requests>=2.26->yfinance) (2022.6.15)\n",
            "Requirement already satisfied: idna<4,>=2.5 in /usr/local/lib/python3.7/dist-packages (from requests>=2.26->yfinance) (2.10)\n",
            "Requirement already satisfied: urllib3<1.27,>=1.21.1 in /usr/local/lib/python3.7/dist-packages (from requests>=2.26->yfinance) (1.24.3)\n",
            "Installing collected packages: requests, lxml, yfinance\n",
            "  Attempting uninstall: requests\n",
            "    Found existing installation: requests 2.23.0\n",
            "    Uninstalling requests-2.23.0:\n",
            "      Successfully uninstalled requests-2.23.0\n",
            "  Attempting uninstall: lxml\n",
            "    Found existing installation: lxml 4.2.6\n",
            "    Uninstalling lxml-4.2.6:\n",
            "      Successfully uninstalled lxml-4.2.6\n",
            "\u001b[31mERROR: pip's dependency resolver does not currently take into account all the packages that are installed. This behaviour is the source of the following dependency conflicts.\n",
            "google-colab 1.0.0 requires requests~=2.23.0, but you have requests 2.28.1 which is incompatible.\n",
            "datascience 0.10.6 requires folium==0.2.1, but you have folium 0.8.3 which is incompatible.\u001b[0m\n",
            "Successfully installed lxml-4.9.1 requests-2.28.1 yfinance-0.1.72\n"
          ]
        }
      ]
    },
    {
      "cell_type": "markdown",
      "id": "ece1554f",
      "metadata": {
        "id": "ece1554f"
      },
      "source": [
        "## 1.0 install and import the module yfinance"
      ]
    },
    {
      "cell_type": "markdown",
      "id": "f129a8d6",
      "metadata": {
        "id": "f129a8d6"
      },
      "source": [
        "see this page for more tutorials https://analyzingalpha.com/yfinance-python"
      ]
    },
    {
      "cell_type": "code",
      "execution_count": null,
      "id": "f7d8f440",
      "metadata": {
        "id": "f7d8f440"
      },
      "outputs": [],
      "source": [
        "import yfinance as yf\n",
        "from matplotlib import pyplot as plt\n",
        "import pandas as pd\n",
        "import numpy as np"
      ]
    },
    {
      "cell_type": "markdown",
      "id": "28430b08",
      "metadata": {
        "id": "28430b08"
      },
      "source": [
        "## 2.0 get the stock price data using .history()"
      ]
    },
    {
      "cell_type": "markdown",
      "id": "5d33b6cd",
      "metadata": {
        "id": "5d33b6cd"
      },
      "source": [
        "关于.history()的source code 可以提供各种参数的介绍，可以点击上述网址"
      ]
    },
    {
      "cell_type": "code",
      "execution_count": null,
      "id": "6e0044bb",
      "metadata": {
        "id": "6e0044bb"
      },
      "outputs": [],
      "source": [
        "# make sure the ticker's code, like \"AAPL\" for aplle inc.\n",
        "apple_ticker = yf.Ticker(\"AAPL\")\n",
        "# by default the .history() will give one month daily price of a ticker\n",
        "apple_1mon = apple_ticker.history()"
      ]
    },
    {
      "cell_type": "code",
      "execution_count": null,
      "id": "474d4cc1",
      "metadata": {
        "colab": {
          "base_uri": "https://localhost:8080/",
          "height": 238
        },
        "id": "474d4cc1",
        "outputId": "483872ea-5f99-402e-e6fa-d120e6edce00"
      },
      "outputs": [
        {
          "output_type": "execute_result",
          "data": {
            "text/plain": [
              "                  Open        High         Low       Close     Volume  \\\n",
              "Date                                                                    \n",
              "2022-06-09  147.080002  147.949997  142.529999  142.639999   69473000   \n",
              "2022-06-10  140.279999  140.759995  137.059998  137.130005   91437900   \n",
              "2022-06-13  132.869995  135.199997  131.440002  131.880005  122207100   \n",
              "2022-06-14  133.130005  133.889999  131.479996  132.759995   84784300   \n",
              "2022-06-15  134.289993  137.339996  132.160004  135.429993   91533000   \n",
              "\n",
              "            Dividends  Stock Splits  \n",
              "Date                                 \n",
              "2022-06-09          0             0  \n",
              "2022-06-10          0             0  \n",
              "2022-06-13          0             0  \n",
              "2022-06-14          0             0  \n",
              "2022-06-15          0             0  "
            ],
            "text/html": [
              "\n",
              "  <div id=\"df-b31292e4-1f6e-4378-83f1-edb6022230ba\">\n",
              "    <div class=\"colab-df-container\">\n",
              "      <div>\n",
              "<style scoped>\n",
              "    .dataframe tbody tr th:only-of-type {\n",
              "        vertical-align: middle;\n",
              "    }\n",
              "\n",
              "    .dataframe tbody tr th {\n",
              "        vertical-align: top;\n",
              "    }\n",
              "\n",
              "    .dataframe thead th {\n",
              "        text-align: right;\n",
              "    }\n",
              "</style>\n",
              "<table border=\"1\" class=\"dataframe\">\n",
              "  <thead>\n",
              "    <tr style=\"text-align: right;\">\n",
              "      <th></th>\n",
              "      <th>Open</th>\n",
              "      <th>High</th>\n",
              "      <th>Low</th>\n",
              "      <th>Close</th>\n",
              "      <th>Volume</th>\n",
              "      <th>Dividends</th>\n",
              "      <th>Stock Splits</th>\n",
              "    </tr>\n",
              "    <tr>\n",
              "      <th>Date</th>\n",
              "      <th></th>\n",
              "      <th></th>\n",
              "      <th></th>\n",
              "      <th></th>\n",
              "      <th></th>\n",
              "      <th></th>\n",
              "      <th></th>\n",
              "    </tr>\n",
              "  </thead>\n",
              "  <tbody>\n",
              "    <tr>\n",
              "      <th>2022-06-09</th>\n",
              "      <td>147.080002</td>\n",
              "      <td>147.949997</td>\n",
              "      <td>142.529999</td>\n",
              "      <td>142.639999</td>\n",
              "      <td>69473000</td>\n",
              "      <td>0</td>\n",
              "      <td>0</td>\n",
              "    </tr>\n",
              "    <tr>\n",
              "      <th>2022-06-10</th>\n",
              "      <td>140.279999</td>\n",
              "      <td>140.759995</td>\n",
              "      <td>137.059998</td>\n",
              "      <td>137.130005</td>\n",
              "      <td>91437900</td>\n",
              "      <td>0</td>\n",
              "      <td>0</td>\n",
              "    </tr>\n",
              "    <tr>\n",
              "      <th>2022-06-13</th>\n",
              "      <td>132.869995</td>\n",
              "      <td>135.199997</td>\n",
              "      <td>131.440002</td>\n",
              "      <td>131.880005</td>\n",
              "      <td>122207100</td>\n",
              "      <td>0</td>\n",
              "      <td>0</td>\n",
              "    </tr>\n",
              "    <tr>\n",
              "      <th>2022-06-14</th>\n",
              "      <td>133.130005</td>\n",
              "      <td>133.889999</td>\n",
              "      <td>131.479996</td>\n",
              "      <td>132.759995</td>\n",
              "      <td>84784300</td>\n",
              "      <td>0</td>\n",
              "      <td>0</td>\n",
              "    </tr>\n",
              "    <tr>\n",
              "      <th>2022-06-15</th>\n",
              "      <td>134.289993</td>\n",
              "      <td>137.339996</td>\n",
              "      <td>132.160004</td>\n",
              "      <td>135.429993</td>\n",
              "      <td>91533000</td>\n",
              "      <td>0</td>\n",
              "      <td>0</td>\n",
              "    </tr>\n",
              "  </tbody>\n",
              "</table>\n",
              "</div>\n",
              "      <button class=\"colab-df-convert\" onclick=\"convertToInteractive('df-b31292e4-1f6e-4378-83f1-edb6022230ba')\"\n",
              "              title=\"Convert this dataframe to an interactive table.\"\n",
              "              style=\"display:none;\">\n",
              "        \n",
              "  <svg xmlns=\"http://www.w3.org/2000/svg\" height=\"24px\"viewBox=\"0 0 24 24\"\n",
              "       width=\"24px\">\n",
              "    <path d=\"M0 0h24v24H0V0z\" fill=\"none\"/>\n",
              "    <path d=\"M18.56 5.44l.94 2.06.94-2.06 2.06-.94-2.06-.94-.94-2.06-.94 2.06-2.06.94zm-11 1L8.5 8.5l.94-2.06 2.06-.94-2.06-.94L8.5 2.5l-.94 2.06-2.06.94zm10 10l.94 2.06.94-2.06 2.06-.94-2.06-.94-.94-2.06-.94 2.06-2.06.94z\"/><path d=\"M17.41 7.96l-1.37-1.37c-.4-.4-.92-.59-1.43-.59-.52 0-1.04.2-1.43.59L10.3 9.45l-7.72 7.72c-.78.78-.78 2.05 0 2.83L4 21.41c.39.39.9.59 1.41.59.51 0 1.02-.2 1.41-.59l7.78-7.78 2.81-2.81c.8-.78.8-2.07 0-2.86zM5.41 20L4 18.59l7.72-7.72 1.47 1.35L5.41 20z\"/>\n",
              "  </svg>\n",
              "      </button>\n",
              "      \n",
              "  <style>\n",
              "    .colab-df-container {\n",
              "      display:flex;\n",
              "      flex-wrap:wrap;\n",
              "      gap: 12px;\n",
              "    }\n",
              "\n",
              "    .colab-df-convert {\n",
              "      background-color: #E8F0FE;\n",
              "      border: none;\n",
              "      border-radius: 50%;\n",
              "      cursor: pointer;\n",
              "      display: none;\n",
              "      fill: #1967D2;\n",
              "      height: 32px;\n",
              "      padding: 0 0 0 0;\n",
              "      width: 32px;\n",
              "    }\n",
              "\n",
              "    .colab-df-convert:hover {\n",
              "      background-color: #E2EBFA;\n",
              "      box-shadow: 0px 1px 2px rgba(60, 64, 67, 0.3), 0px 1px 3px 1px rgba(60, 64, 67, 0.15);\n",
              "      fill: #174EA6;\n",
              "    }\n",
              "\n",
              "    [theme=dark] .colab-df-convert {\n",
              "      background-color: #3B4455;\n",
              "      fill: #D2E3FC;\n",
              "    }\n",
              "\n",
              "    [theme=dark] .colab-df-convert:hover {\n",
              "      background-color: #434B5C;\n",
              "      box-shadow: 0px 1px 3px 1px rgba(0, 0, 0, 0.15);\n",
              "      filter: drop-shadow(0px 1px 2px rgba(0, 0, 0, 0.3));\n",
              "      fill: #FFFFFF;\n",
              "    }\n",
              "  </style>\n",
              "\n",
              "      <script>\n",
              "        const buttonEl =\n",
              "          document.querySelector('#df-b31292e4-1f6e-4378-83f1-edb6022230ba button.colab-df-convert');\n",
              "        buttonEl.style.display =\n",
              "          google.colab.kernel.accessAllowed ? 'block' : 'none';\n",
              "\n",
              "        async function convertToInteractive(key) {\n",
              "          const element = document.querySelector('#df-b31292e4-1f6e-4378-83f1-edb6022230ba');\n",
              "          const dataTable =\n",
              "            await google.colab.kernel.invokeFunction('convertToInteractive',\n",
              "                                                     [key], {});\n",
              "          if (!dataTable) return;\n",
              "\n",
              "          const docLinkHtml = 'Like what you see? Visit the ' +\n",
              "            '<a target=\"_blank\" href=https://colab.research.google.com/notebooks/data_table.ipynb>data table notebook</a>'\n",
              "            + ' to learn more about interactive tables.';\n",
              "          element.innerHTML = '';\n",
              "          dataTable['output_type'] = 'display_data';\n",
              "          await google.colab.output.renderOutput(dataTable, element);\n",
              "          const docLink = document.createElement('div');\n",
              "          docLink.innerHTML = docLinkHtml;\n",
              "          element.appendChild(docLink);\n",
              "        }\n",
              "      </script>\n",
              "    </div>\n",
              "  </div>\n",
              "  "
            ]
          },
          "metadata": {},
          "execution_count": 4
        }
      ],
      "source": [
        "apple_1mon.head()"
      ]
    },
    {
      "cell_type": "code",
      "execution_count": null,
      "id": "ba0ac5e2",
      "metadata": {
        "colab": {
          "base_uri": "https://localhost:8080/",
          "height": 238
        },
        "id": "ba0ac5e2",
        "outputId": "7acbb562-eae3-48e6-bc96-c46950d890bb"
      },
      "outputs": [
        {
          "output_type": "execute_result",
          "data": {
            "text/plain": [
              "                  Open        High         Low       Close    Volume  \\\n",
              "Date                                                                   \n",
              "2022-07-01  136.039993  139.039993  135.660004  138.929993  71007500   \n",
              "2022-07-05  137.770004  141.610001  136.929993  141.559998  73353800   \n",
              "2022-07-06  141.350006  144.119995  141.080002  142.919998  74064300   \n",
              "2022-07-07  143.289993  146.550003  143.279999  146.350006  66253700   \n",
              "2022-07-08  145.259995  147.550003  145.000000  147.039993  64493200   \n",
              "\n",
              "            Dividends  Stock Splits  \n",
              "Date                                 \n",
              "2022-07-01          0             0  \n",
              "2022-07-05          0             0  \n",
              "2022-07-06          0             0  \n",
              "2022-07-07          0             0  \n",
              "2022-07-08          0             0  "
            ],
            "text/html": [
              "\n",
              "  <div id=\"df-0d76dd86-3eee-4734-8d8f-ed1124930990\">\n",
              "    <div class=\"colab-df-container\">\n",
              "      <div>\n",
              "<style scoped>\n",
              "    .dataframe tbody tr th:only-of-type {\n",
              "        vertical-align: middle;\n",
              "    }\n",
              "\n",
              "    .dataframe tbody tr th {\n",
              "        vertical-align: top;\n",
              "    }\n",
              "\n",
              "    .dataframe thead th {\n",
              "        text-align: right;\n",
              "    }\n",
              "</style>\n",
              "<table border=\"1\" class=\"dataframe\">\n",
              "  <thead>\n",
              "    <tr style=\"text-align: right;\">\n",
              "      <th></th>\n",
              "      <th>Open</th>\n",
              "      <th>High</th>\n",
              "      <th>Low</th>\n",
              "      <th>Close</th>\n",
              "      <th>Volume</th>\n",
              "      <th>Dividends</th>\n",
              "      <th>Stock Splits</th>\n",
              "    </tr>\n",
              "    <tr>\n",
              "      <th>Date</th>\n",
              "      <th></th>\n",
              "      <th></th>\n",
              "      <th></th>\n",
              "      <th></th>\n",
              "      <th></th>\n",
              "      <th></th>\n",
              "      <th></th>\n",
              "    </tr>\n",
              "  </thead>\n",
              "  <tbody>\n",
              "    <tr>\n",
              "      <th>2022-07-01</th>\n",
              "      <td>136.039993</td>\n",
              "      <td>139.039993</td>\n",
              "      <td>135.660004</td>\n",
              "      <td>138.929993</td>\n",
              "      <td>71007500</td>\n",
              "      <td>0</td>\n",
              "      <td>0</td>\n",
              "    </tr>\n",
              "    <tr>\n",
              "      <th>2022-07-05</th>\n",
              "      <td>137.770004</td>\n",
              "      <td>141.610001</td>\n",
              "      <td>136.929993</td>\n",
              "      <td>141.559998</td>\n",
              "      <td>73353800</td>\n",
              "      <td>0</td>\n",
              "      <td>0</td>\n",
              "    </tr>\n",
              "    <tr>\n",
              "      <th>2022-07-06</th>\n",
              "      <td>141.350006</td>\n",
              "      <td>144.119995</td>\n",
              "      <td>141.080002</td>\n",
              "      <td>142.919998</td>\n",
              "      <td>74064300</td>\n",
              "      <td>0</td>\n",
              "      <td>0</td>\n",
              "    </tr>\n",
              "    <tr>\n",
              "      <th>2022-07-07</th>\n",
              "      <td>143.289993</td>\n",
              "      <td>146.550003</td>\n",
              "      <td>143.279999</td>\n",
              "      <td>146.350006</td>\n",
              "      <td>66253700</td>\n",
              "      <td>0</td>\n",
              "      <td>0</td>\n",
              "    </tr>\n",
              "    <tr>\n",
              "      <th>2022-07-08</th>\n",
              "      <td>145.259995</td>\n",
              "      <td>147.550003</td>\n",
              "      <td>145.000000</td>\n",
              "      <td>147.039993</td>\n",
              "      <td>64493200</td>\n",
              "      <td>0</td>\n",
              "      <td>0</td>\n",
              "    </tr>\n",
              "  </tbody>\n",
              "</table>\n",
              "</div>\n",
              "      <button class=\"colab-df-convert\" onclick=\"convertToInteractive('df-0d76dd86-3eee-4734-8d8f-ed1124930990')\"\n",
              "              title=\"Convert this dataframe to an interactive table.\"\n",
              "              style=\"display:none;\">\n",
              "        \n",
              "  <svg xmlns=\"http://www.w3.org/2000/svg\" height=\"24px\"viewBox=\"0 0 24 24\"\n",
              "       width=\"24px\">\n",
              "    <path d=\"M0 0h24v24H0V0z\" fill=\"none\"/>\n",
              "    <path d=\"M18.56 5.44l.94 2.06.94-2.06 2.06-.94-2.06-.94-.94-2.06-.94 2.06-2.06.94zm-11 1L8.5 8.5l.94-2.06 2.06-.94-2.06-.94L8.5 2.5l-.94 2.06-2.06.94zm10 10l.94 2.06.94-2.06 2.06-.94-2.06-.94-.94-2.06-.94 2.06-2.06.94z\"/><path d=\"M17.41 7.96l-1.37-1.37c-.4-.4-.92-.59-1.43-.59-.52 0-1.04.2-1.43.59L10.3 9.45l-7.72 7.72c-.78.78-.78 2.05 0 2.83L4 21.41c.39.39.9.59 1.41.59.51 0 1.02-.2 1.41-.59l7.78-7.78 2.81-2.81c.8-.78.8-2.07 0-2.86zM5.41 20L4 18.59l7.72-7.72 1.47 1.35L5.41 20z\"/>\n",
              "  </svg>\n",
              "      </button>\n",
              "      \n",
              "  <style>\n",
              "    .colab-df-container {\n",
              "      display:flex;\n",
              "      flex-wrap:wrap;\n",
              "      gap: 12px;\n",
              "    }\n",
              "\n",
              "    .colab-df-convert {\n",
              "      background-color: #E8F0FE;\n",
              "      border: none;\n",
              "      border-radius: 50%;\n",
              "      cursor: pointer;\n",
              "      display: none;\n",
              "      fill: #1967D2;\n",
              "      height: 32px;\n",
              "      padding: 0 0 0 0;\n",
              "      width: 32px;\n",
              "    }\n",
              "\n",
              "    .colab-df-convert:hover {\n",
              "      background-color: #E2EBFA;\n",
              "      box-shadow: 0px 1px 2px rgba(60, 64, 67, 0.3), 0px 1px 3px 1px rgba(60, 64, 67, 0.15);\n",
              "      fill: #174EA6;\n",
              "    }\n",
              "\n",
              "    [theme=dark] .colab-df-convert {\n",
              "      background-color: #3B4455;\n",
              "      fill: #D2E3FC;\n",
              "    }\n",
              "\n",
              "    [theme=dark] .colab-df-convert:hover {\n",
              "      background-color: #434B5C;\n",
              "      box-shadow: 0px 1px 3px 1px rgba(0, 0, 0, 0.15);\n",
              "      filter: drop-shadow(0px 1px 2px rgba(0, 0, 0, 0.3));\n",
              "      fill: #FFFFFF;\n",
              "    }\n",
              "  </style>\n",
              "\n",
              "      <script>\n",
              "        const buttonEl =\n",
              "          document.querySelector('#df-0d76dd86-3eee-4734-8d8f-ed1124930990 button.colab-df-convert');\n",
              "        buttonEl.style.display =\n",
              "          google.colab.kernel.accessAllowed ? 'block' : 'none';\n",
              "\n",
              "        async function convertToInteractive(key) {\n",
              "          const element = document.querySelector('#df-0d76dd86-3eee-4734-8d8f-ed1124930990');\n",
              "          const dataTable =\n",
              "            await google.colab.kernel.invokeFunction('convertToInteractive',\n",
              "                                                     [key], {});\n",
              "          if (!dataTable) return;\n",
              "\n",
              "          const docLinkHtml = 'Like what you see? Visit the ' +\n",
              "            '<a target=\"_blank\" href=https://colab.research.google.com/notebooks/data_table.ipynb>data table notebook</a>'\n",
              "            + ' to learn more about interactive tables.';\n",
              "          element.innerHTML = '';\n",
              "          dataTable['output_type'] = 'display_data';\n",
              "          await google.colab.output.renderOutput(dataTable, element);\n",
              "          const docLink = document.createElement('div');\n",
              "          docLink.innerHTML = docLinkHtml;\n",
              "          element.appendChild(docLink);\n",
              "        }\n",
              "      </script>\n",
              "    </div>\n",
              "  </div>\n",
              "  "
            ]
          },
          "metadata": {},
          "execution_count": 5
        }
      ],
      "source": [
        "apple_1mon.tail()"
      ]
    },
    {
      "cell_type": "code",
      "execution_count": null,
      "id": "bf3f1d30",
      "metadata": {
        "id": "bf3f1d30"
      },
      "outputs": [],
      "source": [
        "apple = apple_ticker.history(period=\"10y\", interval=\"1d\", end=\"2022-07-08\")"
      ]
    },
    {
      "cell_type": "code",
      "execution_count": null,
      "id": "b344fb55",
      "metadata": {
        "colab": {
          "base_uri": "https://localhost:8080/",
          "height": 238
        },
        "id": "b344fb55",
        "outputId": "f6e48464-c4e8-46d0-f9ef-62a558073e1a"
      },
      "outputs": [
        {
          "output_type": "execute_result",
          "data": {
            "text/plain": [
              "                 Open       High        Low      Close     Volume  Dividends  \\\n",
              "Date                                                                           \n",
              "2012-07-09  18.483653  18.746265  18.447315  18.745960  379405600        0.0   \n",
              "2012-07-10  18.870549  18.928569  18.483959  18.572515  511957600        0.0   \n",
              "2012-07-11  18.508698  18.555724  18.236925  18.457092  469322000        0.0   \n",
              "2012-07-12  18.329148  18.427780  18.098293  18.288229  428041600        0.0   \n",
              "2012-07-13  18.411897  18.541369  18.321814  18.473579  311427200        0.0   \n",
              "\n",
              "            Stock Splits  \n",
              "Date                      \n",
              "2012-07-09           0.0  \n",
              "2012-07-10           0.0  \n",
              "2012-07-11           0.0  \n",
              "2012-07-12           0.0  \n",
              "2012-07-13           0.0  "
            ],
            "text/html": [
              "\n",
              "  <div id=\"df-80f92785-9272-4a42-b98c-ffa2048f1f70\">\n",
              "    <div class=\"colab-df-container\">\n",
              "      <div>\n",
              "<style scoped>\n",
              "    .dataframe tbody tr th:only-of-type {\n",
              "        vertical-align: middle;\n",
              "    }\n",
              "\n",
              "    .dataframe tbody tr th {\n",
              "        vertical-align: top;\n",
              "    }\n",
              "\n",
              "    .dataframe thead th {\n",
              "        text-align: right;\n",
              "    }\n",
              "</style>\n",
              "<table border=\"1\" class=\"dataframe\">\n",
              "  <thead>\n",
              "    <tr style=\"text-align: right;\">\n",
              "      <th></th>\n",
              "      <th>Open</th>\n",
              "      <th>High</th>\n",
              "      <th>Low</th>\n",
              "      <th>Close</th>\n",
              "      <th>Volume</th>\n",
              "      <th>Dividends</th>\n",
              "      <th>Stock Splits</th>\n",
              "    </tr>\n",
              "    <tr>\n",
              "      <th>Date</th>\n",
              "      <th></th>\n",
              "      <th></th>\n",
              "      <th></th>\n",
              "      <th></th>\n",
              "      <th></th>\n",
              "      <th></th>\n",
              "      <th></th>\n",
              "    </tr>\n",
              "  </thead>\n",
              "  <tbody>\n",
              "    <tr>\n",
              "      <th>2012-07-09</th>\n",
              "      <td>18.483653</td>\n",
              "      <td>18.746265</td>\n",
              "      <td>18.447315</td>\n",
              "      <td>18.745960</td>\n",
              "      <td>379405600</td>\n",
              "      <td>0.0</td>\n",
              "      <td>0.0</td>\n",
              "    </tr>\n",
              "    <tr>\n",
              "      <th>2012-07-10</th>\n",
              "      <td>18.870549</td>\n",
              "      <td>18.928569</td>\n",
              "      <td>18.483959</td>\n",
              "      <td>18.572515</td>\n",
              "      <td>511957600</td>\n",
              "      <td>0.0</td>\n",
              "      <td>0.0</td>\n",
              "    </tr>\n",
              "    <tr>\n",
              "      <th>2012-07-11</th>\n",
              "      <td>18.508698</td>\n",
              "      <td>18.555724</td>\n",
              "      <td>18.236925</td>\n",
              "      <td>18.457092</td>\n",
              "      <td>469322000</td>\n",
              "      <td>0.0</td>\n",
              "      <td>0.0</td>\n",
              "    </tr>\n",
              "    <tr>\n",
              "      <th>2012-07-12</th>\n",
              "      <td>18.329148</td>\n",
              "      <td>18.427780</td>\n",
              "      <td>18.098293</td>\n",
              "      <td>18.288229</td>\n",
              "      <td>428041600</td>\n",
              "      <td>0.0</td>\n",
              "      <td>0.0</td>\n",
              "    </tr>\n",
              "    <tr>\n",
              "      <th>2012-07-13</th>\n",
              "      <td>18.411897</td>\n",
              "      <td>18.541369</td>\n",
              "      <td>18.321814</td>\n",
              "      <td>18.473579</td>\n",
              "      <td>311427200</td>\n",
              "      <td>0.0</td>\n",
              "      <td>0.0</td>\n",
              "    </tr>\n",
              "  </tbody>\n",
              "</table>\n",
              "</div>\n",
              "      <button class=\"colab-df-convert\" onclick=\"convertToInteractive('df-80f92785-9272-4a42-b98c-ffa2048f1f70')\"\n",
              "              title=\"Convert this dataframe to an interactive table.\"\n",
              "              style=\"display:none;\">\n",
              "        \n",
              "  <svg xmlns=\"http://www.w3.org/2000/svg\" height=\"24px\"viewBox=\"0 0 24 24\"\n",
              "       width=\"24px\">\n",
              "    <path d=\"M0 0h24v24H0V0z\" fill=\"none\"/>\n",
              "    <path d=\"M18.56 5.44l.94 2.06.94-2.06 2.06-.94-2.06-.94-.94-2.06-.94 2.06-2.06.94zm-11 1L8.5 8.5l.94-2.06 2.06-.94-2.06-.94L8.5 2.5l-.94 2.06-2.06.94zm10 10l.94 2.06.94-2.06 2.06-.94-2.06-.94-.94-2.06-.94 2.06-2.06.94z\"/><path d=\"M17.41 7.96l-1.37-1.37c-.4-.4-.92-.59-1.43-.59-.52 0-1.04.2-1.43.59L10.3 9.45l-7.72 7.72c-.78.78-.78 2.05 0 2.83L4 21.41c.39.39.9.59 1.41.59.51 0 1.02-.2 1.41-.59l7.78-7.78 2.81-2.81c.8-.78.8-2.07 0-2.86zM5.41 20L4 18.59l7.72-7.72 1.47 1.35L5.41 20z\"/>\n",
              "  </svg>\n",
              "      </button>\n",
              "      \n",
              "  <style>\n",
              "    .colab-df-container {\n",
              "      display:flex;\n",
              "      flex-wrap:wrap;\n",
              "      gap: 12px;\n",
              "    }\n",
              "\n",
              "    .colab-df-convert {\n",
              "      background-color: #E8F0FE;\n",
              "      border: none;\n",
              "      border-radius: 50%;\n",
              "      cursor: pointer;\n",
              "      display: none;\n",
              "      fill: #1967D2;\n",
              "      height: 32px;\n",
              "      padding: 0 0 0 0;\n",
              "      width: 32px;\n",
              "    }\n",
              "\n",
              "    .colab-df-convert:hover {\n",
              "      background-color: #E2EBFA;\n",
              "      box-shadow: 0px 1px 2px rgba(60, 64, 67, 0.3), 0px 1px 3px 1px rgba(60, 64, 67, 0.15);\n",
              "      fill: #174EA6;\n",
              "    }\n",
              "\n",
              "    [theme=dark] .colab-df-convert {\n",
              "      background-color: #3B4455;\n",
              "      fill: #D2E3FC;\n",
              "    }\n",
              "\n",
              "    [theme=dark] .colab-df-convert:hover {\n",
              "      background-color: #434B5C;\n",
              "      box-shadow: 0px 1px 3px 1px rgba(0, 0, 0, 0.15);\n",
              "      filter: drop-shadow(0px 1px 2px rgba(0, 0, 0, 0.3));\n",
              "      fill: #FFFFFF;\n",
              "    }\n",
              "  </style>\n",
              "\n",
              "      <script>\n",
              "        const buttonEl =\n",
              "          document.querySelector('#df-80f92785-9272-4a42-b98c-ffa2048f1f70 button.colab-df-convert');\n",
              "        buttonEl.style.display =\n",
              "          google.colab.kernel.accessAllowed ? 'block' : 'none';\n",
              "\n",
              "        async function convertToInteractive(key) {\n",
              "          const element = document.querySelector('#df-80f92785-9272-4a42-b98c-ffa2048f1f70');\n",
              "          const dataTable =\n",
              "            await google.colab.kernel.invokeFunction('convertToInteractive',\n",
              "                                                     [key], {});\n",
              "          if (!dataTable) return;\n",
              "\n",
              "          const docLinkHtml = 'Like what you see? Visit the ' +\n",
              "            '<a target=\"_blank\" href=https://colab.research.google.com/notebooks/data_table.ipynb>data table notebook</a>'\n",
              "            + ' to learn more about interactive tables.';\n",
              "          element.innerHTML = '';\n",
              "          dataTable['output_type'] = 'display_data';\n",
              "          await google.colab.output.renderOutput(dataTable, element);\n",
              "          const docLink = document.createElement('div');\n",
              "          docLink.innerHTML = docLinkHtml;\n",
              "          element.appendChild(docLink);\n",
              "        }\n",
              "      </script>\n",
              "    </div>\n",
              "  </div>\n",
              "  "
            ]
          },
          "metadata": {},
          "execution_count": 7
        }
      ],
      "source": [
        "apple.head()"
      ]
    },
    {
      "cell_type": "code",
      "execution_count": null,
      "id": "1054c8ac",
      "metadata": {
        "scrolled": true,
        "colab": {
          "base_uri": "https://localhost:8080/",
          "height": 238
        },
        "id": "1054c8ac",
        "outputId": "b22ba951-491e-4e25-ca6e-8e01f437712e"
      },
      "outputs": [
        {
          "output_type": "execute_result",
          "data": {
            "text/plain": [
              "                  Open        High         Low       Close    Volume  \\\n",
              "Date                                                                   \n",
              "2022-07-01  136.039993  139.039993  135.660004  138.929993  71007500   \n",
              "2022-07-05  137.770004  141.610001  136.929993  141.559998  73353800   \n",
              "2022-07-06  141.350006  144.119995  141.080002  142.919998  74064300   \n",
              "2022-07-07  143.289993  146.550003  143.279999  146.350006  66253700   \n",
              "2022-07-08  145.259995  147.550003  145.000000  147.039993  64493200   \n",
              "\n",
              "            Dividends  Stock Splits  \n",
              "Date                                 \n",
              "2022-07-01        0.0           0.0  \n",
              "2022-07-05        0.0           0.0  \n",
              "2022-07-06        0.0           0.0  \n",
              "2022-07-07        0.0           0.0  \n",
              "2022-07-08        0.0           0.0  "
            ],
            "text/html": [
              "\n",
              "  <div id=\"df-fa7d84a6-a80b-48a2-b627-e33a33b095cd\">\n",
              "    <div class=\"colab-df-container\">\n",
              "      <div>\n",
              "<style scoped>\n",
              "    .dataframe tbody tr th:only-of-type {\n",
              "        vertical-align: middle;\n",
              "    }\n",
              "\n",
              "    .dataframe tbody tr th {\n",
              "        vertical-align: top;\n",
              "    }\n",
              "\n",
              "    .dataframe thead th {\n",
              "        text-align: right;\n",
              "    }\n",
              "</style>\n",
              "<table border=\"1\" class=\"dataframe\">\n",
              "  <thead>\n",
              "    <tr style=\"text-align: right;\">\n",
              "      <th></th>\n",
              "      <th>Open</th>\n",
              "      <th>High</th>\n",
              "      <th>Low</th>\n",
              "      <th>Close</th>\n",
              "      <th>Volume</th>\n",
              "      <th>Dividends</th>\n",
              "      <th>Stock Splits</th>\n",
              "    </tr>\n",
              "    <tr>\n",
              "      <th>Date</th>\n",
              "      <th></th>\n",
              "      <th></th>\n",
              "      <th></th>\n",
              "      <th></th>\n",
              "      <th></th>\n",
              "      <th></th>\n",
              "      <th></th>\n",
              "    </tr>\n",
              "  </thead>\n",
              "  <tbody>\n",
              "    <tr>\n",
              "      <th>2022-07-01</th>\n",
              "      <td>136.039993</td>\n",
              "      <td>139.039993</td>\n",
              "      <td>135.660004</td>\n",
              "      <td>138.929993</td>\n",
              "      <td>71007500</td>\n",
              "      <td>0.0</td>\n",
              "      <td>0.0</td>\n",
              "    </tr>\n",
              "    <tr>\n",
              "      <th>2022-07-05</th>\n",
              "      <td>137.770004</td>\n",
              "      <td>141.610001</td>\n",
              "      <td>136.929993</td>\n",
              "      <td>141.559998</td>\n",
              "      <td>73353800</td>\n",
              "      <td>0.0</td>\n",
              "      <td>0.0</td>\n",
              "    </tr>\n",
              "    <tr>\n",
              "      <th>2022-07-06</th>\n",
              "      <td>141.350006</td>\n",
              "      <td>144.119995</td>\n",
              "      <td>141.080002</td>\n",
              "      <td>142.919998</td>\n",
              "      <td>74064300</td>\n",
              "      <td>0.0</td>\n",
              "      <td>0.0</td>\n",
              "    </tr>\n",
              "    <tr>\n",
              "      <th>2022-07-07</th>\n",
              "      <td>143.289993</td>\n",
              "      <td>146.550003</td>\n",
              "      <td>143.279999</td>\n",
              "      <td>146.350006</td>\n",
              "      <td>66253700</td>\n",
              "      <td>0.0</td>\n",
              "      <td>0.0</td>\n",
              "    </tr>\n",
              "    <tr>\n",
              "      <th>2022-07-08</th>\n",
              "      <td>145.259995</td>\n",
              "      <td>147.550003</td>\n",
              "      <td>145.000000</td>\n",
              "      <td>147.039993</td>\n",
              "      <td>64493200</td>\n",
              "      <td>0.0</td>\n",
              "      <td>0.0</td>\n",
              "    </tr>\n",
              "  </tbody>\n",
              "</table>\n",
              "</div>\n",
              "      <button class=\"colab-df-convert\" onclick=\"convertToInteractive('df-fa7d84a6-a80b-48a2-b627-e33a33b095cd')\"\n",
              "              title=\"Convert this dataframe to an interactive table.\"\n",
              "              style=\"display:none;\">\n",
              "        \n",
              "  <svg xmlns=\"http://www.w3.org/2000/svg\" height=\"24px\"viewBox=\"0 0 24 24\"\n",
              "       width=\"24px\">\n",
              "    <path d=\"M0 0h24v24H0V0z\" fill=\"none\"/>\n",
              "    <path d=\"M18.56 5.44l.94 2.06.94-2.06 2.06-.94-2.06-.94-.94-2.06-.94 2.06-2.06.94zm-11 1L8.5 8.5l.94-2.06 2.06-.94-2.06-.94L8.5 2.5l-.94 2.06-2.06.94zm10 10l.94 2.06.94-2.06 2.06-.94-2.06-.94-.94-2.06-.94 2.06-2.06.94z\"/><path d=\"M17.41 7.96l-1.37-1.37c-.4-.4-.92-.59-1.43-.59-.52 0-1.04.2-1.43.59L10.3 9.45l-7.72 7.72c-.78.78-.78 2.05 0 2.83L4 21.41c.39.39.9.59 1.41.59.51 0 1.02-.2 1.41-.59l7.78-7.78 2.81-2.81c.8-.78.8-2.07 0-2.86zM5.41 20L4 18.59l7.72-7.72 1.47 1.35L5.41 20z\"/>\n",
              "  </svg>\n",
              "      </button>\n",
              "      \n",
              "  <style>\n",
              "    .colab-df-container {\n",
              "      display:flex;\n",
              "      flex-wrap:wrap;\n",
              "      gap: 12px;\n",
              "    }\n",
              "\n",
              "    .colab-df-convert {\n",
              "      background-color: #E8F0FE;\n",
              "      border: none;\n",
              "      border-radius: 50%;\n",
              "      cursor: pointer;\n",
              "      display: none;\n",
              "      fill: #1967D2;\n",
              "      height: 32px;\n",
              "      padding: 0 0 0 0;\n",
              "      width: 32px;\n",
              "    }\n",
              "\n",
              "    .colab-df-convert:hover {\n",
              "      background-color: #E2EBFA;\n",
              "      box-shadow: 0px 1px 2px rgba(60, 64, 67, 0.3), 0px 1px 3px 1px rgba(60, 64, 67, 0.15);\n",
              "      fill: #174EA6;\n",
              "    }\n",
              "\n",
              "    [theme=dark] .colab-df-convert {\n",
              "      background-color: #3B4455;\n",
              "      fill: #D2E3FC;\n",
              "    }\n",
              "\n",
              "    [theme=dark] .colab-df-convert:hover {\n",
              "      background-color: #434B5C;\n",
              "      box-shadow: 0px 1px 3px 1px rgba(0, 0, 0, 0.15);\n",
              "      filter: drop-shadow(0px 1px 2px rgba(0, 0, 0, 0.3));\n",
              "      fill: #FFFFFF;\n",
              "    }\n",
              "  </style>\n",
              "\n",
              "      <script>\n",
              "        const buttonEl =\n",
              "          document.querySelector('#df-fa7d84a6-a80b-48a2-b627-e33a33b095cd button.colab-df-convert');\n",
              "        buttonEl.style.display =\n",
              "          google.colab.kernel.accessAllowed ? 'block' : 'none';\n",
              "\n",
              "        async function convertToInteractive(key) {\n",
              "          const element = document.querySelector('#df-fa7d84a6-a80b-48a2-b627-e33a33b095cd');\n",
              "          const dataTable =\n",
              "            await google.colab.kernel.invokeFunction('convertToInteractive',\n",
              "                                                     [key], {});\n",
              "          if (!dataTable) return;\n",
              "\n",
              "          const docLinkHtml = 'Like what you see? Visit the ' +\n",
              "            '<a target=\"_blank\" href=https://colab.research.google.com/notebooks/data_table.ipynb>data table notebook</a>'\n",
              "            + ' to learn more about interactive tables.';\n",
              "          element.innerHTML = '';\n",
              "          dataTable['output_type'] = 'display_data';\n",
              "          await google.colab.output.renderOutput(dataTable, element);\n",
              "          const docLink = document.createElement('div');\n",
              "          docLink.innerHTML = docLinkHtml;\n",
              "          element.appendChild(docLink);\n",
              "        }\n",
              "      </script>\n",
              "    </div>\n",
              "  </div>\n",
              "  "
            ]
          },
          "metadata": {},
          "execution_count": 8
        }
      ],
      "source": [
        "apple.tail()"
      ]
    },
    {
      "cell_type": "code",
      "execution_count": null,
      "id": "82bdd96a",
      "metadata": {
        "colab": {
          "base_uri": "https://localhost:8080/"
        },
        "id": "82bdd96a",
        "outputId": "8c5ae5b1-cbac-4d49-ecc5-5d3cc096299c"
      },
      "outputs": [
        {
          "output_type": "execute_result",
          "data": {
            "text/plain": [
              "pandas.core.frame.DataFrame"
            ]
          },
          "metadata": {},
          "execution_count": 9
        }
      ],
      "source": [
        "type(apple)"
      ]
    },
    {
      "cell_type": "code",
      "execution_count": null,
      "id": "6706177e",
      "metadata": {
        "id": "6706177e"
      },
      "outputs": [],
      "source": [
        "# note. yfinance 返回的值是将date作为默认索引列\n",
        "apple = apple.reset_index(level=\"Date\")"
      ]
    },
    {
      "cell_type": "code",
      "execution_count": null,
      "id": "4b4c9f71",
      "metadata": {
        "colab": {
          "base_uri": "https://localhost:8080/"
        },
        "id": "4b4c9f71",
        "outputId": "4106aadf-8cf1-44db-d3ec-897acdb658eb"
      },
      "outputs": [
        {
          "output_type": "execute_result",
          "data": {
            "text/plain": [
              "Index(['Date', 'Open', 'High', 'Low', 'Close', 'Volume', 'Dividends',\n",
              "       'Stock Splits'],\n",
              "      dtype='object')"
            ]
          },
          "metadata": {},
          "execution_count": 11
        }
      ],
      "source": [
        "apple.columns"
      ]
    },
    {
      "cell_type": "code",
      "execution_count": null,
      "id": "cc8ba142",
      "metadata": {
        "scrolled": false,
        "colab": {
          "base_uri": "https://localhost:8080/"
        },
        "id": "cc8ba142",
        "outputId": "93a6457e-a1a9-440f-8ee4-1f43ce07e996"
      },
      "outputs": [
        {
          "output_type": "execute_result",
          "data": {
            "text/plain": [
              "Date            datetime64[ns]\n",
              "Open                   float64\n",
              "High                   float64\n",
              "Low                    float64\n",
              "Close                  float64\n",
              "Volume                   int64\n",
              "Dividends              float64\n",
              "Stock Splits           float64\n",
              "dtype: object"
            ]
          },
          "metadata": {},
          "execution_count": 12
        }
      ],
      "source": [
        "apple.dtypes"
      ]
    },
    {
      "cell_type": "markdown",
      "id": "5baba2e1",
      "metadata": {
        "id": "5baba2e1"
      },
      "source": [
        "## 3.0 Plot the ticker's price using matplotlib"
      ]
    },
    {
      "cell_type": "markdown",
      "id": "4346671a",
      "metadata": {
        "id": "4346671a"
      },
      "source": [
        "find matplotlib documentation on https://matplotlib.org/stable/index.html"
      ]
    },
    {
      "cell_type": "code",
      "execution_count": null,
      "id": "a0657edf",
      "metadata": {
        "colab": {
          "base_uri": "https://localhost:8080/",
          "height": 279
        },
        "id": "a0657edf",
        "outputId": "1ce95058-7f2e-4ad4-c20d-480d0926c6e1"
      },
      "outputs": [
        {
          "output_type": "display_data",
          "data": {
            "text/plain": [
              "<Figure size 432x288 with 1 Axes>"
            ],
            "image/png": "[encoded data removed]"
          },
          "metadata": {
            "needs_background": "light"
          }
        }
      ],
      "source": [
        "plt.plot(apple[\"Date\"], apple[\"Close\"])\n",
        "plt.xlabel(\"Date\")\n",
        "plt.ylabel(\"Price\")\n",
        "plt.show()"
      ]
    },
    {
      "cell_type": "markdown",
      "id": "e133bb57",
      "metadata": {
        "id": "e133bb57"
      },
      "source": [
        "## 4.0 Data Management"
      ]
    },
    {
      "cell_type": "markdown",
      "id": "280ae5ea",
      "metadata": {
        "id": "280ae5ea"
      },
      "source": [
        "### 4.1 Change data frame to use prices n days before to predict the target day's"
      ]
    },
    {
      "cell_type": "markdown",
      "id": "fd30ad95",
      "metadata": {
        "id": "fd30ad95"
      },
      "source": [
        "Since we only care about the close price and the date, so we will remove all other variables.\n",
        "In lstm we use the previous 3 days to predict the 4th day's price, thus the final sheet will be like  \n",
        "[index, target-date, target-3, target-2,target-1, target]"
      ]
    },
    {
      "cell_type": "code",
      "execution_count": null,
      "id": "c49b0fb1",
      "metadata": {
        "id": "c49b0fb1"
      },
      "outputs": [],
      "source": [
        "apple = apple[[\"Date\", \"Close\"]]"
      ]
    },
    {
      "cell_type": "code",
      "execution_count": null,
      "id": "6610f8c7",
      "metadata": {
        "colab": {
          "base_uri": "https://localhost:8080/",
          "height": 206
        },
        "id": "6610f8c7",
        "outputId": "b7a95607-e3e8-4f64-90f1-ecdea53794ec"
      },
      "outputs": [
        {
          "output_type": "execute_result",
          "data": {
            "text/plain": [
              "           Date       Close\n",
              "2512 2022-07-01  138.929993\n",
              "2513 2022-07-05  141.559998\n",
              "2514 2022-07-06  142.919998\n",
              "2515 2022-07-07  146.350006\n",
              "2516 2022-07-08  147.039993"
            ],
            "text/html": [
              "\n",
              "  <div id=\"df-ea78b27a-0bca-46c3-bff6-3bebace7f694\">\n",
              "    <div class=\"colab-df-container\">\n",
              "      <div>\n",
              "<style scoped>\n",
              "    .dataframe tbody tr th:only-of-type {\n",
              "        vertical-align: middle;\n",
              "    }\n",
              "\n",
              "    .dataframe tbody tr th {\n",
              "        vertical-align: top;\n",
              "    }\n",
              "\n",
              "    .dataframe thead th {\n",
              "        text-align: right;\n",
              "    }\n",
              "</style>\n",
              "<table border=\"1\" class=\"dataframe\">\n",
              "  <thead>\n",
              "    <tr style=\"text-align: right;\">\n",
              "      <th></th>\n",
              "      <th>Date</th>\n",
              "      <th>Close</th>\n",
              "    </tr>\n",
              "  </thead>\n",
              "  <tbody>\n",
              "    <tr>\n",
              "      <th>2512</th>\n",
              "      <td>2022-07-01</td>\n",
              "      <td>138.929993</td>\n",
              "    </tr>\n",
              "    <tr>\n",
              "      <th>2513</th>\n",
              "      <td>2022-07-05</td>\n",
              "      <td>141.559998</td>\n",
              "    </tr>\n",
              "    <tr>\n",
              "      <th>2514</th>\n",
              "      <td>2022-07-06</td>\n",
              "      <td>142.919998</td>\n",
              "    </tr>\n",
              "    <tr>\n",
              "      <th>2515</th>\n",
              "      <td>2022-07-07</td>\n",
              "      <td>146.350006</td>\n",
              "    </tr>\n",
              "    <tr>\n",
              "      <th>2516</th>\n",
              "      <td>2022-07-08</td>\n",
              "      <td>147.039993</td>\n",
              "    </tr>\n",
              "  </tbody>\n",
              "</table>\n",
              "</div>\n",
              "      <button class=\"colab-df-convert\" onclick=\"convertToInteractive('df-ea78b27a-0bca-46c3-bff6-3bebace7f694')\"\n",
              "              title=\"Convert this dataframe to an interactive table.\"\n",
              "              style=\"display:none;\">\n",
              "        \n",
              "  <svg xmlns=\"http://www.w3.org/2000/svg\" height=\"24px\"viewBox=\"0 0 24 24\"\n",
              "       width=\"24px\">\n",
              "    <path d=\"M0 0h24v24H0V0z\" fill=\"none\"/>\n",
              "    <path d=\"M18.56 5.44l.94 2.06.94-2.06 2.06-.94-2.06-.94-.94-2.06-.94 2.06-2.06.94zm-11 1L8.5 8.5l.94-2.06 2.06-.94-2.06-.94L8.5 2.5l-.94 2.06-2.06.94zm10 10l.94 2.06.94-2.06 2.06-.94-2.06-.94-.94-2.06-.94 2.06-2.06.94z\"/><path d=\"M17.41 7.96l-1.37-1.37c-.4-.4-.92-.59-1.43-.59-.52 0-1.04.2-1.43.59L10.3 9.45l-7.72 7.72c-.78.78-.78 2.05 0 2.83L4 21.41c.39.39.9.59 1.41.59.51 0 1.02-.2 1.41-.59l7.78-7.78 2.81-2.81c.8-.78.8-2.07 0-2.86zM5.41 20L4 18.59l7.72-7.72 1.47 1.35L5.41 20z\"/>\n",
              "  </svg>\n",
              "      </button>\n",
              "      \n",
              "  <style>\n",
              "    .colab-df-container {\n",
              "      display:flex;\n",
              "      flex-wrap:wrap;\n",
              "      gap: 12px;\n",
              "    }\n",
              "\n",
              "    .colab-df-convert {\n",
              "      background-color: #E8F0FE;\n",
              "      border: none;\n",
              "      border-radius: 50%;\n",
              "      cursor: pointer;\n",
              "      display: none;\n",
              "      fill: #1967D2;\n",
              "      height: 32px;\n",
              "      padding: 0 0 0 0;\n",
              "      width: 32px;\n",
              "    }\n",
              "\n",
              "    .colab-df-convert:hover {\n",
              "      background-color: #E2EBFA;\n",
              "      box-shadow: 0px 1px 2px rgba(60, 64, 67, 0.3), 0px 1px 3px 1px rgba(60, 64, 67, 0.15);\n",
              "      fill: #174EA6;\n",
              "    }\n",
              "\n",
              "    [theme=dark] .colab-df-convert {\n",
              "      background-color: #3B4455;\n",
              "      fill: #D2E3FC;\n",
              "    }\n",
              "\n",
              "    [theme=dark] .colab-df-convert:hover {\n",
              "      background-color: #434B5C;\n",
              "      box-shadow: 0px 1px 3px 1px rgba(0, 0, 0, 0.15);\n",
              "      filter: drop-shadow(0px 1px 2px rgba(0, 0, 0, 0.3));\n",
              "      fill: #FFFFFF;\n",
              "    }\n",
              "  </style>\n",
              "\n",
              "      <script>\n",
              "        const buttonEl =\n",
              "          document.querySelector('#df-ea78b27a-0bca-46c3-bff6-3bebace7f694 button.colab-df-convert');\n",
              "        buttonEl.style.display =\n",
              "          google.colab.kernel.accessAllowed ? 'block' : 'none';\n",
              "\n",
              "        async function convertToInteractive(key) {\n",
              "          const element = document.querySelector('#df-ea78b27a-0bca-46c3-bff6-3bebace7f694');\n",
              "          const dataTable =\n",
              "            await google.colab.kernel.invokeFunction('convertToInteractive',\n",
              "                                                     [key], {});\n",
              "          if (!dataTable) return;\n",
              "\n",
              "          const docLinkHtml = 'Like what you see? Visit the ' +\n",
              "            '<a target=\"_blank\" href=https://colab.research.google.com/notebooks/data_table.ipynb>data table notebook</a>'\n",
              "            + ' to learn more about interactive tables.';\n",
              "          element.innerHTML = '';\n",
              "          dataTable['output_type'] = 'display_data';\n",
              "          await google.colab.output.renderOutput(dataTable, element);\n",
              "          const docLink = document.createElement('div');\n",
              "          docLink.innerHTML = docLinkHtml;\n",
              "          element.appendChild(docLink);\n",
              "        }\n",
              "      </script>\n",
              "    </div>\n",
              "  </div>\n",
              "  "
            ]
          },
          "metadata": {},
          "execution_count": 15
        }
      ],
      "source": [
        "apple.tail()"
      ]
    },
    {
      "cell_type": "code",
      "execution_count": null,
      "id": "dab4d1aa",
      "metadata": {
        "id": "dab4d1aa"
      },
      "outputs": [],
      "source": [
        "def target_df(df, days):\n",
        "    \"\"\"\n",
        "    这个函数的作用是对于任意传入的dataframe, 按照自定义的天数re-scale成我们需要的表格，类似\n",
        "    [index, target-date, target-3, target-2,target-1, target]\n",
        "    对于任意天数days，前n天的范围就是 range(1, days)即1 to days-1\n",
        "    \"\"\"\n",
        "    target = []\n",
        "    # 生成column name 对应Target-3, Target-2， Target-1\n",
        "    for i in df.index:\n",
        "        if (i+1) >= days:\n",
        "            target_unit = {}\n",
        "            target_unit[\"Date\"] = df.iloc[i,0]\n",
        "            target_unit[\"Target\"] = df.iloc[i,1]\n",
        "            for n in range(1, days):\n",
        "                name = \"Target-\" + str(n)\n",
        "                target_unit[name] = df.iloc[i-n, 1]\n",
        "            target.append(target_unit)\n",
        "    data_set = pd.DataFrame(target)\n",
        "    return data_set"
      ]
    },
    {
      "cell_type": "code",
      "execution_count": null,
      "id": "632a318b",
      "metadata": {
        "id": "632a318b"
      },
      "outputs": [],
      "source": [
        "dataset = target_df(apple, 4)"
      ]
    },
    {
      "cell_type": "code",
      "execution_count": null,
      "id": "89c62c37",
      "metadata": {
        "colab": {
          "base_uri": "https://localhost:8080/",
          "height": 206
        },
        "id": "89c62c37",
        "outputId": "8e8522dc-1be3-42fd-b85d-75f9c74050c9"
      },
      "outputs": [
        {
          "output_type": "execute_result",
          "data": {
            "text/plain": [
              "           Date      Target    Target-1    Target-2    Target-3\n",
              "2509 2022-07-01  138.929993  136.720001  139.229996  137.440002\n",
              "2510 2022-07-05  141.559998  138.929993  136.720001  139.229996\n",
              "2511 2022-07-06  142.919998  141.559998  138.929993  136.720001\n",
              "2512 2022-07-07  146.350006  142.919998  141.559998  138.929993\n",
              "2513 2022-07-08  147.039993  146.350006  142.919998  141.559998"
            ],
            "text/html": [
              "\n",
              "  <div id=\"df-b09cc9ca-b5a0-4d78-97c2-d5f181f1bea3\">\n",
              "    <div class=\"colab-df-container\">\n",
              "      <div>\n",
              "<style scoped>\n",
              "    .dataframe tbody tr th:only-of-type {\n",
              "        vertical-align: middle;\n",
              "    }\n",
              "\n",
              "    .dataframe tbody tr th {\n",
              "        vertical-align: top;\n",
              "    }\n",
              "\n",
              "    .dataframe thead th {\n",
              "        text-align: right;\n",
              "    }\n",
              "</style>\n",
              "<table border=\"1\" class=\"dataframe\">\n",
              "  <thead>\n",
              "    <tr style=\"text-align: right;\">\n",
              "      <th></th>\n",
              "      <th>Date</th>\n",
              "      <th>Target</th>\n",
              "      <th>Target-1</th>\n",
              "      <th>Target-2</th>\n",
              "      <th>Target-3</th>\n",
              "    </tr>\n",
              "  </thead>\n",
              "  <tbody>\n",
              "    <tr>\n",
              "      <th>2509</th>\n",
              "      <td>2022-07-01</td>\n",
              "      <td>138.929993</td>\n",
              "      <td>136.720001</td>\n",
              "      <td>139.229996</td>\n",
              "      <td>137.440002</td>\n",
              "    </tr>\n",
              "    <tr>\n",
              "      <th>2510</th>\n",
              "      <td>2022-07-05</td>\n",
              "      <td>141.559998</td>\n",
              "      <td>138.929993</td>\n",
              "      <td>136.720001</td>\n",
              "      <td>139.229996</td>\n",
              "    </tr>\n",
              "    <tr>\n",
              "      <th>2511</th>\n",
              "      <td>2022-07-06</td>\n",
              "      <td>142.919998</td>\n",
              "      <td>141.559998</td>\n",
              "      <td>138.929993</td>\n",
              "      <td>136.720001</td>\n",
              "    </tr>\n",
              "    <tr>\n",
              "      <th>2512</th>\n",
              "      <td>2022-07-07</td>\n",
              "      <td>146.350006</td>\n",
              "      <td>142.919998</td>\n",
              "      <td>141.559998</td>\n",
              "      <td>138.929993</td>\n",
              "    </tr>\n",
              "    <tr>\n",
              "      <th>2513</th>\n",
              "      <td>2022-07-08</td>\n",
              "      <td>147.039993</td>\n",
              "      <td>146.350006</td>\n",
              "      <td>142.919998</td>\n",
              "      <td>141.559998</td>\n",
              "    </tr>\n",
              "  </tbody>\n",
              "</table>\n",
              "</div>\n",
              "      <button class=\"colab-df-convert\" onclick=\"convertToInteractive('df-b09cc9ca-b5a0-4d78-97c2-d5f181f1bea3')\"\n",
              "              title=\"Convert this dataframe to an interactive table.\"\n",
              "              style=\"display:none;\">\n",
              "        \n",
              "  <svg xmlns=\"http://www.w3.org/2000/svg\" height=\"24px\"viewBox=\"0 0 24 24\"\n",
              "       width=\"24px\">\n",
              "    <path d=\"M0 0h24v24H0V0z\" fill=\"none\"/>\n",
              "    <path d=\"M18.56 5.44l.94 2.06.94-2.06 2.06-.94-2.06-.94-.94-2.06-.94 2.06-2.06.94zm-11 1L8.5 8.5l.94-2.06 2.06-.94-2.06-.94L8.5 2.5l-.94 2.06-2.06.94zm10 10l.94 2.06.94-2.06 2.06-.94-2.06-.94-.94-2.06-.94 2.06-2.06.94z\"/><path d=\"M17.41 7.96l-1.37-1.37c-.4-.4-.92-.59-1.43-.59-.52 0-1.04.2-1.43.59L10.3 9.45l-7.72 7.72c-.78.78-.78 2.05 0 2.83L4 21.41c.39.39.9.59 1.41.59.51 0 1.02-.2 1.41-.59l7.78-7.78 2.81-2.81c.8-.78.8-2.07 0-2.86zM5.41 20L4 18.59l7.72-7.72 1.47 1.35L5.41 20z\"/>\n",
              "  </svg>\n",
              "      </button>\n",
              "      \n",
              "  <style>\n",
              "    .colab-df-container {\n",
              "      display:flex;\n",
              "      flex-wrap:wrap;\n",
              "      gap: 12px;\n",
              "    }\n",
              "\n",
              "    .colab-df-convert {\n",
              "      background-color: #E8F0FE;\n",
              "      border: none;\n",
              "      border-radius: 50%;\n",
              "      cursor: pointer;\n",
              "      display: none;\n",
              "      fill: #1967D2;\n",
              "      height: 32px;\n",
              "      padding: 0 0 0 0;\n",
              "      width: 32px;\n",
              "    }\n",
              "\n",
              "    .colab-df-convert:hover {\n",
              "      background-color: #E2EBFA;\n",
              "      box-shadow: 0px 1px 2px rgba(60, 64, 67, 0.3), 0px 1px 3px 1px rgba(60, 64, 67, 0.15);\n",
              "      fill: #174EA6;\n",
              "    }\n",
              "\n",
              "    [theme=dark] .colab-df-convert {\n",
              "      background-color: #3B4455;\n",
              "      fill: #D2E3FC;\n",
              "    }\n",
              "\n",
              "    [theme=dark] .colab-df-convert:hover {\n",
              "      background-color: #434B5C;\n",
              "      box-shadow: 0px 1px 3px 1px rgba(0, 0, 0, 0.15);\n",
              "      filter: drop-shadow(0px 1px 2px rgba(0, 0, 0, 0.3));\n",
              "      fill: #FFFFFF;\n",
              "    }\n",
              "  </style>\n",
              "\n",
              "      <script>\n",
              "        const buttonEl =\n",
              "          document.querySelector('#df-b09cc9ca-b5a0-4d78-97c2-d5f181f1bea3 button.colab-df-convert');\n",
              "        buttonEl.style.display =\n",
              "          google.colab.kernel.accessAllowed ? 'block' : 'none';\n",
              "\n",
              "        async function convertToInteractive(key) {\n",
              "          const element = document.querySelector('#df-b09cc9ca-b5a0-4d78-97c2-d5f181f1bea3');\n",
              "          const dataTable =\n",
              "            await google.colab.kernel.invokeFunction('convertToInteractive',\n",
              "                                                     [key], {});\n",
              "          if (!dataTable) return;\n",
              "\n",
              "          const docLinkHtml = 'Like what you see? Visit the ' +\n",
              "            '<a target=\"_blank\" href=https://colab.research.google.com/notebooks/data_table.ipynb>data table notebook</a>'\n",
              "            + ' to learn more about interactive tables.';\n",
              "          element.innerHTML = '';\n",
              "          dataTable['output_type'] = 'display_data';\n",
              "          await google.colab.output.renderOutput(dataTable, element);\n",
              "          const docLink = document.createElement('div');\n",
              "          docLink.innerHTML = docLinkHtml;\n",
              "          element.appendChild(docLink);\n",
              "        }\n",
              "      </script>\n",
              "    </div>\n",
              "  </div>\n",
              "  "
            ]
          },
          "metadata": {},
          "execution_count": 18
        }
      ],
      "source": [
        "dataset.tail()"
      ]
    },
    {
      "cell_type": "code",
      "execution_count": null,
      "id": "a5b64ddc",
      "metadata": {
        "scrolled": true,
        "colab": {
          "base_uri": "https://localhost:8080/",
          "height": 206
        },
        "id": "a5b64ddc",
        "outputId": "bbb0665f-d0a8-46dc-814a-cca83f96a23c"
      },
      "outputs": [
        {
          "output_type": "execute_result",
          "data": {
            "text/plain": [
              "        Date   Target-3   Target-2   Target-1     Target\n",
              "0 2012-07-12  18.745960  18.572515  18.457092  18.288229\n",
              "1 2012-07-13  18.572515  18.457092  18.288229  18.473579\n",
              "2 2012-07-16  18.457092  18.288229  18.473579  18.532820\n",
              "3 2012-07-17  18.288229  18.473579  18.532820  18.533733\n",
              "4 2012-07-18  18.473579  18.532820  18.533733  18.512966"
            ],
            "text/html": [
              "\n",
              "  <div id=\"df-564293da-043e-44ac-87bf-6c4c7288c84b\">\n",
              "    <div class=\"colab-df-container\">\n",
              "      <div>\n",
              "<style scoped>\n",
              "    .dataframe tbody tr th:only-of-type {\n",
              "        vertical-align: middle;\n",
              "    }\n",
              "\n",
              "    .dataframe tbody tr th {\n",
              "        vertical-align: top;\n",
              "    }\n",
              "\n",
              "    .dataframe thead th {\n",
              "        text-align: right;\n",
              "    }\n",
              "</style>\n",
              "<table border=\"1\" class=\"dataframe\">\n",
              "  <thead>\n",
              "    <tr style=\"text-align: right;\">\n",
              "      <th></th>\n",
              "      <th>Date</th>\n",
              "      <th>Target-3</th>\n",
              "      <th>Target-2</th>\n",
              "      <th>Target-1</th>\n",
              "      <th>Target</th>\n",
              "    </tr>\n",
              "  </thead>\n",
              "  <tbody>\n",
              "    <tr>\n",
              "      <th>0</th>\n",
              "      <td>2012-07-12</td>\n",
              "      <td>18.745960</td>\n",
              "      <td>18.572515</td>\n",
              "      <td>18.457092</td>\n",
              "      <td>18.288229</td>\n",
              "    </tr>\n",
              "    <tr>\n",
              "      <th>1</th>\n",
              "      <td>2012-07-13</td>\n",
              "      <td>18.572515</td>\n",
              "      <td>18.457092</td>\n",
              "      <td>18.288229</td>\n",
              "      <td>18.473579</td>\n",
              "    </tr>\n",
              "    <tr>\n",
              "      <th>2</th>\n",
              "      <td>2012-07-16</td>\n",
              "      <td>18.457092</td>\n",
              "      <td>18.288229</td>\n",
              "      <td>18.473579</td>\n",
              "      <td>18.532820</td>\n",
              "    </tr>\n",
              "    <tr>\n",
              "      <th>3</th>\n",
              "      <td>2012-07-17</td>\n",
              "      <td>18.288229</td>\n",
              "      <td>18.473579</td>\n",
              "      <td>18.532820</td>\n",
              "      <td>18.533733</td>\n",
              "    </tr>\n",
              "    <tr>\n",
              "      <th>4</th>\n",
              "      <td>2012-07-18</td>\n",
              "      <td>18.473579</td>\n",
              "      <td>18.532820</td>\n",
              "      <td>18.533733</td>\n",
              "      <td>18.512966</td>\n",
              "    </tr>\n",
              "  </tbody>\n",
              "</table>\n",
              "</div>\n",
              "      <button class=\"colab-df-convert\" onclick=\"convertToInteractive('df-564293da-043e-44ac-87bf-6c4c7288c84b')\"\n",
              "              title=\"Convert this dataframe to an interactive table.\"\n",
              "              style=\"display:none;\">\n",
              "        \n",
              "  <svg xmlns=\"http://www.w3.org/2000/svg\" height=\"24px\"viewBox=\"0 0 24 24\"\n",
              "       width=\"24px\">\n",
              "    <path d=\"M0 0h24v24H0V0z\" fill=\"none\"/>\n",
              "    <path d=\"M18.56 5.44l.94 2.06.94-2.06 2.06-.94-2.06-.94-.94-2.06-.94 2.06-2.06.94zm-11 1L8.5 8.5l.94-2.06 2.06-.94-2.06-.94L8.5 2.5l-.94 2.06-2.06.94zm10 10l.94 2.06.94-2.06 2.06-.94-2.06-.94-.94-2.06-.94 2.06-2.06.94z\"/><path d=\"M17.41 7.96l-1.37-1.37c-.4-.4-.92-.59-1.43-.59-.52 0-1.04.2-1.43.59L10.3 9.45l-7.72 7.72c-.78.78-.78 2.05 0 2.83L4 21.41c.39.39.9.59 1.41.59.51 0 1.02-.2 1.41-.59l7.78-7.78 2.81-2.81c.8-.78.8-2.07 0-2.86zM5.41 20L4 18.59l7.72-7.72 1.47 1.35L5.41 20z\"/>\n",
              "  </svg>\n",
              "      </button>\n",
              "      \n",
              "  <style>\n",
              "    .colab-df-container {\n",
              "      display:flex;\n",
              "      flex-wrap:wrap;\n",
              "      gap: 12px;\n",
              "    }\n",
              "\n",
              "    .colab-df-convert {\n",
              "      background-color: #E8F0FE;\n",
              "      border: none;\n",
              "      border-radius: 50%;\n",
              "      cursor: pointer;\n",
              "      display: none;\n",
              "      fill: #1967D2;\n",
              "      height: 32px;\n",
              "      padding: 0 0 0 0;\n",
              "      width: 32px;\n",
              "    }\n",
              "\n",
              "    .colab-df-convert:hover {\n",
              "      background-color: #E2EBFA;\n",
              "      box-shadow: 0px 1px 2px rgba(60, 64, 67, 0.3), 0px 1px 3px 1px rgba(60, 64, 67, 0.15);\n",
              "      fill: #174EA6;\n",
              "    }\n",
              "\n",
              "    [theme=dark] .colab-df-convert {\n",
              "      background-color: #3B4455;\n",
              "      fill: #D2E3FC;\n",
              "    }\n",
              "\n",
              "    [theme=dark] .colab-df-convert:hover {\n",
              "      background-color: #434B5C;\n",
              "      box-shadow: 0px 1px 3px 1px rgba(0, 0, 0, 0.15);\n",
              "      filter: drop-shadow(0px 1px 2px rgba(0, 0, 0, 0.3));\n",
              "      fill: #FFFFFF;\n",
              "    }\n",
              "  </style>\n",
              "\n",
              "      <script>\n",
              "        const buttonEl =\n",
              "          document.querySelector('#df-564293da-043e-44ac-87bf-6c4c7288c84b button.colab-df-convert');\n",
              "        buttonEl.style.display =\n",
              "          google.colab.kernel.accessAllowed ? 'block' : 'none';\n",
              "\n",
              "        async function convertToInteractive(key) {\n",
              "          const element = document.querySelector('#df-564293da-043e-44ac-87bf-6c4c7288c84b');\n",
              "          const dataTable =\n",
              "            await google.colab.kernel.invokeFunction('convertToInteractive',\n",
              "                                                     [key], {});\n",
              "          if (!dataTable) return;\n",
              "\n",
              "          const docLinkHtml = 'Like what you see? Visit the ' +\n",
              "            '<a target=\"_blank\" href=https://colab.research.google.com/notebooks/data_table.ipynb>data table notebook</a>'\n",
              "            + ' to learn more about interactive tables.';\n",
              "          element.innerHTML = '';\n",
              "          dataTable['output_type'] = 'display_data';\n",
              "          await google.colab.output.renderOutput(dataTable, element);\n",
              "          const docLink = document.createElement('div');\n",
              "          docLink.innerHTML = docLinkHtml;\n",
              "          element.appendChild(docLink);\n",
              "        }\n",
              "      </script>\n",
              "    </div>\n",
              "  </div>\n",
              "  "
            ]
          },
          "metadata": {},
          "execution_count": 19
        }
      ],
      "source": [
        "dataset_ready = dataset.iloc[:,[0,4,3,2,1]]\n",
        "dataset_ready.head()"
      ]
    },
    {
      "cell_type": "code",
      "execution_count": null,
      "id": "20796eec",
      "metadata": {
        "colab": {
          "base_uri": "https://localhost:8080/"
        },
        "id": "20796eec",
        "outputId": "fdc5e69d-6193-40bb-8b41-32d187847992"
      },
      "outputs": [
        {
          "output_type": "execute_result",
          "data": {
            "text/plain": [
              "(2514, 5)"
            ]
          },
          "metadata": {},
          "execution_count": 20
        }
      ],
      "source": [
        "dataset_ready.shape"
      ]
    },
    {
      "cell_type": "markdown",
      "id": "a9dbcdf5",
      "metadata": {
        "id": "a9dbcdf5"
      },
      "source": [
        "### 4.2 Change the cleaned df to numpy.array"
      ]
    },
    {
      "cell_type": "code",
      "execution_count": null,
      "id": "a1efd849",
      "metadata": {
        "id": "a1efd849"
      },
      "outputs": [],
      "source": [
        "# define a function to change any pandas's dataframe into numpy array\n",
        "def df_to_tensor(df):\n",
        "    df_as_np = df.to_numpy()\n",
        "    \n",
        "    dates = df_as_np[:, 0]\n",
        "    middle_matrix = df_as_np[:, 1:-1]\n",
        "    # need to transpose the target-3 2 1\n",
        "    X = middle_matrix.reshape((len(dates), middle_matrix.shape[1],1))\n",
        "    \n",
        "    Y = df_as_np[:, -1]\n",
        "    \n",
        "    return dates, X.astype(np.float32), Y.astype(np.float32)"
      ]
    },
    {
      "cell_type": "code",
      "execution_count": null,
      "id": "fa72800e",
      "metadata": {
        "id": "fa72800e"
      },
      "outputs": [],
      "source": [
        "dates, X, y = df_to_tensor(dataset_ready)"
      ]
    },
    {
      "cell_type": "code",
      "execution_count": null,
      "id": "56d648c8",
      "metadata": {
        "colab": {
          "base_uri": "https://localhost:8080/"
        },
        "id": "56d648c8",
        "outputId": "1ac2b2d1-32fe-4f02-b8f8-7638fcb258d2"
      },
      "outputs": [
        {
          "output_type": "execute_result",
          "data": {
            "text/plain": [
              "((2514,), (2514, 3, 1), (2514,))"
            ]
          },
          "metadata": {},
          "execution_count": 23
        }
      ],
      "source": [
        "# 其中X.shape中our input matrix is 3*1 means we are looking for 3 steps in the past for only one type of variable!\n",
        "dates.shape, X.shape, y.shape"
      ]
    },
    {
      "cell_type": "markdown",
      "id": "1e100752",
      "metadata": {
        "id": "1e100752"
      },
      "source": [
        "## 5.0 Split the original data into train, validate, and test dataset"
      ]
    },
    {
      "cell_type": "code",
      "execution_count": null,
      "id": "1d74d2f3",
      "metadata": {
        "id": "1d74d2f3"
      },
      "outputs": [],
      "source": [
        "# use the first 80% as training dataset. 80~90% as validating, the last 10% as test\n",
        "q_80 = int(len(dates)* 0.8)\n",
        "q_90 = int(len(dates)* 0.9)\n",
        "\n",
        "dates_train, X_train, y_train = dates[:q_80], X[:q_80], y[:q_80]\n",
        "dates_val, X_val, y_val = dates[q_80:q_90], X[q_80:q_90], y[q_80:q_90]\n",
        "dates_test, X_test, y_test = dates[q_90:], X[q_90:], y[q_90:]"
      ]
    },
    {
      "cell_type": "code",
      "execution_count": null,
      "id": "2184e052",
      "metadata": {
        "colab": {
          "base_uri": "https://localhost:8080/",
          "height": 283
        },
        "id": "2184e052",
        "outputId": "80b3c960-f87a-4e44-bbd3-cc350c5e03f0"
      },
      "outputs": [
        {
          "output_type": "execute_result",
          "data": {
            "text/plain": [
              "<matplotlib.legend.Legend at 0x7fa0d5044310>"
            ]
          },
          "metadata": {},
          "execution_count": 25
        },
        {
          "output_type": "display_data",
          "data": {
            "text/plain": [
              "<Figure size 432x288 with 1 Axes>"
            ],
            "image/png": "[encoded data removed]"
          },
          "metadata": {
            "needs_background": "light"
          }
        }
      ],
      "source": [
        "# visualize these 3 datasets\n",
        "plt.plot(dates_train, y_train)\n",
        "plt.plot(dates_val, y_val)\n",
        "plt.plot(dates_test, y_test)\n",
        "plt.legend([\"Train\",\"Validation\",\"Test\"])"
      ]
    },
    {
      "cell_type": "markdown",
      "source": [
        "# Stage 2. Build the LSTM Neural Networks!"
      ],
      "metadata": {
        "id": "gldZWBeYBv3a"
      },
      "id": "gldZWBeYBv3a"
    },
    {
      "cell_type": "markdown",
      "source": [
        "## 6.0 Import the modules"
      ],
      "metadata": {
        "id": "eGhlX8d3B3yX"
      },
      "id": "eGhlX8d3B3yX"
    },
    {
      "cell_type": "code",
      "source": [
        "from keras.models import Sequential\n",
        "from tensorflow.keras.optimizers import Adam\n",
        "from keras import layers"
      ],
      "metadata": {
        "id": "jc7Awf4eB7fV"
      },
      "id": "jc7Awf4eB7fV",
      "execution_count": null,
      "outputs": []
    },
    {
      "cell_type": "code",
      "source": [
        "model = Sequential()\n",
        "model.add(layers.Input(shape = (3,1)))\n",
        "model.add(layers.LSTM(64))\n",
        "model.add(layers.Dense(32, activation = 'relu'))\n",
        "model.add(layers.Dense(32, activation = 'relu'))\n",
        "model.add(layers.Dense(1))\n",
        "\n",
        "model.compile(loss=\"mse\", optimizer = Adam(learning_rate = 0.001), metrics = [\"mean_absolute_error\"])\n",
        "model.fit(X_train, y_train, validation_data = (X_val, y_val), epochs=200)"
      ],
      "metadata": {
        "colab": {
          "base_uri": "https://localhost:8080/"
        },
        "id": "0L_-FHOLCMkV",
        "outputId": "0e78ada9-3664-4c78-86ca-c7f51c738ee4"
      },
      "id": "0L_-FHOLCMkV",
      "execution_count": null,
      "outputs": [
        {
          "output_type": "stream",
          "name": "stdout",
          "text": [
            "Epoch 1/200\n",
            "63/63 [==============================] - 2s 11ms/step - loss: 1133.2074 - mean_absolute_error: 28.5416 - val_loss: 11884.8857 - val_mean_absolute_error: 108.4750\n",
            "Epoch 2/200\n",
            "63/63 [==============================] - 0s 4ms/step - loss: 268.2664 - mean_absolute_error: 11.6935 - val_loss: 5504.8716 - val_mean_absolute_error: 73.4182\n",
            "Epoch 3/200\n",
            "63/63 [==============================] - 0s 4ms/step - loss: 16.1796 - mean_absolute_error: 1.3555 - val_loss: 2103.9048 - val_mean_absolute_error: 44.6206\n",
            "Epoch 4/200\n",
            "63/63 [==============================] - 0s 4ms/step - loss: 1.6069 - mean_absolute_error: 0.6199 - val_loss: 1487.2683 - val_mean_absolute_error: 37.1018\n",
            "Epoch 5/200\n",
            "63/63 [==============================] - 0s 5ms/step - loss: 0.9717 - mean_absolute_error: 0.5443 - val_loss: 1308.0743 - val_mean_absolute_error: 34.6154\n",
            "Epoch 6/200\n",
            "63/63 [==============================] - 0s 5ms/step - loss: 0.8836 - mean_absolute_error: 0.5624 - val_loss: 1148.9232 - val_mean_absolute_error: 32.2661\n",
            "Epoch 7/200\n",
            "63/63 [==============================] - 0s 4ms/step - loss: 0.8826 - mean_absolute_error: 0.6043 - val_loss: 1072.3879 - val_mean_absolute_error: 31.0905\n",
            "Epoch 8/200\n",
            "63/63 [==============================] - 0s 4ms/step - loss: 0.7339 - mean_absolute_error: 0.5264 - val_loss: 1009.4479 - val_mean_absolute_error: 30.0326\n",
            "Epoch 9/200\n",
            "63/63 [==============================] - 0s 4ms/step - loss: 0.6799 - mean_absolute_error: 0.4964 - val_loss: 960.2939 - val_mean_absolute_error: 29.2341\n",
            "Epoch 10/200\n",
            "63/63 [==============================] - 0s 4ms/step - loss: 0.7147 - mean_absolute_error: 0.5256 - val_loss: 927.5475 - val_mean_absolute_error: 28.6737\n",
            "Epoch 11/200\n",
            "63/63 [==============================] - 0s 4ms/step - loss: 0.6472 - mean_absolute_error: 0.4851 - val_loss: 902.6993 - val_mean_absolute_error: 28.2467\n",
            "Epoch 12/200\n",
            "63/63 [==============================] - 0s 4ms/step - loss: 0.6593 - mean_absolute_error: 0.5018 - val_loss: 872.2772 - val_mean_absolute_error: 27.6918\n",
            "Epoch 13/200\n",
            "63/63 [==============================] - 0s 5ms/step - loss: 0.6701 - mean_absolute_error: 0.5022 - val_loss: 854.8542 - val_mean_absolute_error: 27.3791\n",
            "Epoch 14/200\n",
            "63/63 [==============================] - 0s 4ms/step - loss: 0.6673 - mean_absolute_error: 0.5053 - val_loss: 846.6550 - val_mean_absolute_error: 27.2764\n",
            "Epoch 15/200\n",
            "63/63 [==============================] - 0s 4ms/step - loss: 0.7029 - mean_absolute_error: 0.5349 - val_loss: 829.5905 - val_mean_absolute_error: 26.9329\n",
            "Epoch 16/200\n",
            "63/63 [==============================] - 0s 4ms/step - loss: 0.7225 - mean_absolute_error: 0.5213 - val_loss: 821.9898 - val_mean_absolute_error: 26.8107\n",
            "Epoch 17/200\n",
            "63/63 [==============================] - 0s 5ms/step - loss: 0.6495 - mean_absolute_error: 0.4837 - val_loss: 813.9472 - val_mean_absolute_error: 26.6757\n",
            "Epoch 18/200\n",
            "63/63 [==============================] - 0s 4ms/step - loss: 0.6219 - mean_absolute_error: 0.4771 - val_loss: 804.8643 - val_mean_absolute_error: 26.5290\n",
            "Epoch 19/200\n",
            "63/63 [==============================] - 0s 5ms/step - loss: 0.6361 - mean_absolute_error: 0.4979 - val_loss: 804.0872 - val_mean_absolute_error: 26.5000\n",
            "Epoch 20/200\n",
            "63/63 [==============================] - 0s 5ms/step - loss: 0.6712 - mean_absolute_error: 0.5046 - val_loss: 795.3955 - val_mean_absolute_error: 26.3617\n",
            "Epoch 21/200\n",
            "63/63 [==============================] - 0s 4ms/step - loss: 0.6251 - mean_absolute_error: 0.4815 - val_loss: 792.0930 - val_mean_absolute_error: 26.2771\n",
            "Epoch 22/200\n",
            "63/63 [==============================] - 0s 4ms/step - loss: 0.6349 - mean_absolute_error: 0.4976 - val_loss: 786.8906 - val_mean_absolute_error: 26.2071\n",
            "Epoch 23/200\n",
            "63/63 [==============================] - 0s 4ms/step - loss: 0.9637 - mean_absolute_error: 0.6789 - val_loss: 798.6835 - val_mean_absolute_error: 26.4596\n",
            "Epoch 24/200\n",
            "63/63 [==============================] - 0s 5ms/step - loss: 0.7249 - mean_absolute_error: 0.5462 - val_loss: 774.5127 - val_mean_absolute_error: 25.9461\n",
            "Epoch 25/200\n",
            "63/63 [==============================] - 0s 4ms/step - loss: 0.7536 - mean_absolute_error: 0.5479 - val_loss: 778.2200 - val_mean_absolute_error: 26.0354\n",
            "Epoch 26/200\n",
            "63/63 [==============================] - 0s 4ms/step - loss: 0.6618 - mean_absolute_error: 0.4919 - val_loss: 777.4171 - val_mean_absolute_error: 26.0286\n",
            "Epoch 27/200\n",
            "63/63 [==============================] - 0s 4ms/step - loss: 0.6094 - mean_absolute_error: 0.4685 - val_loss: 766.8954 - val_mean_absolute_error: 25.7810\n",
            "Epoch 28/200\n",
            "63/63 [==============================] - 0s 4ms/step - loss: 0.6015 - mean_absolute_error: 0.4657 - val_loss: 772.3325 - val_mean_absolute_error: 25.9431\n",
            "Epoch 29/200\n",
            "63/63 [==============================] - 0s 4ms/step - loss: 0.7250 - mean_absolute_error: 0.5367 - val_loss: 777.2318 - val_mean_absolute_error: 25.9831\n",
            "Epoch 30/200\n",
            "63/63 [==============================] - 0s 4ms/step - loss: 0.6668 - mean_absolute_error: 0.5050 - val_loss: 767.7607 - val_mean_absolute_error: 25.8266\n",
            "Epoch 31/200\n",
            "63/63 [==============================] - 0s 5ms/step - loss: 0.6475 - mean_absolute_error: 0.4911 - val_loss: 776.7007 - val_mean_absolute_error: 26.0154\n",
            "Epoch 32/200\n",
            "63/63 [==============================] - 0s 5ms/step - loss: 0.8345 - mean_absolute_error: 0.5695 - val_loss: 794.3720 - val_mean_absolute_error: 26.3875\n",
            "Epoch 33/200\n",
            "63/63 [==============================] - 0s 4ms/step - loss: 0.7789 - mean_absolute_error: 0.5566 - val_loss: 779.7586 - val_mean_absolute_error: 26.0356\n",
            "Epoch 34/200\n",
            "63/63 [==============================] - 0s 4ms/step - loss: 0.6723 - mean_absolute_error: 0.5066 - val_loss: 755.1318 - val_mean_absolute_error: 25.5833\n",
            "Epoch 35/200\n",
            "63/63 [==============================] - 0s 4ms/step - loss: 0.7076 - mean_absolute_error: 0.5437 - val_loss: 757.9109 - val_mean_absolute_error: 25.6439\n",
            "Epoch 36/200\n",
            "63/63 [==============================] - 0s 4ms/step - loss: 0.6804 - mean_absolute_error: 0.5204 - val_loss: 745.1281 - val_mean_absolute_error: 25.4028\n",
            "Epoch 37/200\n",
            "63/63 [==============================] - 0s 4ms/step - loss: 0.7485 - mean_absolute_error: 0.5777 - val_loss: 778.8514 - val_mean_absolute_error: 26.0428\n",
            "Epoch 38/200\n",
            "63/63 [==============================] - 0s 5ms/step - loss: 0.6229 - mean_absolute_error: 0.4652 - val_loss: 769.9447 - val_mean_absolute_error: 25.8708\n",
            "Epoch 39/200\n",
            "63/63 [==============================] - 0s 4ms/step - loss: 0.6853 - mean_absolute_error: 0.5158 - val_loss: 770.3841 - val_mean_absolute_error: 25.8771\n",
            "Epoch 40/200\n",
            "63/63 [==============================] - 0s 4ms/step - loss: 0.7349 - mean_absolute_error: 0.5700 - val_loss: 756.8340 - val_mean_absolute_error: 25.6222\n",
            "Epoch 41/200\n",
            "63/63 [==============================] - 0s 4ms/step - loss: 0.6690 - mean_absolute_error: 0.5134 - val_loss: 751.3856 - val_mean_absolute_error: 25.5007\n",
            "Epoch 42/200\n",
            "63/63 [==============================] - 0s 5ms/step - loss: 0.7586 - mean_absolute_error: 0.5644 - val_loss: 751.5624 - val_mean_absolute_error: 25.5165\n",
            "Epoch 43/200\n",
            "63/63 [==============================] - 0s 5ms/step - loss: 0.7726 - mean_absolute_error: 0.5616 - val_loss: 766.2192 - val_mean_absolute_error: 25.8058\n",
            "Epoch 44/200\n",
            "63/63 [==============================] - 0s 4ms/step - loss: 0.6296 - mean_absolute_error: 0.4871 - val_loss: 772.5703 - val_mean_absolute_error: 25.9340\n",
            "Epoch 45/200\n",
            "63/63 [==============================] - 0s 4ms/step - loss: 0.6605 - mean_absolute_error: 0.4929 - val_loss: 742.2424 - val_mean_absolute_error: 25.3289\n",
            "Epoch 46/200\n",
            "63/63 [==============================] - 0s 4ms/step - loss: 0.6900 - mean_absolute_error: 0.5100 - val_loss: 754.4769 - val_mean_absolute_error: 25.5537\n",
            "Epoch 47/200\n",
            "63/63 [==============================] - 0s 5ms/step - loss: 0.6832 - mean_absolute_error: 0.5089 - val_loss: 748.3105 - val_mean_absolute_error: 25.4485\n",
            "Epoch 48/200\n",
            "63/63 [==============================] - 0s 4ms/step - loss: 0.7159 - mean_absolute_error: 0.5198 - val_loss: 785.9146 - val_mean_absolute_error: 26.1850\n",
            "Epoch 49/200\n",
            "63/63 [==============================] - 0s 4ms/step - loss: 0.8362 - mean_absolute_error: 0.6236 - val_loss: 766.8168 - val_mean_absolute_error: 25.7915\n",
            "Epoch 50/200\n",
            "63/63 [==============================] - 0s 4ms/step - loss: 0.6496 - mean_absolute_error: 0.4840 - val_loss: 786.9634 - val_mean_absolute_error: 26.2040\n",
            "Epoch 51/200\n",
            "63/63 [==============================] - 0s 4ms/step - loss: 0.7155 - mean_absolute_error: 0.5575 - val_loss: 785.3939 - val_mean_absolute_error: 26.2107\n",
            "Epoch 52/200\n",
            "63/63 [==============================] - 0s 5ms/step - loss: 0.8665 - mean_absolute_error: 0.6419 - val_loss: 771.6842 - val_mean_absolute_error: 25.8909\n",
            "Epoch 53/200\n",
            "63/63 [==============================] - 0s 4ms/step - loss: 0.6494 - mean_absolute_error: 0.5070 - val_loss: 775.7776 - val_mean_absolute_error: 25.9607\n",
            "Epoch 54/200\n",
            "63/63 [==============================] - 0s 4ms/step - loss: 0.7063 - mean_absolute_error: 0.5182 - val_loss: 819.7499 - val_mean_absolute_error: 26.8234\n",
            "Epoch 55/200\n",
            "63/63 [==============================] - 0s 4ms/step - loss: 0.7513 - mean_absolute_error: 0.5533 - val_loss: 784.1362 - val_mean_absolute_error: 26.1220\n",
            "Epoch 56/200\n",
            "63/63 [==============================] - 0s 5ms/step - loss: 0.6921 - mean_absolute_error: 0.5610 - val_loss: 792.9359 - val_mean_absolute_error: 26.2880\n",
            "Epoch 57/200\n",
            "63/63 [==============================] - 0s 5ms/step - loss: 0.6898 - mean_absolute_error: 0.5327 - val_loss: 786.9715 - val_mean_absolute_error: 26.1803\n",
            "Epoch 58/200\n",
            "63/63 [==============================] - 0s 4ms/step - loss: 0.6828 - mean_absolute_error: 0.5207 - val_loss: 803.3444 - val_mean_absolute_error: 26.4748\n",
            "Epoch 59/200\n",
            "63/63 [==============================] - 0s 4ms/step - loss: 0.6834 - mean_absolute_error: 0.5368 - val_loss: 784.0647 - val_mean_absolute_error: 26.1203\n",
            "Epoch 60/200\n",
            "63/63 [==============================] - 0s 5ms/step - loss: 0.6743 - mean_absolute_error: 0.5252 - val_loss: 772.3091 - val_mean_absolute_error: 25.9270\n",
            "Epoch 61/200\n",
            "63/63 [==============================] - 0s 4ms/step - loss: 0.7637 - mean_absolute_error: 0.5723 - val_loss: 796.3636 - val_mean_absolute_error: 26.3448\n",
            "Epoch 62/200\n",
            "63/63 [==============================] - 0s 4ms/step - loss: 0.7839 - mean_absolute_error: 0.5984 - val_loss: 804.4005 - val_mean_absolute_error: 26.5185\n",
            "Epoch 63/200\n",
            "63/63 [==============================] - 0s 4ms/step - loss: 0.6073 - mean_absolute_error: 0.4741 - val_loss: 807.0372 - val_mean_absolute_error: 26.5891\n",
            "Epoch 64/200\n",
            "63/63 [==============================] - 0s 4ms/step - loss: 0.6495 - mean_absolute_error: 0.5042 - val_loss: 801.1321 - val_mean_absolute_error: 26.4564\n",
            "Epoch 65/200\n",
            "63/63 [==============================] - 0s 4ms/step - loss: 0.7362 - mean_absolute_error: 0.5432 - val_loss: 809.4946 - val_mean_absolute_error: 26.5956\n",
            "Epoch 66/200\n",
            "63/63 [==============================] - 0s 4ms/step - loss: 0.7308 - mean_absolute_error: 0.5314 - val_loss: 808.4223 - val_mean_absolute_error: 26.5628\n",
            "Epoch 67/200\n",
            "63/63 [==============================] - 0s 4ms/step - loss: 0.8063 - mean_absolute_error: 0.5979 - val_loss: 776.9849 - val_mean_absolute_error: 25.9511\n",
            "Epoch 68/200\n",
            "63/63 [==============================] - 0s 4ms/step - loss: 0.6289 - mean_absolute_error: 0.4824 - val_loss: 811.9695 - val_mean_absolute_error: 26.6558\n",
            "Epoch 69/200\n",
            "63/63 [==============================] - 0s 4ms/step - loss: 0.6809 - mean_absolute_error: 0.5196 - val_loss: 799.8669 - val_mean_absolute_error: 26.4153\n",
            "Epoch 70/200\n",
            "63/63 [==============================] - 0s 5ms/step - loss: 0.6648 - mean_absolute_error: 0.5061 - val_loss: 793.1238 - val_mean_absolute_error: 26.2850\n",
            "Epoch 71/200\n",
            "63/63 [==============================] - 0s 5ms/step - loss: 0.6378 - mean_absolute_error: 0.4853 - val_loss: 814.0160 - val_mean_absolute_error: 26.6951\n",
            "Epoch 72/200\n",
            "63/63 [==============================] - 0s 4ms/step - loss: 0.6272 - mean_absolute_error: 0.4875 - val_loss: 770.5994 - val_mean_absolute_error: 25.8523\n",
            "Epoch 73/200\n",
            "63/63 [==============================] - 0s 4ms/step - loss: 0.6417 - mean_absolute_error: 0.4795 - val_loss: 780.7323 - val_mean_absolute_error: 26.0649\n",
            "Epoch 74/200\n",
            "63/63 [==============================] - 0s 5ms/step - loss: 0.6990 - mean_absolute_error: 0.5223 - val_loss: 782.1459 - val_mean_absolute_error: 26.0978\n",
            "Epoch 75/200\n",
            "63/63 [==============================] - 0s 4ms/step - loss: 0.6894 - mean_absolute_error: 0.5183 - val_loss: 754.4669 - val_mean_absolute_error: 25.5537\n",
            "Epoch 76/200\n",
            "63/63 [==============================] - 0s 4ms/step - loss: 0.7073 - mean_absolute_error: 0.5496 - val_loss: 778.4698 - val_mean_absolute_error: 26.0396\n",
            "Epoch 77/200\n",
            "63/63 [==============================] - 0s 4ms/step - loss: 0.7632 - mean_absolute_error: 0.5661 - val_loss: 787.6134 - val_mean_absolute_error: 26.2117\n",
            "Epoch 78/200\n",
            "63/63 [==============================] - 0s 4ms/step - loss: 0.6389 - mean_absolute_error: 0.4923 - val_loss: 783.3282 - val_mean_absolute_error: 26.1010\n",
            "Epoch 79/200\n",
            "63/63 [==============================] - 0s 4ms/step - loss: 0.8100 - mean_absolute_error: 0.5881 - val_loss: 790.9986 - val_mean_absolute_error: 26.2427\n",
            "Epoch 80/200\n",
            "63/63 [==============================] - 0s 4ms/step - loss: 0.6492 - mean_absolute_error: 0.5148 - val_loss: 791.1558 - val_mean_absolute_error: 26.2891\n",
            "Epoch 81/200\n",
            "63/63 [==============================] - 0s 5ms/step - loss: 0.7183 - mean_absolute_error: 0.5510 - val_loss: 789.5106 - val_mean_absolute_error: 26.2379\n",
            "Epoch 82/200\n",
            "63/63 [==============================] - 0s 4ms/step - loss: 0.6916 - mean_absolute_error: 0.5417 - val_loss: 775.9518 - val_mean_absolute_error: 25.9842\n",
            "Epoch 83/200\n",
            "63/63 [==============================] - 0s 5ms/step - loss: 0.5936 - mean_absolute_error: 0.4656 - val_loss: 763.1321 - val_mean_absolute_error: 25.7449\n",
            "Epoch 84/200\n",
            "63/63 [==============================] - 0s 4ms/step - loss: 0.5893 - mean_absolute_error: 0.4633 - val_loss: 760.0035 - val_mean_absolute_error: 25.7024\n",
            "Epoch 85/200\n",
            "63/63 [==============================] - 0s 4ms/step - loss: 0.6602 - mean_absolute_error: 0.5124 - val_loss: 761.3217 - val_mean_absolute_error: 25.6767\n",
            "Epoch 86/200\n",
            "63/63 [==============================] - 0s 4ms/step - loss: 0.6462 - mean_absolute_error: 0.4911 - val_loss: 762.3995 - val_mean_absolute_error: 25.7259\n",
            "Epoch 87/200\n",
            "63/63 [==============================] - 0s 5ms/step - loss: 0.6881 - mean_absolute_error: 0.5374 - val_loss: 757.0735 - val_mean_absolute_error: 25.6263\n",
            "Epoch 88/200\n",
            "63/63 [==============================] - 0s 5ms/step - loss: 0.7074 - mean_absolute_error: 0.5356 - val_loss: 752.7496 - val_mean_absolute_error: 25.5151\n",
            "Epoch 89/200\n",
            "63/63 [==============================] - 0s 4ms/step - loss: 0.6610 - mean_absolute_error: 0.5164 - val_loss: 751.2253 - val_mean_absolute_error: 25.4970\n",
            "Epoch 90/200\n",
            "63/63 [==============================] - 0s 4ms/step - loss: 0.7283 - mean_absolute_error: 0.5496 - val_loss: 750.6010 - val_mean_absolute_error: 25.4734\n",
            "Epoch 91/200\n",
            "63/63 [==============================] - 0s 4ms/step - loss: 0.6897 - mean_absolute_error: 0.5168 - val_loss: 761.6533 - val_mean_absolute_error: 25.6761\n",
            "Epoch 92/200\n",
            "63/63 [==============================] - 0s 4ms/step - loss: 0.6477 - mean_absolute_error: 0.4904 - val_loss: 777.1956 - val_mean_absolute_error: 25.9972\n",
            "Epoch 93/200\n",
            "63/63 [==============================] - 0s 5ms/step - loss: 0.6337 - mean_absolute_error: 0.5026 - val_loss: 779.4366 - val_mean_absolute_error: 26.0214\n",
            "Epoch 94/200\n",
            "63/63 [==============================] - 0s 4ms/step - loss: 0.6098 - mean_absolute_error: 0.4769 - val_loss: 792.7175 - val_mean_absolute_error: 26.2874\n",
            "Epoch 95/200\n",
            "63/63 [==============================] - 0s 4ms/step - loss: 0.6530 - mean_absolute_error: 0.5055 - val_loss: 794.8573 - val_mean_absolute_error: 26.3038\n",
            "Epoch 96/200\n",
            "63/63 [==============================] - 0s 4ms/step - loss: 0.6722 - mean_absolute_error: 0.5060 - val_loss: 763.0839 - val_mean_absolute_error: 25.7351\n",
            "Epoch 97/200\n",
            "63/63 [==============================] - 0s 4ms/step - loss: 0.6586 - mean_absolute_error: 0.5101 - val_loss: 746.4009 - val_mean_absolute_error: 25.4047\n",
            "Epoch 98/200\n",
            "63/63 [==============================] - 0s 4ms/step - loss: 0.6555 - mean_absolute_error: 0.5024 - val_loss: 751.4704 - val_mean_absolute_error: 25.4879\n",
            "Epoch 99/200\n",
            "63/63 [==============================] - 0s 5ms/step - loss: 0.7012 - mean_absolute_error: 0.5415 - val_loss: 782.9158 - val_mean_absolute_error: 26.1001\n",
            "Epoch 100/200\n",
            "63/63 [==============================] - 0s 4ms/step - loss: 0.6686 - mean_absolute_error: 0.5145 - val_loss: 756.7118 - val_mean_absolute_error: 25.5962\n",
            "Epoch 101/200\n",
            "63/63 [==============================] - 0s 4ms/step - loss: 0.6474 - mean_absolute_error: 0.4961 - val_loss: 793.0306 - val_mean_absolute_error: 26.2819\n",
            "Epoch 102/200\n",
            "63/63 [==============================] - 0s 5ms/step - loss: 0.9035 - mean_absolute_error: 0.6500 - val_loss: 797.4709 - val_mean_absolute_error: 26.3444\n",
            "Epoch 103/200\n",
            "63/63 [==============================] - 0s 4ms/step - loss: 0.6839 - mean_absolute_error: 0.5130 - val_loss: 787.7021 - val_mean_absolute_error: 26.1771\n",
            "Epoch 104/200\n",
            "63/63 [==============================] - 0s 5ms/step - loss: 0.7115 - mean_absolute_error: 0.5307 - val_loss: 801.4726 - val_mean_absolute_error: 26.3959\n",
            "Epoch 105/200\n",
            "63/63 [==============================] - 0s 4ms/step - loss: 0.6653 - mean_absolute_error: 0.5033 - val_loss: 770.7219 - val_mean_absolute_error: 25.8358\n",
            "Epoch 106/200\n",
            "63/63 [==============================] - 0s 4ms/step - loss: 0.7323 - mean_absolute_error: 0.5421 - val_loss: 783.5311 - val_mean_absolute_error: 26.0722\n",
            "Epoch 107/200\n",
            "63/63 [==============================] - 0s 4ms/step - loss: 0.7724 - mean_absolute_error: 0.5661 - val_loss: 817.0027 - val_mean_absolute_error: 26.7029\n",
            "Epoch 108/200\n",
            "63/63 [==============================] - 0s 5ms/step - loss: 0.6823 - mean_absolute_error: 0.5195 - val_loss: 774.3376 - val_mean_absolute_error: 25.9049\n",
            "Epoch 109/200\n",
            "63/63 [==============================] - 0s 5ms/step - loss: 0.6998 - mean_absolute_error: 0.5425 - val_loss: 804.9905 - val_mean_absolute_error: 26.5067\n",
            "Epoch 110/200\n",
            "63/63 [==============================] - 0s 4ms/step - loss: 0.7551 - mean_absolute_error: 0.5630 - val_loss: 824.9724 - val_mean_absolute_error: 26.8714\n",
            "Epoch 111/200\n",
            "63/63 [==============================] - 0s 4ms/step - loss: 0.6265 - mean_absolute_error: 0.4882 - val_loss: 823.0699 - val_mean_absolute_error: 26.8320\n",
            "Epoch 112/200\n",
            "63/63 [==============================] - 0s 4ms/step - loss: 0.6560 - mean_absolute_error: 0.5033 - val_loss: 821.1638 - val_mean_absolute_error: 26.7976\n",
            "Epoch 113/200\n",
            "63/63 [==============================] - 0s 4ms/step - loss: 0.7190 - mean_absolute_error: 0.5486 - val_loss: 804.2753 - val_mean_absolute_error: 26.4574\n",
            "Epoch 114/200\n",
            "63/63 [==============================] - 0s 4ms/step - loss: 0.7160 - mean_absolute_error: 0.5428 - val_loss: 831.1161 - val_mean_absolute_error: 26.9990\n",
            "Epoch 115/200\n",
            "63/63 [==============================] - 0s 4ms/step - loss: 0.7224 - mean_absolute_error: 0.5486 - val_loss: 790.1737 - val_mean_absolute_error: 26.2023\n",
            "Epoch 116/200\n",
            "63/63 [==============================] - 0s 5ms/step - loss: 0.6749 - mean_absolute_error: 0.5131 - val_loss: 770.8519 - val_mean_absolute_error: 25.8520\n",
            "Epoch 117/200\n",
            "63/63 [==============================] - 0s 4ms/step - loss: 0.6579 - mean_absolute_error: 0.5065 - val_loss: 759.2800 - val_mean_absolute_error: 25.6498\n",
            "Epoch 118/200\n",
            "63/63 [==============================] - 0s 5ms/step - loss: 0.6340 - mean_absolute_error: 0.4848 - val_loss: 782.6406 - val_mean_absolute_error: 26.0556\n",
            "Epoch 119/200\n",
            "63/63 [==============================] - 0s 4ms/step - loss: 0.6768 - mean_absolute_error: 0.5225 - val_loss: 768.6163 - val_mean_absolute_error: 25.8105\n",
            "Epoch 120/200\n",
            "63/63 [==============================] - 0s 4ms/step - loss: 0.6322 - mean_absolute_error: 0.4905 - val_loss: 781.8657 - val_mean_absolute_error: 26.0821\n",
            "Epoch 121/200\n",
            "63/63 [==============================] - 0s 4ms/step - loss: 0.7048 - mean_absolute_error: 0.5389 - val_loss: 799.3459 - val_mean_absolute_error: 26.4567\n",
            "Epoch 122/200\n",
            "63/63 [==============================] - 0s 4ms/step - loss: 0.6292 - mean_absolute_error: 0.4829 - val_loss: 798.3479 - val_mean_absolute_error: 26.3686\n",
            "Epoch 123/200\n",
            "63/63 [==============================] - 0s 4ms/step - loss: 0.7428 - mean_absolute_error: 0.5879 - val_loss: 791.6636 - val_mean_absolute_error: 26.2310\n",
            "Epoch 124/200\n",
            "63/63 [==============================] - 0s 4ms/step - loss: 0.7262 - mean_absolute_error: 0.5533 - val_loss: 798.8960 - val_mean_absolute_error: 26.3594\n",
            "Epoch 125/200\n",
            "63/63 [==============================] - 0s 5ms/step - loss: 0.6614 - mean_absolute_error: 0.5066 - val_loss: 790.5366 - val_mean_absolute_error: 26.2570\n",
            "Epoch 126/200\n",
            "63/63 [==============================] - 0s 4ms/step - loss: 0.7014 - mean_absolute_error: 0.5415 - val_loss: 815.6874 - val_mean_absolute_error: 26.7132\n",
            "Epoch 127/200\n",
            "63/63 [==============================] - 0s 4ms/step - loss: 0.6226 - mean_absolute_error: 0.4795 - val_loss: 753.4095 - val_mean_absolute_error: 25.4954\n",
            "Epoch 128/200\n",
            "63/63 [==============================] - 0s 4ms/step - loss: 0.7492 - mean_absolute_error: 0.5483 - val_loss: 824.2211 - val_mean_absolute_error: 26.8098\n",
            "Epoch 129/200\n",
            "63/63 [==============================] - 0s 5ms/step - loss: 0.7975 - mean_absolute_error: 0.5891 - val_loss: 826.4202 - val_mean_absolute_error: 26.8319\n",
            "Epoch 130/200\n",
            "63/63 [==============================] - 0s 5ms/step - loss: 0.6986 - mean_absolute_error: 0.5297 - val_loss: 812.6797 - val_mean_absolute_error: 26.6110\n",
            "Epoch 131/200\n",
            "63/63 [==============================] - 0s 5ms/step - loss: 0.6816 - mean_absolute_error: 0.5272 - val_loss: 795.6675 - val_mean_absolute_error: 26.3068\n",
            "Epoch 132/200\n",
            "63/63 [==============================] - 0s 4ms/step - loss: 0.6246 - mean_absolute_error: 0.4864 - val_loss: 813.8496 - val_mean_absolute_error: 26.6486\n",
            "Epoch 133/200\n",
            "63/63 [==============================] - 0s 5ms/step - loss: 0.8192 - mean_absolute_error: 0.5907 - val_loss: 800.6490 - val_mean_absolute_error: 26.4680\n",
            "Epoch 134/200\n",
            "63/63 [==============================] - 0s 4ms/step - loss: 0.7275 - mean_absolute_error: 0.5634 - val_loss: 797.9606 - val_mean_absolute_error: 26.3423\n",
            "Epoch 135/200\n",
            "63/63 [==============================] - 0s 5ms/step - loss: 0.7074 - mean_absolute_error: 0.5053 - val_loss: 803.9214 - val_mean_absolute_error: 26.4650\n",
            "Epoch 136/200\n",
            "63/63 [==============================] - 0s 4ms/step - loss: 0.6248 - mean_absolute_error: 0.4828 - val_loss: 790.6683 - val_mean_absolute_error: 26.2210\n",
            "Epoch 137/200\n",
            "63/63 [==============================] - 0s 5ms/step - loss: 0.6121 - mean_absolute_error: 0.4880 - val_loss: 808.0724 - val_mean_absolute_error: 26.5312\n",
            "Epoch 138/200\n",
            "63/63 [==============================] - 0s 4ms/step - loss: 0.5973 - mean_absolute_error: 0.4585 - val_loss: 808.6818 - val_mean_absolute_error: 26.5383\n",
            "Epoch 139/200\n",
            "63/63 [==============================] - 0s 5ms/step - loss: 0.6843 - mean_absolute_error: 0.5234 - val_loss: 849.9125 - val_mean_absolute_error: 27.3712\n",
            "Epoch 140/200\n",
            "63/63 [==============================] - 0s 5ms/step - loss: 0.6660 - mean_absolute_error: 0.4991 - val_loss: 785.5548 - val_mean_absolute_error: 26.1087\n",
            "Epoch 141/200\n",
            "63/63 [==============================] - 0s 4ms/step - loss: 0.6371 - mean_absolute_error: 0.4950 - val_loss: 813.1258 - val_mean_absolute_error: 26.6084\n",
            "Epoch 142/200\n",
            "63/63 [==============================] - 0s 5ms/step - loss: 0.6174 - mean_absolute_error: 0.4778 - val_loss: 788.7097 - val_mean_absolute_error: 26.1726\n",
            "Epoch 143/200\n",
            "63/63 [==============================] - 0s 5ms/step - loss: 0.6015 - mean_absolute_error: 0.4870 - val_loss: 799.4384 - val_mean_absolute_error: 26.4782\n",
            "Epoch 144/200\n",
            "63/63 [==============================] - 0s 5ms/step - loss: 0.7749 - mean_absolute_error: 0.5684 - val_loss: 806.6923 - val_mean_absolute_error: 26.5034\n",
            "Epoch 145/200\n",
            "63/63 [==============================] - 0s 4ms/step - loss: 0.6335 - mean_absolute_error: 0.4939 - val_loss: 794.9049 - val_mean_absolute_error: 26.2773\n",
            "Epoch 146/200\n",
            "63/63 [==============================] - 0s 5ms/step - loss: 0.6420 - mean_absolute_error: 0.4846 - val_loss: 759.6733 - val_mean_absolute_error: 25.6296\n",
            "Epoch 147/200\n",
            "63/63 [==============================] - 0s 5ms/step - loss: 0.6785 - mean_absolute_error: 0.5224 - val_loss: 737.2313 - val_mean_absolute_error: 25.1909\n",
            "Epoch 148/200\n",
            "63/63 [==============================] - 0s 4ms/step - loss: 0.7440 - mean_absolute_error: 0.5617 - val_loss: 805.8744 - val_mean_absolute_error: 26.5189\n",
            "Epoch 149/200\n",
            "63/63 [==============================] - 0s 4ms/step - loss: 0.6656 - mean_absolute_error: 0.5140 - val_loss: 810.9428 - val_mean_absolute_error: 26.6129\n",
            "Epoch 150/200\n",
            "63/63 [==============================] - 0s 4ms/step - loss: 0.7561 - mean_absolute_error: 0.5712 - val_loss: 832.1777 - val_mean_absolute_error: 27.0198\n",
            "Epoch 151/200\n",
            "63/63 [==============================] - 0s 5ms/step - loss: 0.6773 - mean_absolute_error: 0.5173 - val_loss: 771.4079 - val_mean_absolute_error: 25.8574\n",
            "Epoch 152/200\n",
            "63/63 [==============================] - 0s 4ms/step - loss: 0.6377 - mean_absolute_error: 0.4984 - val_loss: 767.5099 - val_mean_absolute_error: 25.7771\n",
            "Epoch 153/200\n",
            "63/63 [==============================] - 0s 4ms/step - loss: 0.7024 - mean_absolute_error: 0.5290 - val_loss: 789.5958 - val_mean_absolute_error: 26.1777\n",
            "Epoch 154/200\n",
            "63/63 [==============================] - 0s 5ms/step - loss: 0.7248 - mean_absolute_error: 0.5368 - val_loss: 791.6151 - val_mean_absolute_error: 26.2034\n",
            "Epoch 155/200\n",
            "63/63 [==============================] - 0s 5ms/step - loss: 0.7274 - mean_absolute_error: 0.5288 - val_loss: 827.3358 - val_mean_absolute_error: 26.9534\n",
            "Epoch 156/200\n",
            "63/63 [==============================] - 0s 5ms/step - loss: 0.7299 - mean_absolute_error: 0.5428 - val_loss: 796.8844 - val_mean_absolute_error: 26.3654\n",
            "Epoch 157/200\n",
            "63/63 [==============================] - 0s 5ms/step - loss: 0.7128 - mean_absolute_error: 0.5452 - val_loss: 828.9093 - val_mean_absolute_error: 26.9044\n",
            "Epoch 158/200\n",
            "63/63 [==============================] - 0s 4ms/step - loss: 0.6664 - mean_absolute_error: 0.5030 - val_loss: 821.7094 - val_mean_absolute_error: 26.8067\n",
            "Epoch 159/200\n",
            "63/63 [==============================] - 0s 4ms/step - loss: 0.7770 - mean_absolute_error: 0.5666 - val_loss: 770.4952 - val_mean_absolute_error: 25.8395\n",
            "Epoch 160/200\n",
            "63/63 [==============================] - 0s 5ms/step - loss: 0.6844 - mean_absolute_error: 0.5326 - val_loss: 771.1580 - val_mean_absolute_error: 25.8666\n",
            "Epoch 161/200\n",
            "63/63 [==============================] - 0s 5ms/step - loss: 0.6474 - mean_absolute_error: 0.4911 - val_loss: 772.7593 - val_mean_absolute_error: 25.8661\n",
            "Epoch 162/200\n",
            "63/63 [==============================] - 0s 4ms/step - loss: 0.6266 - mean_absolute_error: 0.4946 - val_loss: 800.4881 - val_mean_absolute_error: 26.4184\n",
            "Epoch 163/200\n",
            "63/63 [==============================] - 0s 5ms/step - loss: 0.6099 - mean_absolute_error: 0.4727 - val_loss: 775.5408 - val_mean_absolute_error: 25.9364\n",
            "Epoch 164/200\n",
            "63/63 [==============================] - 0s 4ms/step - loss: 0.7996 - mean_absolute_error: 0.5860 - val_loss: 797.0841 - val_mean_absolute_error: 26.3429\n",
            "Epoch 165/200\n",
            "63/63 [==============================] - 0s 4ms/step - loss: 0.7464 - mean_absolute_error: 0.5431 - val_loss: 778.4603 - val_mean_absolute_error: 25.9608\n",
            "Epoch 166/200\n",
            "63/63 [==============================] - 0s 5ms/step - loss: 0.6185 - mean_absolute_error: 0.4811 - val_loss: 794.2689 - val_mean_absolute_error: 26.2967\n",
            "Epoch 167/200\n",
            "63/63 [==============================] - 0s 5ms/step - loss: 0.6541 - mean_absolute_error: 0.5101 - val_loss: 778.5071 - val_mean_absolute_error: 25.9913\n",
            "Epoch 168/200\n",
            "63/63 [==============================] - 0s 5ms/step - loss: 0.7256 - mean_absolute_error: 0.5541 - val_loss: 827.2419 - val_mean_absolute_error: 26.9152\n",
            "Epoch 169/200\n",
            "63/63 [==============================] - 0s 5ms/step - loss: 0.6270 - mean_absolute_error: 0.4752 - val_loss: 791.1869 - val_mean_absolute_error: 26.2390\n",
            "Epoch 170/200\n",
            "63/63 [==============================] - 0s 4ms/step - loss: 0.7088 - mean_absolute_error: 0.5359 - val_loss: 772.8635 - val_mean_absolute_error: 25.8687\n",
            "Epoch 171/200\n",
            "63/63 [==============================] - 0s 4ms/step - loss: 0.6882 - mean_absolute_error: 0.5096 - val_loss: 782.2205 - val_mean_absolute_error: 26.0763\n",
            "Epoch 172/200\n",
            "63/63 [==============================] - 0s 5ms/step - loss: 0.6298 - mean_absolute_error: 0.4815 - val_loss: 790.6870 - val_mean_absolute_error: 26.2322\n",
            "Epoch 173/200\n",
            "63/63 [==============================] - 0s 4ms/step - loss: 0.6453 - mean_absolute_error: 0.5038 - val_loss: 787.3299 - val_mean_absolute_error: 26.1460\n",
            "Epoch 174/200\n",
            "63/63 [==============================] - 0s 5ms/step - loss: 0.6131 - mean_absolute_error: 0.4775 - val_loss: 816.1794 - val_mean_absolute_error: 26.7112\n",
            "Epoch 175/200\n",
            "63/63 [==============================] - 0s 5ms/step - loss: 0.6196 - mean_absolute_error: 0.4821 - val_loss: 811.2123 - val_mean_absolute_error: 26.6089\n",
            "Epoch 176/200\n",
            "63/63 [==============================] - 0s 5ms/step - loss: 0.7244 - mean_absolute_error: 0.5532 - val_loss: 812.1379 - val_mean_absolute_error: 26.6407\n",
            "Epoch 177/200\n",
            "63/63 [==============================] - 0s 5ms/step - loss: 0.6556 - mean_absolute_error: 0.4983 - val_loss: 818.7643 - val_mean_absolute_error: 26.7257\n",
            "Epoch 178/200\n",
            "63/63 [==============================] - 0s 5ms/step - loss: 0.7298 - mean_absolute_error: 0.5691 - val_loss: 858.6738 - val_mean_absolute_error: 27.5008\n",
            "Epoch 179/200\n",
            "63/63 [==============================] - 0s 4ms/step - loss: 0.7085 - mean_absolute_error: 0.5222 - val_loss: 822.0198 - val_mean_absolute_error: 26.7858\n",
            "Epoch 180/200\n",
            "63/63 [==============================] - 0s 4ms/step - loss: 0.6380 - mean_absolute_error: 0.4890 - val_loss: 781.2245 - val_mean_absolute_error: 26.0407\n",
            "Epoch 181/200\n",
            "63/63 [==============================] - 0s 5ms/step - loss: 0.6426 - mean_absolute_error: 0.5011 - val_loss: 818.5959 - val_mean_absolute_error: 26.7800\n",
            "Epoch 182/200\n",
            "63/63 [==============================] - 0s 5ms/step - loss: 0.7208 - mean_absolute_error: 0.5444 - val_loss: 802.4386 - val_mean_absolute_error: 26.4278\n",
            "Epoch 183/200\n",
            "63/63 [==============================] - 0s 5ms/step - loss: 0.6624 - mean_absolute_error: 0.5220 - val_loss: 789.3213 - val_mean_absolute_error: 26.2258\n",
            "Epoch 184/200\n",
            "63/63 [==============================] - 0s 4ms/step - loss: 0.6574 - mean_absolute_error: 0.5000 - val_loss: 784.2127 - val_mean_absolute_error: 26.0906\n",
            "Epoch 185/200\n",
            "63/63 [==============================] - 0s 5ms/step - loss: 0.6398 - mean_absolute_error: 0.4981 - val_loss: 762.8835 - val_mean_absolute_error: 25.6741\n",
            "Epoch 186/200\n",
            "63/63 [==============================] - 0s 5ms/step - loss: 0.7123 - mean_absolute_error: 0.5375 - val_loss: 820.2214 - val_mean_absolute_error: 26.7833\n",
            "Epoch 187/200\n",
            "63/63 [==============================] - 0s 4ms/step - loss: 0.6724 - mean_absolute_error: 0.5257 - val_loss: 802.8510 - val_mean_absolute_error: 26.4379\n",
            "Epoch 188/200\n",
            "63/63 [==============================] - 0s 4ms/step - loss: 0.6326 - mean_absolute_error: 0.4943 - val_loss: 754.6801 - val_mean_absolute_error: 25.5515\n",
            "Epoch 189/200\n",
            "63/63 [==============================] - 0s 4ms/step - loss: 0.6474 - mean_absolute_error: 0.4926 - val_loss: 775.2036 - val_mean_absolute_error: 25.9197\n",
            "Epoch 190/200\n",
            "63/63 [==============================] - 0s 4ms/step - loss: 0.6099 - mean_absolute_error: 0.4850 - val_loss: 803.1946 - val_mean_absolute_error: 26.4396\n",
            "Epoch 191/200\n",
            "63/63 [==============================] - 0s 5ms/step - loss: 0.6629 - mean_absolute_error: 0.4998 - val_loss: 778.9341 - val_mean_absolute_error: 26.0259\n",
            "Epoch 192/200\n",
            "63/63 [==============================] - 0s 5ms/step - loss: 0.6985 - mean_absolute_error: 0.5252 - val_loss: 801.8880 - val_mean_absolute_error: 26.4434\n",
            "Epoch 193/200\n",
            "63/63 [==============================] - 0s 5ms/step - loss: 0.6480 - mean_absolute_error: 0.5010 - val_loss: 809.5156 - val_mean_absolute_error: 26.5674\n",
            "Epoch 194/200\n",
            "63/63 [==============================] - 0s 4ms/step - loss: 0.6106 - mean_absolute_error: 0.4796 - val_loss: 777.5103 - val_mean_absolute_error: 26.0014\n",
            "Epoch 195/200\n",
            "63/63 [==============================] - 0s 5ms/step - loss: 0.6826 - mean_absolute_error: 0.5301 - val_loss: 771.4949 - val_mean_absolute_error: 25.8604\n",
            "Epoch 196/200\n",
            "63/63 [==============================] - 0s 5ms/step - loss: 0.6216 - mean_absolute_error: 0.4803 - val_loss: 790.2532 - val_mean_absolute_error: 26.2062\n",
            "Epoch 197/200\n",
            "63/63 [==============================] - 0s 4ms/step - loss: 0.6521 - mean_absolute_error: 0.5045 - val_loss: 779.4911 - val_mean_absolute_error: 26.0213\n",
            "Epoch 198/200\n",
            "63/63 [==============================] - 0s 4ms/step - loss: 0.6494 - mean_absolute_error: 0.5083 - val_loss: 772.9295 - val_mean_absolute_error: 25.8744\n",
            "Epoch 199/200\n",
            "63/63 [==============================] - 0s 5ms/step - loss: 0.6410 - mean_absolute_error: 0.4907 - val_loss: 789.2052 - val_mean_absolute_error: 26.1814\n",
            "Epoch 200/200\n",
            "63/63 [==============================] - 0s 5ms/step - loss: 0.5980 - mean_absolute_error: 0.4736 - val_loss: 788.9243 - val_mean_absolute_error: 26.1770\n"
          ]
        },
        {
          "output_type": "execute_result",
          "data": {
            "text/plain": [
              "<keras.callbacks.History at 0x7f9fdd12c150>"
            ]
          },
          "metadata": {},
          "execution_count": 35
        }
      ]
    },
    {
      "cell_type": "code",
      "source": [
        "train_predictions = model.predict(X_train).flatten()\n",
        "\n",
        "plt.clf()\n",
        "plt.plot(dates_train, train_predictions)\n",
        "plt.plot(dates_train, y_train)\n",
        "plt.legend([\"training Predictions\", \"Training Observations\"])"
      ],
      "metadata": {
        "colab": {
          "base_uri": "https://localhost:8080/",
          "height": 283
        },
        "id": "9jGDYZD7JKjC",
        "outputId": "ce4cdbdf-0182-4b72-b631-410e3403f937"
      },
      "id": "9jGDYZD7JKjC",
      "execution_count": null,
      "outputs": [
        {
          "output_type": "execute_result",
          "data": {
            "text/plain": [
              "<matplotlib.legend.Legend at 0x7f9fdc151910>"
            ]
          },
          "metadata": {},
          "execution_count": 39
        },
        {
          "output_type": "display_data",
          "data": {
            "text/plain": [
              "<Figure size 432x288 with 1 Axes>"
            ],
            "image/png": "[encoded data removed]"
          },
          "metadata": {
            "needs_background": "light"
          }
        }
      ]
    },
    {
      "cell_type": "code",
      "source": [
        "val_predictions = model.predict(X_val).flatten()\n",
        "\n",
        "plt.plot(dates_val, val_predictions)\n",
        "plt.plot(dates_val, y_val)\n",
        "plt.legend([\"Validation Predictions\", \"Validation Observations\"])"
      ],
      "metadata": {
        "colab": {
          "base_uri": "https://localhost:8080/",
          "height": 283
        },
        "id": "UoqmcWcuJ5T1",
        "outputId": "a42beb0e-b86e-40ec-e7a9-89be2196f778"
      },
      "id": "UoqmcWcuJ5T1",
      "execution_count": null,
      "outputs": [
        {
          "output_type": "execute_result",
          "data": {
            "text/plain": [
              "<matplotlib.legend.Legend at 0x7f9fdc0efe50>"
            ]
          },
          "metadata": {},
          "execution_count": 40
        },
        {
          "output_type": "display_data",
          "data": {
            "text/plain": [
              "<Figure size 432x288 with 1 Axes>"
            ],
            "image/png": "[encoded data removed]"
          },
          "metadata": {
            "needs_background": "light"
          }
        }
      ]
    },
    {
      "cell_type": "code",
      "source": [
        "test_predictions = model.predict(X_test).flatten()\n",
        "\n",
        "plt.plot(dates_test, test_predictions)\n",
        "plt.plot(dates_test, y_test)\n",
        "plt.legend([\"Test Predictions\", \"Test Observations\"])"
      ],
      "metadata": {
        "colab": {
          "base_uri": "https://localhost:8080/",
          "height": 283
        },
        "id": "-p-JDF5EKrh2",
        "outputId": "fc16a5c5-a835-48d5-c259-427a4850bd5f"
      },
      "id": "-p-JDF5EKrh2",
      "execution_count": null,
      "outputs": [
        {
          "output_type": "execute_result",
          "data": {
            "text/plain": [
              "<matplotlib.legend.Legend at 0x7f9fdc159590>"
            ]
          },
          "metadata": {},
          "execution_count": 41
        },
        {
          "output_type": "display_data",
          "data": {
            "text/plain": [
              "<Figure size 432x288 with 1 Axes>"
            ],
            "image/png": "[encoded data removed]"
          },
          "metadata": {
            "needs_background": "light"
          }
        }
      ]
    },
    {
      "cell_type": "code",
      "source": [
        "# put all plot on the same figure\n",
        "plt.clf()\n",
        "plt.plot(dates_train, train_predictions)\n",
        "plt.plot(dates_train, y_train)\n",
        "plt.plot(dates_val, val_predictions)\n",
        "plt.plot(dates_val, y_val)\n",
        "plt.plot(dates_test, test_predictions)\n",
        "plt.plot(dates_test, y_test)\n",
        "plt.legend([\"Train Predictions\", \"Train Observations\",\n",
        "            \"Validation Predictions\", \"Validation Observations\",\n",
        "            \"Testing Predictions\", \"Testing Observations\"])"
      ],
      "metadata": {
        "colab": {
          "base_uri": "https://localhost:8080/",
          "height": 283
        },
        "id": "UaBAefaZLPU5",
        "outputId": "d9524760-0b4f-4fe8-d437-9104e07f0b56"
      },
      "id": "UaBAefaZLPU5",
      "execution_count": null,
      "outputs": [
        {
          "output_type": "execute_result",
          "data": {
            "text/plain": [
              "<matplotlib.legend.Legend at 0x7f9fdbfd4790>"
            ]
          },
          "metadata": {},
          "execution_count": 42
        },
        {
          "output_type": "display_data",
          "data": {
            "text/plain": [
              "<Figure size 432x288 with 1 Axes>"
            ],
            "image/png": "[encoded data removed]"
          },
          "metadata": {
            "needs_background": "light"
          }
        }
      ]
    }
  ],
  "metadata": {
    "kernelspec": {
      "display_name": "Python 3 (ipykernel)",
      "language": "python",
      "name": "python3"
    },
    "language_info": {
      "codemirror_mode": {
        "name": "ipython",
        "version": 3
      },
      "file_extension": ".py",
      "mimetype": "text/x-python",
      "name": "python",
      "nbconvert_exporter": "python",
      "pygments_lexer": "ipython3",
      "version": "3.9.12"
    },
    "colab": {
      "provenance": [],
      "include_colab_link": true
    },
    "gpuClass": "standard",
    "accelerator": "GPU"
  },
  "nbformat": 4,
  "nbformat_minor": 5
}